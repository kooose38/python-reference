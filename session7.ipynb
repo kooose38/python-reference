{
  "nbformat": 4,
  "nbformat_minor": 0,
  "metadata": {
    "colab": {
      "name": "session7.ipynb",
      "provenance": [],
      "authorship_tag": "ABX9TyOSWwTO8WSSUC5dIOTe5EhG",
      "include_colab_link": true
    },
    "kernelspec": {
      "name": "python3",
      "display_name": "Python 3"
    }
  },
  "cells": [
    {
      "cell_type": "markdown",
      "metadata": {
        "id": "view-in-github",
        "colab_type": "text"
      },
      "source": [
        "<a href=\"https://colab.research.google.com/github/kooose38/python-reference/blob/master/session7.ipynb\" target=\"_parent\"><img src=\"https://colab.research.google.com/assets/colab-badge.svg\" alt=\"Open In Colab\"/></a>"
      ]
    },
    {
      "cell_type": "markdown",
      "metadata": {
        "id": "bkaWYCIFyUmI"
      },
      "source": [
        "# 入力と出力\r\n",
        "\r\n",
        "### 見やすくformatする"
      ]
    },
    {
      "cell_type": "markdown",
      "metadata": {
        "id": "ZBKiNR7g0JZu"
      },
      "source": [
        "\r\n",
        "\r\n",
        "1.   f\r\n",
        "2.   format\r\n",
        "\r\n"
      ]
    },
    {
      "cell_type": "code",
      "metadata": {
        "colab": {
          "base_uri": "https://localhost:8080/",
          "height": 35
        },
        "id": "oR-JJZGtyJN9",
        "outputId": "9138739b-c8ce-4c37-cd6a-9d32cc98c15a"
      },
      "source": [
        "year=2016\r\n",
        "event='RandomState'\r\n",
        "f'Result of the {year} {event}'"
      ],
      "execution_count": 1,
      "outputs": [
        {
          "output_type": "execute_result",
          "data": {
            "application/vnd.google.colaboratory.intrinsic+json": {
              "type": "string"
            },
            "text/plain": [
              "'Result of the 2016 RandomState'"
            ]
          },
          "metadata": {
            "tags": []
          },
          "execution_count": 1
        }
      ]
    },
    {
      "cell_type": "code",
      "metadata": {
        "colab": {
          "base_uri": "https://localhost:8080/",
          "height": 35
        },
        "id": "Vc0vO1Zm0Yde",
        "outputId": "1cf96305-a3c8-49d7-c553-bd32ddb8b99c"
      },
      "source": [
        "'Yes votes {:1.1f} '.format(year/10)"
      ],
      "execution_count": 7,
      "outputs": [
        {
          "output_type": "execute_result",
          "data": {
            "application/vnd.google.colaboratory.intrinsic+json": {
              "type": "string"
            },
            "text/plain": [
              "'Yes votes 201.6 '"
            ]
          },
          "metadata": {
            "tags": []
          },
          "execution_count": 7
        }
      ]
    },
    {
      "cell_type": "markdown",
      "metadata": {
        "id": "k5SKhXKB9NU7"
      },
      "source": [
        "小数点第３位以下を切り捨て"
      ]
    },
    {
      "cell_type": "code",
      "metadata": {
        "colab": {
          "base_uri": "https://localhost:8080/"
        },
        "id": "vDdMa2Ar3TPs",
        "outputId": "14675322-e816-41e4-e0ef-0346e4cb19fc"
      },
      "source": [
        "import math\r\n",
        "print(f'The value of pi is approximately {math.pi:.3f}.')"
      ],
      "execution_count": 24,
      "outputs": [
        {
          "output_type": "stream",
          "text": [
            "The value of pi is approximately 3.142.\n"
          ],
          "name": "stdout"
        }
      ]
    },
    {
      "cell_type": "markdown",
      "metadata": {
        "id": "nMHYBRl39re4"
      },
      "source": [
        "*'{:10d}'*  \r\n",
        "最低限の文字幅を指定する"
      ]
    },
    {
      "cell_type": "code",
      "metadata": {
        "colab": {
          "base_uri": "https://localhost:8080/"
        },
        "id": "8z1wbibZ9qzk",
        "outputId": "28d3d61b-931e-471e-b3e3-9cc86867f3a6"
      },
      "source": [
        "table={'JOJO':23,'hanako':34,'Dcab':99}\r\n",
        "for key,value in table.items():\r\n",
        "  print(f'{key:10} ==> {value:10d}')"
      ],
      "execution_count": 25,
      "outputs": [
        {
          "output_type": "stream",
          "text": [
            "JOJO       ==>         23\n",
            "hanako     ==>         34\n",
            "Dcab       ==>         99\n"
          ],
          "name": "stdout"
        }
      ]
    },
    {
      "cell_type": "markdown",
      "metadata": {
        "id": "ALbHxYEu-gpA"
      },
      "source": [
        "\r\n",
        "\r\n",
        "\r\n",
        "1.   '!a'...ascii()\r\n",
        "2.   '!s'...str()\r\n",
        "3.   '!r'...repr()\r\n",
        "\r\n",
        "\r\n",
        "\r\n"
      ]
    },
    {
      "cell_type": "code",
      "metadata": {
        "colab": {
          "base_uri": "https://localhost:8080/"
        },
        "id": "V_mS7Pq69ikV",
        "outputId": "630f833b-92bd-4143-e3a8-3995d81b47c2"
      },
      "source": [
        "animals='elephants'\r\n",
        "print(f'My favorite is full of {animals!r}')"
      ],
      "execution_count": 26,
      "outputs": [
        {
          "output_type": "stream",
          "text": [
            "My favorite is full of 'elephants'\n"
          ],
          "name": "stdout"
        }
      ]
    },
    {
      "cell_type": "markdown",
      "metadata": {
        "id": "pift7m-t_Ht_"
      },
      "source": [
        "\r\n",
        "\r\n",
        "---\r\n",
        "### format()\r\n"
      ]
    },
    {
      "cell_type": "code",
      "metadata": {
        "colab": {
          "base_uri": "https://localhost:8080/"
        },
        "id": "YQgwBEnh9ibo",
        "outputId": "e3ff3e9c-de85-4720-a501-e42ae4f9f014"
      },
      "source": [
        "print('{1} and {0} '.format('spam','eggs'))\r\n",
        "\r\n",
        "print('This is {food} of {sample},aisatsu is {0}'.format('hello',food='spam',sample='hobbies'))"
      ],
      "execution_count": 31,
      "outputs": [
        {
          "output_type": "stream",
          "text": [
            "eggs and spam \n",
            "This is spam of hobbies,aisatsu is hello\n"
          ],
          "name": "stdout"
        }
      ]
    },
    {
      "cell_type": "markdown",
      "metadata": {
        "id": "0SjSsI0cAbZg"
      },
      "source": [
        "辞書型の応用"
      ]
    },
    {
      "cell_type": "code",
      "metadata": {
        "colab": {
          "base_uri": "https://localhost:8080/"
        },
        "id": "v6Tnhco49iPO",
        "outputId": "1e24e88c-3fb1-4a05-d67f-8629f04afa2b"
      },
      "source": [
        "table={'JOJO':23,'hanako':34,'Dcab':99}\r\n",
        "\r\n",
        "print('Jack: {0[Dcab]:d} ,JOJO: {0[JOJO]:d} ,hanako: {0[hanako]:d}'.format(table))\r\n",
        "\r\n",
        "print('Jack: {Dcab:d}, JOJO: {JOJO:d}, hanako: {hanako:d}'.format(table))"
      ],
      "execution_count": 34,
      "outputs": [
        {
          "output_type": "stream",
          "text": [
            "Jack: 99 ,JOJO: 23 ,hanako: 34\n"
          ],
          "name": "stdout"
        }
      ]
    },
    {
      "cell_type": "markdown",
      "metadata": {
        "id": "A8l6RkIBCHUI"
      },
      "source": [
        "インデント設定により、フォーマットされた例\r\n",
        "\r\n",
        "手作業でのフォーマットされた例\r\n",
        "\r\n",
        "\r\n",
        "\r\n",
        "```\r\n",
        "# repr().rjust(2)\r\n",
        "```\r\n",
        "文字変換後に、空白を２文字分としてright寄せにする。  \r\n",
        "つまり、左側に空白を追加する形になる。  \r\n",
        "なお、print()はdefaultで１文字分の空白が用意されているので注意。  \r\n",
        "\r\n"
      ]
    },
    {
      "cell_type": "code",
      "metadata": {
        "colab": {
          "base_uri": "https://localhost:8080/"
        },
        "id": "uiTGLjQgAY2t",
        "outputId": "0538a39a-67b9-4ff9-901f-f1f5577358c6"
      },
      "source": [
        "for x in range(1,11):\r\n",
        "  print('{0:2d} {1:3d} {2:4d}'.format(x,x*x,x*x*x))"
      ],
      "execution_count": 38,
      "outputs": [
        {
          "output_type": "stream",
          "text": [
            " 1   1    1\n",
            " 2   4    8\n",
            " 3   9   27\n",
            " 4  16   64\n",
            " 5  25  125\n",
            " 6  36  216\n",
            " 7  49  343\n",
            " 8  64  512\n",
            " 9  81  729\n",
            "10 100 1000\n"
          ],
          "name": "stdout"
        }
      ]
    },
    {
      "cell_type": "code",
      "metadata": {
        "colab": {
          "base_uri": "https://localhost:8080/"
        },
        "id": "rrXBjoQaAYzO",
        "outputId": "b84507d4-9832-441d-8f56-a3793f6f477d"
      },
      "source": [
        "for x in range(1,11):\r\n",
        "  print(repr(x).rjust(2),repr(x*x).rjust(3),end=' ')\r\n",
        "  print(repr(x*x*x).rjust(4))"
      ],
      "execution_count": 44,
      "outputs": [
        {
          "output_type": "stream",
          "text": [
            " 1   1    1\n",
            " 2   4    8\n",
            " 3   9   27\n",
            " 4  16   64\n",
            " 5  25  125\n",
            " 6  36  216\n",
            " 7  49  343\n",
            " 8  64  512\n",
            " 9  81  729\n",
            "10 100 1000\n"
          ],
          "name": "stdout"
        }
      ]
    },
    {
      "cell_type": "markdown",
      "metadata": {
        "id": "voFBDHjgD3ma"
      },
      "source": [
        "\r\n",
        "\r\n",
        "```\r\n",
        "# str.zfill(5)\r\n",
        "```\r\n",
        "全体を５文字の文字列として、足りない分を **0** で埋める\r\n",
        "\r\n"
      ]
    },
    {
      "cell_type": "markdown",
      "metadata": {
        "id": "lkbRXz83Ecl4"
      },
      "source": [
        ""
      ]
    },
    {
      "cell_type": "code",
      "metadata": {
        "colab": {
          "base_uri": "https://localhost:8080/",
          "height": 35
        },
        "id": "CN9MZCMYD08h",
        "outputId": "fc3c37e6-eab9-4d0a-d7db-919dad620b45"
      },
      "source": [
        "\"12\".zfill(5)"
      ],
      "execution_count": 47,
      "outputs": [
        {
          "output_type": "execute_result",
          "data": {
            "application/vnd.google.colaboratory.intrinsic+json": {
              "type": "string"
            },
            "text/plain": [
              "'00012'"
            ]
          },
          "metadata": {
            "tags": []
          },
          "execution_count": 47
        }
      ]
    },
    {
      "cell_type": "code",
      "metadata": {
        "colab": {
          "base_uri": "https://localhost:8080/",
          "height": 35
        },
        "id": "lCQT1nk6Edw4",
        "outputId": "acd69654-e397-4f03-f0a9-6e224d15c21f"
      },
      "source": [
        "'3.12345677'.zfill(10)"
      ],
      "execution_count": 48,
      "outputs": [
        {
          "output_type": "execute_result",
          "data": {
            "application/vnd.google.colaboratory.intrinsic+json": {
              "type": "string"
            },
            "text/plain": [
              "'3.12345677'"
            ]
          },
          "metadata": {
            "tags": []
          },
          "execution_count": 48
        }
      ]
    },
    {
      "cell_type": "markdown",
      "metadata": {
        "id": "DyUyGnfM04_k"
      },
      "source": [
        "\r\n",
        "\r\n",
        "---\r\n",
        "\r\n",
        "\r\n",
        "文字列に変換する関数\r\n",
        "\r\n",
        "1.   str()...人に読みやすく自動変換する\r\n",
        "2.   repr()...インタープリタに読める文字に変換\r\n",
        "\r\n"
      ]
    },
    {
      "cell_type": "code",
      "metadata": {
        "colab": {
          "base_uri": "https://localhost:8080/",
          "height": 35
        },
        "id": "phptOtDQ0nR9",
        "outputId": "893cd540-dd1f-41ec-c128-9928d3a567af"
      },
      "source": [
        "s='Hello, world'\r\n",
        "str(s)"
      ],
      "execution_count": 10,
      "outputs": [
        {
          "output_type": "execute_result",
          "data": {
            "application/vnd.google.colaboratory.intrinsic+json": {
              "type": "string"
            },
            "text/plain": [
              "'Hello, world'"
            ]
          },
          "metadata": {
            "tags": []
          },
          "execution_count": 10
        }
      ]
    },
    {
      "cell_type": "code",
      "metadata": {
        "colab": {
          "base_uri": "https://localhost:8080/",
          "height": 35
        },
        "id": "hN-RzlbJ1TwK",
        "outputId": "b3b385d2-6215-4de3-fa7d-b05489a3186e"
      },
      "source": [
        "repr(s)"
      ],
      "execution_count": 11,
      "outputs": [
        {
          "output_type": "execute_result",
          "data": {
            "application/vnd.google.colaboratory.intrinsic+json": {
              "type": "string"
            },
            "text/plain": [
              "\"'Hello, world'\""
            ]
          },
          "metadata": {
            "tags": []
          },
          "execution_count": 11
        }
      ]
    },
    {
      "cell_type": "code",
      "metadata": {
        "colab": {
          "base_uri": "https://localhost:8080/",
          "height": 35
        },
        "id": "IJ8tkT4Z1U91",
        "outputId": "416d154f-f1e4-41cd-f0e1-b9dd77e50862"
      },
      "source": [
        "str(1/7)"
      ],
      "execution_count": 12,
      "outputs": [
        {
          "output_type": "execute_result",
          "data": {
            "application/vnd.google.colaboratory.intrinsic+json": {
              "type": "string"
            },
            "text/plain": [
              "'0.14285714285714285'"
            ]
          },
          "metadata": {
            "tags": []
          },
          "execution_count": 12
        }
      ]
    },
    {
      "cell_type": "code",
      "metadata": {
        "colab": {
          "base_uri": "https://localhost:8080/"
        },
        "id": "PVw5llMx1bsG",
        "outputId": "5825b8ec-66dd-445f-a569-65ca3b14052e"
      },
      "source": [
        "hello='hello, world\\n'\r\n",
        "print(hello)\r\n",
        "hellos=repr(hello)\r\n",
        "print(hellos)"
      ],
      "execution_count": 15,
      "outputs": [
        {
          "output_type": "stream",
          "text": [
            "hello, world\n",
            "\n",
            "'hello, world\\n'\n"
          ],
          "name": "stdout"
        }
      ]
    },
    {
      "cell_type": "code",
      "metadata": {
        "colab": {
          "base_uri": "https://localhost:8080/",
          "height": 35
        },
        "id": "_ZYtz8uy1mxn",
        "outputId": "5403c8ee-1576-447b-eef9-fcdfd478be92"
      },
      "source": [
        "repr((12,23,('hello','world')))"
      ],
      "execution_count": 21,
      "outputs": [
        {
          "output_type": "execute_result",
          "data": {
            "application/vnd.google.colaboratory.intrinsic+json": {
              "type": "string"
            },
            "text/plain": [
              "\"(12, 23, ('hello', 'world'))\""
            ]
          },
          "metadata": {
            "tags": []
          },
          "execution_count": 21
        }
      ]
    },
    {
      "cell_type": "markdown",
      "metadata": {
        "id": "HZxy7gGpE1Wf"
      },
      "source": [
        "\r\n",
        "\r\n",
        "---\r\n",
        "## fileの読み書きをする\r\n",
        "\r\n",
        "\r\n",
        "\r\n",
        "```\r\n",
        "# open(filename,mode)\r\n",
        "```\r\n",
        "\r\n",
        "\r\n",
        "> modeには、\r\n",
        "\r\n",
        "\r\n",
        "1.   'w'　書き込み\r\n",
        "2.   'r'　読み取り\r\n",
        "3.   'a'　追記\r\n",
        "4.   'r+'　読み書き\r\n",
        "4.   'b'　バイナリモード、Byteを返す\r\n",
        "\r\n",
        "\r\n",
        "\r\n",
        "> **with構文**  \r\n",
        "処理中に例外が発生しても、最後に必ずfileをとじることを保証して実行される。  \r\n",
        "close()メソッド後にread(),writeなどを使用すると構文エラーになる。\r\n",
        "\r\n",
        "\r\n",
        "\r\n",
        "\r\n",
        "\r\n",
        "\r\n"
      ]
    },
    {
      "cell_type": "code",
      "metadata": {
        "id": "jvJoX5Eu2EKV"
      },
      "source": [
        "f=open('workfile','w')\r\n",
        "\r\n",
        "with open('workfile') as f:\r\n",
        "  read_date=f.read()\r\n",
        "\r\n",
        "f.close()"
      ],
      "execution_count": null,
      "outputs": []
    },
    {
      "cell_type": "markdown",
      "metadata": {
        "id": "_F_qTifnGzAf"
      },
      "source": [
        "ここからは *f* がすでに定義されているものとする"
      ]
    },
    {
      "cell_type": "markdown",
      "metadata": {
        "id": "qIM6G-0bHLNb"
      },
      "source": [
        "\r\n",
        "\r\n",
        "> read(size=)  \r\n",
        "size=読み込む文字数,-やNoneならすべての文字を参照する。  \r\n",
        "fileの終端に達した場合は、*\\'\\'* を返す\r\n",
        "\r\n",
        "\r\n"
      ]
    },
    {
      "cell_type": "code",
      "metadata": {
        "id": "RqsW7UBiGydt"
      },
      "source": [
        "f.read()"
      ],
      "execution_count": null,
      "outputs": []
    },
    {
      "cell_type": "markdown",
      "metadata": {
        "id": "HPvhjU-MH6PE"
      },
      "source": [
        "\r\n",
        "\r\n",
        "> readline()  \r\n",
        "\\nまでの一行を返す。空の文字列を返したら、終端に達したことを示す。\r\n",
        "\r\n",
        "\r\n"
      ]
    },
    {
      "cell_type": "code",
      "metadata": {
        "id": "DlrvJ1ZjGdsn"
      },
      "source": [
        "f.readline()"
      ],
      "execution_count": null,
      "outputs": []
    },
    {
      "cell_type": "markdown",
      "metadata": {
        "id": "pN-MrICbIbdU"
      },
      "source": [
        "また、  \r\n",
        "for文によるreadline()の効率化。\r\n",
        "\r\n",
        "その他に、リスト形式で読み込む。\r\n",
        "\r\n",
        "\r\n",
        "```\r\n",
        "# list(f) f.readlines()\r\n",
        "```\r\n",
        "\r\n"
      ]
    },
    {
      "cell_type": "code",
      "metadata": {
        "id": "yBqdwF7SGdkQ"
      },
      "source": [
        "for line in f:\r\n",
        "  print(line, end=' ')"
      ],
      "execution_count": null,
      "outputs": []
    },
    {
      "cell_type": "markdown",
      "metadata": {
        "id": "CgkqqLP6I6FC"
      },
      "source": [
        "\r\n",
        "\r\n",
        "\r\n",
        "> ファイルに書き込み、書き込まれた *文字数* を返す\r\n",
        "\r\n",
        "\r\n",
        "```\r\n",
        "# write()\r\n",
        "```\r\n",
        "\r\n"
      ]
    },
    {
      "cell_type": "code",
      "metadata": {
        "id": "BuBv8y-TGdMI"
      },
      "source": [
        "f.write('This is s test\\n')\r\n",
        "# 15\r\n",
        "\r\n",
        "#ほかの型は一度文字列に変換してから、実行する。\r\n",
        "value=('the answer',42)\r\n",
        "s=str(value)\r\n",
        "f.write(s)"
      ],
      "execution_count": null,
      "outputs": []
    },
    {
      "cell_type": "markdown",
      "metadata": {
        "id": "Kzg7KcbnNYcv"
      },
      "source": [
        "\r\n",
        "\r\n",
        "\r\n",
        "> fileのpointerの位置変更  \r\n",
        "offset=基準点からどれだけ進めたところをpointerとするか  \r\n",
        "whence=  0 | 1 | 2\r\n",
        "\r\n",
        "0.   default,ファイルの先頭から\r\n",
        "1.   今のファイル位置から\r\n",
        "2.   終端から\r\n",
        "\r\n",
        "```\r\n",
        "# f.seek(offset,whence)\r\n",
        "```\r\n",
        "\r\n",
        "\r\n"
      ]
    },
    {
      "cell_type": "code",
      "metadata": {
        "id": "wke3pUv1Ja4i"
      },
      "source": [
        "f.seek(5)\r\n",
        "f.seek(-3,2)\r\n",
        "f.read(1)"
      ],
      "execution_count": null,
      "outputs": []
    },
    {
      "cell_type": "markdown",
      "metadata": {
        "id": "y3fdjACXPOxk"
      },
      "source": [
        "\r\n",
        "\r\n",
        "---\r\n",
        "\r\n",
        "\r\n",
        "## JSON\r\n",
        "\r\n",
        "**シリアリズ** = Pythonのデータ構造から文字列に変換すること  \r\n",
        "**デシリアリズ** = 文字列変換からでーたを再構築すること  \r\n"
      ]
    },
    {
      "cell_type": "code",
      "metadata": {
        "colab": {
          "base_uri": "https://localhost:8080/",
          "height": 35
        },
        "id": "0ejm56wmJavm",
        "outputId": "0d653afc-fdd1-4a8d-b9ad-72a6b633447d"
      },
      "source": [
        "import json\r\n",
        "json.dumps([1,'hello','aisatsu'])"
      ],
      "execution_count": 52,
      "outputs": [
        {
          "output_type": "execute_result",
          "data": {
            "application/vnd.google.colaboratory.intrinsic+json": {
              "type": "string"
            },
            "text/plain": [
              "'[1, \"hello\", \"aisatsu\"]'"
            ]
          },
          "metadata": {
            "tags": []
          },
          "execution_count": 52
        }
      ]
    },
    {
      "cell_type": "code",
      "metadata": {
        "id": "SbIy2VTcPGdY"
      },
      "source": [
        "#書き込み用\r\n",
        "json.dump(letter,f)\r\n",
        "#読み込み用\r\n",
        "x=json.load(f)"
      ],
      "execution_count": null,
      "outputs": []
    }
  ]
}