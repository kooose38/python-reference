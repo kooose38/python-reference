{
  "nbformat": 4,
  "nbformat_minor": 0,
  "metadata": {
    "colab": {
      "name": "session6.ipynb",
      "provenance": [],
      "authorship_tag": "ABX9TyNe4t5Ei0wN0nQzswHfG+sj",
      "include_colab_link": true
    },
    "kernelspec": {
      "name": "python3",
      "display_name": "Python 3"
    }
  },
  "cells": [
    {
      "cell_type": "markdown",
      "metadata": {
        "id": "view-in-github",
        "colab_type": "text"
      },
      "source": [
        "<a href=\"https://colab.research.google.com/github/kooose38/python-reference/blob/master/session6.ipynb\" target=\"_parent\"><img src=\"https://colab.research.google.com/assets/colab-badge.svg\" alt=\"Open In Colab\"/></a>"
      ]
    },
    {
      "cell_type": "markdown",
      "metadata": {
        "id": "k6nu9-LiXFzr"
      },
      "source": [
        ""
      ]
    },
    {
      "cell_type": "markdown",
      "metadata": {
        "id": "CmRy2ZLYV6P9"
      },
      "source": [
        "# 6.モジュール\r\n",
        "\r\n",
        "create　[fibo.py](https://) as file\r\n",
        "\r\n",
        "\r\n",
        "別ファイルからimportした関数、変数を使って異なるファイル間で実行\r\n"
      ]
    },
    {
      "cell_type": "code",
      "metadata": {
        "id": "ng77pWfWUhjy"
      },
      "source": [
        "def fib(n):\r\n",
        "  a,b=0,1\r\n",
        "  while a < n:\r\n",
        "    print(a,end=',')\r\n",
        "    a,b=b,a+b\r\n",
        "\r\n",
        "def fib2(n):\r\n",
        "  result=[]\r\n",
        "  a,b=0,1\r\n",
        "  while a < n:\r\n",
        "    result.append(a)\r\n",
        "    a,b=b,a+b\r\n",
        "  return result"
      ],
      "execution_count": 2,
      "outputs": []
    },
    {
      "cell_type": "code",
      "metadata": {
        "id": "ImHna7IpVMD1"
      },
      "source": [
        "import fibo\r\n",
        "\r\n",
        "fibo.fib(1000)\r\n",
        "fibo.fib2(100)\r\n",
        "fibo.__name__ #'fibo'"
      ],
      "execution_count": null,
      "outputs": []
    },
    {
      "cell_type": "markdown",
      "metadata": {
        "id": "408GTCLnVI9J"
      },
      "source": [
        "変数に代入"
      ]
    },
    {
      "cell_type": "code",
      "metadata": {
        "id": "hpLbpzQuU6Hb"
      },
      "source": [
        "fib=fibo.fib\r\n",
        "fib(100)"
      ],
      "execution_count": null,
      "outputs": []
    },
    {
      "cell_type": "markdown",
      "metadata": {
        "id": "rF28kfiya-Zk"
      },
      "source": [
        "## import文について\r\n",
        "  \r\n",
        "  \r\n",
        "  \r\n",
        "\r\n",
        "\r\n",
        "> あるmoduleの名前を、importを実行しているmoduleのテーブル内に直接取り込む\r\n",
        "\r\n",
        "\r\n",
        "```\r\n",
        "# from fibo import fib,fib2\r\n",
        "```\r\n",
        "\r\n",
        "\r\n",
        "> moduleから定義されている名前を全てimport  \r\n",
        "[_](https://)から始まるものは除かれる点に注意\r\n",
        "\r\n",
        "\r\n",
        "\r\n",
        "```\r\n",
        "# from fibo import *\r\n",
        "```\r\n",
        "\r\n",
        "\r\n",
        "\r\n",
        "\r\n",
        "\r\n",
        "\r\n",
        "\r\n"
      ]
    },
    {
      "cell_type": "code",
      "metadata": {
        "colab": {
          "base_uri": "https://localhost:8080/"
        },
        "id": "y9POeyXHabL2",
        "outputId": "bea56136-a77d-4224-bb1e-6549d273ec02"
      },
      "source": [
        "fib(500)"
      ],
      "execution_count": 4,
      "outputs": [
        {
          "output_type": "stream",
          "text": [
            "0,1,1,2,3,5,8,13,21,34,55,89,144,233,377,"
          ],
          "name": "stdout"
        }
      ]
    },
    {
      "cell_type": "markdown",
      "metadata": {
        "id": "SSUzW1UccS29"
      },
      "source": [
        "**↑これはどちらでも可能**"
      ]
    },
    {
      "cell_type": "markdown",
      "metadata": {
        "id": "EfVIV-XsdBGa"
      },
      "source": [
        "\r\n",
        "\r\n",
        "> asの後ろを直接、importされたmoduleが束縛\r\n",
        "\r\n",
        "\r\n",
        "```\r\n",
        "# import fibo as fib\r\n",
        "```\r\n",
        "\r\n",
        "\r\n",
        "\r\n",
        "\r\n"
      ]
    },
    {
      "cell_type": "code",
      "metadata": {
        "id": "BuRCmDKpabdp"
      },
      "source": [
        "fib.fib(500)"
      ],
      "execution_count": null,
      "outputs": []
    },
    {
      "cell_type": "markdown",
      "metadata": {
        "id": "YJi048vPdd-J"
      },
      "source": [
        "特殊な形として、、\r\n",
        "\r\n",
        "\r\n",
        "\r\n",
        "\r\n",
        "```\r\n",
        "# from fibo import fib as fibonacci\r\n",
        "```\r\n",
        "\r\n",
        "\r\n",
        "\r\n"
      ]
    },
    {
      "cell_type": "code",
      "metadata": {
        "id": "rJ3i7OfjdXN8"
      },
      "source": [
        "fibonacci(100)"
      ],
      "execution_count": null,
      "outputs": []
    },
    {
      "cell_type": "markdown",
      "metadata": {
        "id": "Acb7UU0gfSUM"
      },
      "source": [
        "\r\n",
        "\r\n",
        "---\r\n",
        "\r\n",
        "### moduleをcommandから実行する\r\n",
        "\r\n",
        "\r\n",
        "```\r\n",
        "# python fibo.py <argment>\r\n",
        "```\r\n",
        "\r\n"
      ]
    },
    {
      "cell_type": "code",
      "metadata": {
        "id": "EG4dQndldXX5"
      },
      "source": [
        "import sys\r\n",
        "#PYTHON標準module\r\n",
        "sys.ps1\r\n",
        "#'>>>'\r\n",
        "sys.ps2\r\n",
        "#'...'\r\n",
        "sys.path\r\n",
        "#インタプリが対話モードの参考している環境変数\r\n",
        "sys.path.append('/ufs/guido/lib/python')"
      ],
      "execution_count": null,
      "outputs": []
    },
    {
      "cell_type": "markdown",
      "metadata": {
        "id": "xZUcFzi2jczO"
      },
      "source": [
        "\r\n",
        "\r\n",
        "> **dir()関数**\r\n",
        "\r\n",
        "moduleがどんな名前を定義しているのかを検索\r\n",
        "\r\n"
      ]
    },
    {
      "cell_type": "code",
      "metadata": {
        "id": "EMDIqA9Zjb_N"
      },
      "source": [
        "import fibo,sys\r\n",
        "dir(fibo)\r\n",
        "\r\n",
        "dir(sys)"
      ],
      "execution_count": null,
      "outputs": []
    },
    {
      "cell_type": "markdown",
      "metadata": {
        "id": "D-xF_UV3j_Zx"
      },
      "source": [
        "引数がなければ、現在定義している変数名を *List* で返す"
      ]
    },
    {
      "cell_type": "code",
      "metadata": {
        "colab": {
          "base_uri": "https://localhost:8080/"
        },
        "id": "0fNpMLasjJzw",
        "outputId": "a46a7616-05a9-4851-a512-5757e4e206f2"
      },
      "source": [
        "a=[1,2,3,4,5]\r\n",
        "hello=\"world\"\r\n",
        "dir()"
      ],
      "execution_count": 7,
      "outputs": [
        {
          "output_type": "execute_result",
          "data": {
            "text/plain": [
              "['In',\n",
              " 'Out',\n",
              " '_',\n",
              " '_5',\n",
              " '_6',\n",
              " '__',\n",
              " '___',\n",
              " '__builtin__',\n",
              " '__builtins__',\n",
              " '__doc__',\n",
              " '__loader__',\n",
              " '__name__',\n",
              " '__package__',\n",
              " '__spec__',\n",
              " '_dh',\n",
              " '_i',\n",
              " '_i1',\n",
              " '_i2',\n",
              " '_i3',\n",
              " '_i4',\n",
              " '_i5',\n",
              " '_i6',\n",
              " '_i7',\n",
              " '_ih',\n",
              " '_ii',\n",
              " '_iii',\n",
              " '_oh',\n",
              " '_sh',\n",
              " 'a',\n",
              " 'exit',\n",
              " 'fib',\n",
              " 'fib2',\n",
              " 'get_ipython',\n",
              " 'hello',\n",
              " 'quit']"
            ]
          },
          "metadata": {
            "tags": []
          },
          "execution_count": 7
        }
      ]
    },
    {
      "cell_type": "markdown",
      "metadata": {
        "id": "4A8k_x1TlDRt"
      },
      "source": [
        "\r\n",
        "\r\n",
        "\r\n",
        "> dir(builtins)\r\n",
        "\r\n",
        "\r\n",
        "\r\n",
        "\r\n",
        "\r\n",
        "組み込みの関数、変数を全て *List* で表示\r\n",
        " "
      ]
    },
    {
      "cell_type": "code",
      "metadata": {
        "id": "x-B-tPSFjJ27"
      },
      "source": [
        "import builtins\r\n",
        "dir(builtins)"
      ],
      "execution_count": null,
      "outputs": []
    },
    {
      "cell_type": "markdown",
      "metadata": {
        "id": "mxZ6acplpuv1"
      },
      "source": [
        "moduleの優先順位\r\n",
        "\r\n",
        "\r\n",
        "  \r\n",
        "1.   自分のディレクトリー内のmoduleからimport \r\n",
        "2.   1が存在しないなら、標準ライブラリのファイルからimport\r\n",
        "\r\n",
        "\r\n",
        "moduleの読み込み高速化のため、\r\n",
        "\r\n",
        "\r\n",
        "> __pycache__ディレクトリの\r\n",
        "\r\n",
        "```\r\n",
        "# module.version.pyc\r\n",
        "```\r\n",
        "としてキャッシュする。\r\n",
        "  \r\n",
        "ex)   *__pychace__/spam.cpython-33.pyc* としてキャッシュ。\r\n",
        "\r\n",
        "\r\n",
        "\r\n",
        "---\r\n",
        "\r\n",
        "\r\n",
        "\r\n",
        "\r\n",
        "  \r\n",
        "## パッケージ\r\n",
        "\r\n",
        "\r\n",
        "\r\n",
        ">  \\__init__.pyを各ファイルに配置する。  \r\n",
        "これにより、後に存在するmoduleが隠れないように動作させるために必要\r\n",
        "\r\n",
        "  \r\n",
        "また、\r\n",
        "\r\n",
        "\r\n",
        "\r\n",
        "> itemはpackageでも、functions,class名でも可能\r\n",
        "\r\n",
        "\r\n",
        "```\r\n",
        "# from package import functions\r\n",
        "```\r\n",
        "だが、\r\n",
        "\r\n",
        "\r\n",
        "> 最後のfunction以外は、すべて **Package** でなければならない\r\n",
        "\r\n",
        "\r\n",
        "```\r\n",
        "# import item.subitems.function\r\n",
        "```\r\n",
        "\r\n",
        "\r\n",
        "\r\n",
        "\r\n"
      ]
    },
    {
      "cell_type": "markdown",
      "metadata": {
        "id": "kZPjaERXuy7r"
      },
      "source": [
        "\r\n",
        "\r\n",
        "### * \r\n",
        "\r\n",
        "> 要素内のすべてのmoduleをimportする\r\n",
        "\r\n",
        "\r\n",
        "```\r\n",
        "# from sound.effects import *\r\n",
        "```\r\n",
        "\r\n",
        "ただし、\r\n",
        "\r\n",
        "\r\n",
        "> \\__init__.pyに\\__all__を定義しなければならない  \r\n",
        "\\__all_\\_\\= ['Package','functions','class']  \r\n",
        "\r\n",
        "\r\n",
        "\r\n",
        "\r\n",
        "\r\n",
        "\r\n"
      ]
    },
    {
      "cell_type": "markdown",
      "metadata": {
        "id": "MqeVR45bVKy8"
      },
      "source": [
        ""
      ]
    }
  ]
}