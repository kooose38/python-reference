{
  "nbformat": 4,
  "nbformat_minor": 0,
  "metadata": {
    "colab": {
      "name": "session5.ipynb",
      "provenance": [],
      "authorship_tag": "ABX9TyPqS59A94/RYj7k6wMbdqFG",
      "include_colab_link": true
    },
    "kernelspec": {
      "name": "python3",
      "display_name": "Python 3"
    }
  },
  "cells": [
    {
      "cell_type": "markdown",
      "metadata": {
        "id": "view-in-github",
        "colab_type": "text"
      },
      "source": [
        "<a href=\"https://colab.research.google.com/github/kooose38/python-reference/blob/master/session5.ipynb\" target=\"_parent\"><img src=\"https://colab.research.google.com/assets/colab-badge.svg\" alt=\"Open In Colab\"/></a>"
      ]
    },
    {
      "cell_type": "markdown",
      "metadata": {
        "id": "bIYe4yF5kwt9"
      },
      "source": [
        "# Listへの操作\r\n",
        "\r\n",
        "**list = [ 1,2,3,4,5 ]**\r\n",
        "\r\n",
        "\r\n",
        "> 末尾に要素を追加\r\n",
        "```\r\n",
        " list.append(6)\r\n",
        "```\r\n",
        "> int以外の要素を追加する\r\n",
        "```\r\n",
        " list.extend('2')\r\n",
        "```\r\n",
        "> 直前のi番目に追加する\r\n",
        "```\r\n",
        " list.insert(i, 7)\r\n",
        "```\r\n",
        "> 同じ要素を削除する\r\n",
        "```\r\n",
        " list.remove(2)\r\n",
        "```\r\n",
        "> i番目を削除する。指定がなければ末尾を削除。\r\n",
        "```\r\n",
        " list.pop(i)\r\n",
        "```\r\n",
        "> すべてを削除する。[ del list[:] ]()と等価。\r\n",
        "```\r\n",
        " list.clear()\r\n",
        "```\r\n",
        "> 同じ要素のindex数を返す\r\n",
        "```\r\n",
        " list.index(3)\r\n",
        "```\r\n",
        "> 要素の個数を返す\r\n",
        "```\r\n",
        " list.count(2)\r\n",
        "```\r\n",
        "> sortする。ただしデータ型が異なる場合はsortしない。\r\n",
        "```\r\n",
        " list.sort(*, key=None, reverse=False)\r\n",
        "```\r\n",
        "> 要素を逆に並び替える\r\n",
        "```\r\n",
        " list.reverse()\r\n",
        "```\r\n",
        "> copyする。[ a[:] ]()と等価。\r\n",
        "```\r\n",
        " list.copy()\r\n",
        "```\r\n",
        "\r\n"
      ]
    },
    {
      "cell_type": "code",
      "metadata": {
        "colab": {
          "base_uri": "https://localhost:8080/"
        },
        "id": "IGI_Olp9jzfs",
        "outputId": "62707b50-218d-4178-b6a3-d2d4ac91a742"
      },
      "source": [
        "fruits = ['apple', 'banana', 'apple', 'orange', 'grape', 'banana', 'apple']\r\n",
        "fruits.count('apple'),fruits.index('orange'),fruits.index('banana', 2) # index２以降のbananaのindex数"
      ],
      "execution_count": 14,
      "outputs": [
        {
          "output_type": "execute_result",
          "data": {
            "text/plain": [
              "(3, 3, 5)"
            ]
          },
          "metadata": {
            "tags": []
          },
          "execution_count": 14
        }
      ]
    },
    {
      "cell_type": "code",
      "metadata": {
        "id": "05K4kF1Ole04"
      },
      "source": [
        "fruits.reverse()"
      ],
      "execution_count": 15,
      "outputs": []
    },
    {
      "cell_type": "code",
      "metadata": {
        "colab": {
          "base_uri": "https://localhost:8080/"
        },
        "id": "c7adqP3Dn641",
        "outputId": "3415a4cf-7f2b-482b-afaa-163a12602d51"
      },
      "source": [
        "fruits.append('banana')\r\n",
        "fruits"
      ],
      "execution_count": 16,
      "outputs": [
        {
          "output_type": "execute_result",
          "data": {
            "text/plain": [
              "['apple', 'banana', 'grape', 'orange', 'apple', 'banana', 'apple', 'banana']"
            ]
          },
          "metadata": {
            "tags": []
          },
          "execution_count": 16
        }
      ]
    },
    {
      "cell_type": "code",
      "metadata": {
        "colab": {
          "base_uri": "https://localhost:8080/"
        },
        "id": "FvqAEOcEn-M0",
        "outputId": "4a9121a6-8208-4b73-ae63-9fcfce9db255"
      },
      "source": [
        "fruits.sort()\r\n",
        "fruits"
      ],
      "execution_count": 17,
      "outputs": [
        {
          "output_type": "execute_result",
          "data": {
            "text/plain": [
              "['apple', 'apple', 'apple', 'banana', 'banana', 'banana', 'grape', 'orange']"
            ]
          },
          "metadata": {
            "tags": []
          },
          "execution_count": 17
        }
      ]
    },
    {
      "cell_type": "code",
      "metadata": {
        "colab": {
          "base_uri": "https://localhost:8080/"
        },
        "id": "ClzR-uJboGU8",
        "outputId": "02425586-55e3-4766-d84f-8ded0b244d4b"
      },
      "source": [
        "fruits.pop()\r\n",
        "fruits"
      ],
      "execution_count": 18,
      "outputs": [
        {
          "output_type": "execute_result",
          "data": {
            "text/plain": [
              "['apple', 'apple', 'apple', 'banana', 'banana', 'banana', 'grape']"
            ]
          },
          "metadata": {
            "tags": []
          },
          "execution_count": 18
        }
      ]
    },
    {
      "cell_type": "markdown",
      "metadata": {
        "id": "czRjmGqao4IB"
      },
      "source": [
        "**高速な追加(append)と取り出し(pop)の実現**\r\n",
        "\r\n",
        "\r\n",
        "```\r\n",
        " from collections import deque\r\n",
        "```\r\n",
        "\r\n"
      ]
    },
    {
      "cell_type": "code",
      "metadata": {
        "colab": {
          "base_uri": "https://localhost:8080/",
          "height": 35
        },
        "id": "xqsYa1fWoMlM",
        "outputId": "e8ceaf48-f2b8-4e0b-941a-9ef85986d470"
      },
      "source": [
        "from collections import deque\r\n",
        "queue = deque(['Elick', 'John', 'Micheal'])\r\n",
        "queue.append('Terry')\r\n",
        "queue.append('Graham')\r\n",
        "\r\n",
        "queue.popleft()"
      ],
      "execution_count": 19,
      "outputs": [
        {
          "output_type": "execute_result",
          "data": {
            "application/vnd.google.colaboratory.intrinsic+json": {
              "type": "string"
            },
            "text/plain": [
              "'Elick'"
            ]
          },
          "metadata": {
            "tags": []
          },
          "execution_count": 19
        }
      ]
    },
    {
      "cell_type": "code",
      "metadata": {
        "colab": {
          "base_uri": "https://localhost:8080/",
          "height": 35
        },
        "id": "A_bgF9ONpcHf",
        "outputId": "58d1aa8b-9b40-4694-91f5-e07b9190d955"
      },
      "source": [
        "queue.popleft() # queue.pop()も可能"
      ],
      "execution_count": 20,
      "outputs": [
        {
          "output_type": "execute_result",
          "data": {
            "application/vnd.google.colaboratory.intrinsic+json": {
              "type": "string"
            },
            "text/plain": [
              "'John'"
            ]
          },
          "metadata": {
            "tags": []
          },
          "execution_count": 20
        }
      ]
    },
    {
      "cell_type": "code",
      "metadata": {
        "colab": {
          "base_uri": "https://localhost:8080/"
        },
        "id": "3zGnKRYxpfAk",
        "outputId": "6f9ea841-c00f-4774-aa7c-d02e58f7f582"
      },
      "source": [
        "queue"
      ],
      "execution_count": 21,
      "outputs": [
        {
          "output_type": "execute_result",
          "data": {
            "text/plain": [
              "deque(['Micheal', 'Terry', 'Graham'])"
            ]
          },
          "metadata": {
            "tags": []
          },
          "execution_count": 21
        }
      ]
    },
    {
      "cell_type": "markdown",
      "metadata": {
        "id": "AF9rozeXqgml"
      },
      "source": [
        "\r\n",
        "\r\n",
        "---\r\n",
        "### Listの内包\r\n",
        "\r\n",
        "> 基本形としては、\r\n",
        "\r\n",
        "\r\n",
        "```\r\n",
        " [ x for x in range(10) ]\r\n",
        "```\r\n",
        "ただし、 [ , ]() で式を区切ると**エラー**になるので注意。\r\n"
      ]
    },
    {
      "cell_type": "code",
      "metadata": {
        "colab": {
          "base_uri": "https://localhost:8080/"
        },
        "id": "e-lgAGNVpfns",
        "outputId": "22148189-cab3-4e1a-8269-b5e09a9639b9"
      },
      "source": [
        "squares = []\r\n",
        "\r\n",
        "for x in range(1,10):\r\n",
        "  squares.append(x**2)\r\n",
        "squares"
      ],
      "execution_count": 23,
      "outputs": [
        {
          "output_type": "execute_result",
          "data": {
            "text/plain": [
              "[1, 4, 9, 16, 25, 36, 49, 64, 81]"
            ]
          },
          "metadata": {
            "tags": []
          },
          "execution_count": 23
        }
      ]
    },
    {
      "cell_type": "markdown",
      "metadata": {
        "id": "8B880kVhp-S8"
      },
      "source": [
        "上の処理を簡素化したもの"
      ]
    },
    {
      "cell_type": "code",
      "metadata": {
        "id": "p_XbgLkRqM8o"
      },
      "source": [
        "squares = list(map(lambda x: x**2, range(1,10)))\r\n",
        "squares"
      ],
      "execution_count": null,
      "outputs": []
    },
    {
      "cell_type": "markdown",
      "metadata": {
        "id": "gwJIV9_Pqc5N"
      },
      "source": [
        "or"
      ]
    },
    {
      "cell_type": "code",
      "metadata": {
        "colab": {
          "base_uri": "https://localhost:8080/"
        },
        "id": "T7ag9iikp87E",
        "outputId": "b42f1c64-085f-4385-c40f-5f0fcfd12478"
      },
      "source": [
        "squares = [x**2 for x in range(1,10)]\r\n",
        "squares"
      ],
      "execution_count": 24,
      "outputs": [
        {
          "output_type": "execute_result",
          "data": {
            "text/plain": [
              "[1, 4, 9, 16, 25, 36, 49, 64, 81]"
            ]
          },
          "metadata": {
            "tags": []
          },
          "execution_count": 24
        }
      ]
    },
    {
      "cell_type": "code",
      "metadata": {
        "colab": {
          "base_uri": "https://localhost:8080/"
        },
        "id": "gIjytJ80qMEc",
        "outputId": "0eb0070d-43d9-4de6-cf12-dc6c73765664"
      },
      "source": [
        "combs = []\r\n",
        "for x in [1, 2, 3]:\r\n",
        "  for y in [3, 1, 4]:\r\n",
        "    if x != y:\r\n",
        "      combs.append((x, y))\r\n",
        "combs\r\n",
        "\r\n",
        "#上下ともに同義\r\n",
        "\r\n",
        "[(x, y) for x in [1, 2, 3] for y in [3, 1, 4] if x != y]"
      ],
      "execution_count": 28,
      "outputs": [
        {
          "output_type": "execute_result",
          "data": {
            "text/plain": [
              "[(1, 3), (1, 4), (2, 3), (2, 1), (2, 4), (3, 1), (3, 4)]"
            ]
          },
          "metadata": {
            "tags": []
          },
          "execution_count": 28
        }
      ]
    },
    {
      "cell_type": "markdown",
      "metadata": {
        "id": "sXEaoSOFrhgb"
      },
      "source": [
        "そのほかに、、、\r\n",
        "\r\n",
        "\r\n",
        "\r\n",
        "> 正の値に変換\r\n",
        "```\r\n",
        "　abs()\r\n",
        "```\r\n",
        "> 空白を削除\r\n",
        "```\r\n",
        "　strip()\r\n",
        "```\r\n",
        "\r\n",
        "\r\n"
      ]
    },
    {
      "cell_type": "code",
      "metadata": {
        "colab": {
          "base_uri": "https://localhost:8080/"
        },
        "id": "TiwE5u7cq6F3",
        "outputId": "7a6ba5eb-dc9c-483f-d455-801088c86d25"
      },
      "source": [
        "vec = [-4, -2, 0, 2, 4]\r\n",
        "[ x**2 for x in vec]"
      ],
      "execution_count": 29,
      "outputs": [
        {
          "output_type": "execute_result",
          "data": {
            "text/plain": [
              "[16, 4, 0, 4, 16]"
            ]
          },
          "metadata": {
            "tags": []
          },
          "execution_count": 29
        }
      ]
    },
    {
      "cell_type": "code",
      "metadata": {
        "colab": {
          "base_uri": "https://localhost:8080/"
        },
        "id": "1Ey_ckBKsfcH",
        "outputId": "c2cfbf3d-11c6-4437-954c-c4e249f04c51"
      },
      "source": [
        "[ abs(x) for x in vec ], [ x for x in vec if x >= 0]"
      ],
      "execution_count": 31,
      "outputs": [
        {
          "output_type": "execute_result",
          "data": {
            "text/plain": [
              "([4, 2, 0, 2, 4], [0, 2, 4])"
            ]
          },
          "metadata": {
            "tags": []
          },
          "execution_count": 31
        }
      ]
    },
    {
      "cell_type": "code",
      "metadata": {
        "colab": {
          "base_uri": "https://localhost:8080/"
        },
        "id": "VGwasQDKskDb",
        "outputId": "d3cd010f-2466-4e28-ffd7-2b26284e3b2c"
      },
      "source": [
        "fruits = [' apple  ', 'banana    ', '   orange ', '     pine']\r\n",
        "\r\n",
        "[ fruit.strip() for fruit in fruits]"
      ],
      "execution_count": 34,
      "outputs": [
        {
          "output_type": "execute_result",
          "data": {
            "text/plain": [
              "['apple', 'banana', 'orange', 'pine']"
            ]
          },
          "metadata": {
            "tags": []
          },
          "execution_count": 34
        }
      ]
    },
    {
      "cell_type": "markdown",
      "metadata": {
        "id": "_4FeHn28tI84"
      },
      "source": [
        "これは、エラー"
      ]
    },
    {
      "cell_type": "code",
      "metadata": {
        "colab": {
          "base_uri": "https://localhost:8080/",
          "height": 134
        },
        "id": "CbZai8ECssiU",
        "outputId": "34c30f41-035a-40fb-b44e-1f8921f91dd2"
      },
      "source": [
        "[ x, x**2 for x in range(5) ]"
      ],
      "execution_count": 35,
      "outputs": [
        {
          "output_type": "error",
          "ename": "SyntaxError",
          "evalue": "ignored",
          "traceback": [
            "\u001b[0;36m  File \u001b[0;32m\"<ipython-input-35-8bcce521adc7>\"\u001b[0;36m, line \u001b[0;32m1\u001b[0m\n\u001b[0;31m    [ x, x**2 for x in range(5) ]\u001b[0m\n\u001b[0m                ^\u001b[0m\n\u001b[0;31mSyntaxError\u001b[0m\u001b[0;31m:\u001b[0m invalid syntax\n"
          ]
        }
      ]
    },
    {
      "cell_type": "code",
      "metadata": {
        "colab": {
          "base_uri": "https://localhost:8080/"
        },
        "id": "j7MIF0TdtPgr",
        "outputId": "4c556b6f-36a7-4600-ea7f-370a436141a9"
      },
      "source": [
        "vec = [[1, 2, 3], [4, 5, 6], [7, 8, 9]]\r\n",
        "\r\n",
        "[ num for i in vec for num in i ] # for文の中でfor文"
      ],
      "execution_count": 36,
      "outputs": [
        {
          "output_type": "execute_result",
          "data": {
            "text/plain": [
              "[1, 2, 3, 4, 5, 6, 7, 8, 9]"
            ]
          },
          "metadata": {
            "tags": []
          },
          "execution_count": 36
        }
      ]
    },
    {
      "cell_type": "code",
      "metadata": {
        "colab": {
          "base_uri": "https://localhost:8080/"
        },
        "id": "cvWZY2M5tejT",
        "outputId": "50818561-9564-4528-ad7e-527d6f58db71"
      },
      "source": [
        "matrix = [\r\n",
        "          [1,2,3,4],\r\n",
        "          [5,6,7,8],\r\n",
        "          [9,10,11,12]\r\n",
        "]\r\n",
        "\r\n",
        "datas = []\r\n",
        "for i in range(len(matrix) + 1): # 0, 1, 2, 3\r\n",
        "  data=[]\r\n",
        "  for num in matrix:\r\n",
        "    new_matrix = num[i]\r\n",
        "    data.append(new_matrix)\r\n",
        "  datas.append(data)\r\n",
        "datas\r\n",
        "\r\n",
        "#上下ともに同義\r\n",
        "\r\n",
        "[ [ num[i] for num in matrix  ] for i in range(len(matrix) + 1)]  # or  list(zip(*matrix)) 配列を分解してくっつける"
      ],
      "execution_count": 48,
      "outputs": [
        {
          "output_type": "execute_result",
          "data": {
            "text/plain": [
              "[[1, 5, 9], [2, 6, 10], [3, 7, 11], [4, 8, 12]]"
            ]
          },
          "metadata": {
            "tags": []
          },
          "execution_count": 48
        }
      ]
    },
    {
      "cell_type": "markdown",
      "metadata": {
        "id": "N5aX2-KDwRGF"
      },
      "source": [
        "### del文"
      ]
    },
    {
      "cell_type": "code",
      "metadata": {
        "colab": {
          "base_uri": "https://localhost:8080/"
        },
        "id": "VYU5Bav4txiL",
        "outputId": "dfbab0a1-2527-4147-e73f-5a1a10a0ce94"
      },
      "source": [
        "a = [-1, 1, 3, 10, 33, 333, 1000]\r\n",
        "\r\n",
        "del a[0]\r\n",
        "a"
      ],
      "execution_count": 58,
      "outputs": [
        {
          "output_type": "execute_result",
          "data": {
            "text/plain": [
              "[1, 3, 10, 33, 333, 1000]"
            ]
          },
          "metadata": {
            "tags": []
          },
          "execution_count": 58
        }
      ]
    },
    {
      "cell_type": "code",
      "metadata": {
        "colab": {
          "base_uri": "https://localhost:8080/"
        },
        "id": "b3SKE5njvzYN",
        "outputId": "8452b5ac-dafd-41c2-de2d-34cbfa270b25"
      },
      "source": [
        "del a[:2]\r\n",
        "a"
      ],
      "execution_count": 59,
      "outputs": [
        {
          "output_type": "execute_result",
          "data": {
            "text/plain": [
              "[10, 33, 333, 1000]"
            ]
          },
          "metadata": {
            "tags": []
          },
          "execution_count": 59
        }
      ]
    },
    {
      "cell_type": "markdown",
      "metadata": {
        "id": "bJjt0geVwqZu"
      },
      "source": [
        "完全に削除"
      ]
    },
    {
      "cell_type": "code",
      "metadata": {
        "id": "VJrKNsNRwfHc"
      },
      "source": [
        "del a # == del a[:]"
      ],
      "execution_count": 60,
      "outputs": []
    },
    {
      "cell_type": "markdown",
      "metadata": {
        "id": "csfDiKa7w8Yg"
      },
      "source": [
        "\r\n",
        "\r\n",
        "---\r\n",
        "# Taple\r\n",
        "不変。  \r\n",
        "ただし、可変のListを含むことができる\r\n",
        "\r\n",
        "注意としては、一つの要素のみからなるTaple型には、\r\n",
        "\r\n",
        "\r\n",
        "```\r\n",
        "  sample_taple = 'taple',\r\n",
        "```\r\n",
        "のように、末尾に [ , ]() をつける。\r\n",
        "\r\n",
        "ちなみに、空タプルなら、\r\n",
        "\r\n",
        "\r\n",
        "```\r\n",
        " sample_taple_1 = ()\r\n",
        "```\r\n",
        "\r\n",
        "\r\n"
      ]
    },
    {
      "cell_type": "code",
      "metadata": {
        "colab": {
          "base_uri": "https://localhost:8080/"
        },
        "id": "LdwtZzHEwj06",
        "outputId": "681c65f2-1f93-477e-ea65-ea768ec67dc5"
      },
      "source": [
        "test = 'test' # this is the String\r\n",
        "test01 = 'test',  # this is the taple \r\n",
        "len(test), len(test01)"
      ],
      "execution_count": 62,
      "outputs": [
        {
          "output_type": "execute_result",
          "data": {
            "text/plain": [
              "(4, 1)"
            ]
          },
          "metadata": {
            "tags": []
          },
          "execution_count": 62
        }
      ]
    },
    {
      "cell_type": "code",
      "metadata": {
        "colab": {
          "base_uri": "https://localhost:8080/"
        },
        "id": "L2OWJ2isxbbd",
        "outputId": "25f02671-0c5f-4729-cdec-fc3b0cf7196f"
      },
      "source": [
        "u = 1234, 12345, 'hello'\r\n",
        "u, u[0]"
      ],
      "execution_count": 68,
      "outputs": [
        {
          "output_type": "execute_result",
          "data": {
            "text/plain": [
              "((1234, 12345, 'hello'), 1234)"
            ]
          },
          "metadata": {
            "tags": []
          },
          "execution_count": 68
        }
      ]
    },
    {
      "cell_type": "code",
      "metadata": {
        "colab": {
          "base_uri": "https://localhost:8080/"
        },
        "id": "l7uKnVeRyYmr",
        "outputId": "67e3ffb9-1e0c-4326-c12d-7673fd42a80f"
      },
      "source": [
        "t = u, (123, 45)\r\n",
        "t"
      ],
      "execution_count": 66,
      "outputs": [
        {
          "output_type": "execute_result",
          "data": {
            "text/plain": [
              "((1234, 12345, 'hello'), (123, 45))"
            ]
          },
          "metadata": {
            "tags": []
          },
          "execution_count": 66
        }
      ]
    },
    {
      "cell_type": "markdown",
      "metadata": {
        "id": "sCV2BV_zykyX"
      },
      "source": [
        "不変である。"
      ]
    },
    {
      "cell_type": "code",
      "metadata": {
        "colab": {
          "base_uri": "https://localhost:8080/",
          "height": 168
        },
        "id": "mIep78bmycj4",
        "outputId": "98122401-4e77-406b-c99c-1b87254a80e8"
      },
      "source": [
        "u[0] = 'jojo'"
      ],
      "execution_count": 67,
      "outputs": [
        {
          "output_type": "error",
          "ename": "TypeError",
          "evalue": "ignored",
          "traceback": [
            "\u001b[0;31m---------------------------------------------------------------------------\u001b[0m",
            "\u001b[0;31mTypeError\u001b[0m                                 Traceback (most recent call last)",
            "\u001b[0;32m<ipython-input-67-46847f781e71>\u001b[0m in \u001b[0;36m<module>\u001b[0;34m()\u001b[0m\n\u001b[0;32m----> 1\u001b[0;31m \u001b[0mu\u001b[0m\u001b[0;34m[\u001b[0m\u001b[0;36m0\u001b[0m\u001b[0;34m]\u001b[0m \u001b[0;34m=\u001b[0m \u001b[0;34m'jojo'\u001b[0m\u001b[0;34m\u001b[0m\u001b[0;34m\u001b[0m\u001b[0m\n\u001b[0m",
            "\u001b[0;31mTypeError\u001b[0m: 'tuple' object does not support item assignment"
          ]
        }
      ]
    },
    {
      "cell_type": "code",
      "metadata": {
        "colab": {
          "base_uri": "https://localhost:8080/"
        },
        "id": "dcn5ISeLyjtb",
        "outputId": "f9897bb2-2a36-48ad-8740-65bfe8fe75d3"
      },
      "source": [
        "x, y = t\r\n",
        "x, y "
      ],
      "execution_count": 69,
      "outputs": [
        {
          "output_type": "execute_result",
          "data": {
            "text/plain": [
              "((1234, 12345, 'hello'), (123, 45))"
            ]
          },
          "metadata": {
            "tags": []
          },
          "execution_count": 69
        }
      ]
    },
    {
      "cell_type": "markdown",
      "metadata": {
        "id": "ywq12k7gzYHe"
      },
      "source": [
        "\r\n",
        "\r\n",
        "---\r\n",
        "## object型\r\n",
        "\r\n",
        "> 重複なしのdataに変換 Listも可。return ** { } **\r\n",
        "```\r\n",
        " set( )\r\n",
        "```\r\n",
        "\r\n",
        "> Taple, List, objectすべてに対して、指定したデータ[ 'hello' ]()が入っているかどうかでbooleanを返す\r\n",
        "```\r\n",
        " 'hello' in sample_data -->  true | false\r\n",
        "```\r\n",
        "\r\n",
        "\r\n"
      ]
    },
    {
      "cell_type": "code",
      "metadata": {
        "colab": {
          "base_uri": "https://localhost:8080/"
        },
        "id": "5UbNlTziyzZy",
        "outputId": "4dfaecd3-339e-413e-c95c-8986ef7c06ed"
      },
      "source": [
        "basket = { 'apple', 'banana', 'pine', 'orange', 'apple','apple','pine' }\r\n",
        "print(basket) #dataの自動整形"
      ],
      "execution_count": 73,
      "outputs": [
        {
          "output_type": "stream",
          "text": [
            "{'pine', 'apple', 'banana', 'orange'}\n"
          ],
          "name": "stdout"
        }
      ]
    },
    {
      "cell_type": "code",
      "metadata": {
        "colab": {
          "base_uri": "https://localhost:8080/"
        },
        "id": "2D37sn_czFFm",
        "outputId": "40ac0ac5-fc4c-4432-c746-b1571daabae1"
      },
      "source": [
        "'apple' in basket, 'grape' in basket "
      ],
      "execution_count": 75,
      "outputs": [
        {
          "output_type": "execute_result",
          "data": {
            "text/plain": [
              "(True, False)"
            ]
          },
          "metadata": {
            "tags": []
          },
          "execution_count": 75
        }
      ]
    },
    {
      "cell_type": "code",
      "metadata": {
        "colab": {
          "base_uri": "https://localhost:8080/"
        },
        "id": "gHyCXypl1Eb6",
        "outputId": "421bd5cc-5a76-4815-af7f-5f920d34de72"
      },
      "source": [
        "a = set('abcdedbakj')\r\n",
        "b = set('asdfkgld')\r\n",
        "a, b"
      ],
      "execution_count": 77,
      "outputs": [
        {
          "output_type": "execute_result",
          "data": {
            "text/plain": [
              "({'a', 'b', 'c', 'd', 'e', 'j', 'k'}, {'a', 'd', 'f', 'g', 'k', 'l', 's'})"
            ]
          },
          "metadata": {
            "tags": []
          },
          "execution_count": 77
        }
      ]
    },
    {
      "cell_type": "markdown",
      "metadata": {
        "id": "A_aJkKZL1anE"
      },
      "source": [
        "set( )は足し合わしできない / データの取り出しも不可。"
      ]
    },
    {
      "cell_type": "code",
      "metadata": {
        "colab": {
          "base_uri": "https://localhost:8080/",
          "height": 168
        },
        "id": "qQPym0ZE1R3a",
        "outputId": "19775564-cc5f-4c87-8502-9411b50d3756"
      },
      "source": [
        "a + b # { } + { } --> Error"
      ],
      "execution_count": 80,
      "outputs": [
        {
          "output_type": "error",
          "ename": "TypeError",
          "evalue": "ignored",
          "traceback": [
            "\u001b[0;31m---------------------------------------------------------------------------\u001b[0m",
            "\u001b[0;31mTypeError\u001b[0m                                 Traceback (most recent call last)",
            "\u001b[0;32m<ipython-input-80-bd58363a63fc>\u001b[0m in \u001b[0;36m<module>\u001b[0;34m()\u001b[0m\n\u001b[0;32m----> 1\u001b[0;31m \u001b[0ma\u001b[0m \u001b[0;34m+\u001b[0m \u001b[0mb\u001b[0m\u001b[0;34m\u001b[0m\u001b[0;34m\u001b[0m\u001b[0m\n\u001b[0m",
            "\u001b[0;31mTypeError\u001b[0m: unsupported operand type(s) for +: 'set' and 'set'"
          ]
        }
      ]
    },
    {
      "cell_type": "markdown",
      "metadata": {
        "id": "jeCCaP9x1fl-"
      },
      "source": [
        "aを基準としてbを引いたもの"
      ]
    },
    {
      "cell_type": "code",
      "metadata": {
        "colab": {
          "base_uri": "https://localhost:8080/"
        },
        "id": "I3dZ-AQ21Vvj",
        "outputId": "b213fe67-6e63-48e8-d7c2-92bb5fb1c943"
      },
      "source": [
        "a - b "
      ],
      "execution_count": 81,
      "outputs": [
        {
          "output_type": "execute_result",
          "data": {
            "text/plain": [
              "{'b', 'c', 'e', 'j'}"
            ]
          },
          "metadata": {
            "tags": []
          },
          "execution_count": 81
        }
      ]
    },
    {
      "cell_type": "markdown",
      "metadata": {
        "id": "qPKPfv5W1oVJ"
      },
      "source": [
        "重複なしで足し合わせたもの"
      ]
    },
    {
      "cell_type": "code",
      "metadata": {
        "colab": {
          "base_uri": "https://localhost:8080/"
        },
        "id": "FfQe7-AF1Z_C",
        "outputId": "e1bb1e74-47c4-4121-e8a1-d428427ae705"
      },
      "source": [
        "a | b"
      ],
      "execution_count": 82,
      "outputs": [
        {
          "output_type": "execute_result",
          "data": {
            "text/plain": [
              "{'a', 'b', 'c', 'd', 'e', 'f', 'g', 'j', 'k', 'l', 's'}"
            ]
          },
          "metadata": {
            "tags": []
          },
          "execution_count": 82
        }
      ]
    },
    {
      "cell_type": "markdown",
      "metadata": {
        "id": "Uj8DEFE61xYd"
      },
      "source": [
        "a かつ b"
      ]
    },
    {
      "cell_type": "code",
      "metadata": {
        "colab": {
          "base_uri": "https://localhost:8080/"
        },
        "id": "rwMwgz701lwr",
        "outputId": "ac5de905-f058-4f1b-d1bc-b426e989511b"
      },
      "source": [
        "a & b"
      ],
      "execution_count": 83,
      "outputs": [
        {
          "output_type": "execute_result",
          "data": {
            "text/plain": [
              "{'a', 'd', 'k'}"
            ]
          },
          "metadata": {
            "tags": []
          },
          "execution_count": 83
        }
      ]
    },
    {
      "cell_type": "markdown",
      "metadata": {
        "id": "tKBryesN2O3L"
      },
      "source": [
        "両方に共通していないもの == not (a & b)"
      ]
    },
    {
      "cell_type": "code",
      "metadata": {
        "colab": {
          "base_uri": "https://localhost:8080/"
        },
        "id": "o0SJTUQg1tnx",
        "outputId": "a43443c6-8bc9-4504-ef4d-98a1eeab511c"
      },
      "source": [
        "a ^ b"
      ],
      "execution_count": 84,
      "outputs": [
        {
          "output_type": "execute_result",
          "data": {
            "text/plain": [
              "{'b', 'c', 'e', 'f', 'g', 'j', 'l', 's'}"
            ]
          },
          "metadata": {
            "tags": []
          },
          "execution_count": 84
        }
      ]
    },
    {
      "cell_type": "markdown",
      "metadata": {
        "id": "a4EnK3fy2vYp"
      },
      "source": [
        "\r\n",
        "\r\n",
        "---\r\n",
        "\r\n",
        "\r\n",
        "# 辞書型\r\n",
        "可変。  \r\n",
        "{key : value}  \r\n",
        "**keyは一意でなければならない**\r\n",
        "\r\n",
        "辞書型からListへの変換は[ KEY ]()のみになる。  \r\n",
        "\r\n",
        "\r\n",
        "```\r\n",
        " sample_dic = { 'name':'jojo', 'age':32 }\r\n",
        " list(sample_dic)  \r\n",
        " >>> ['name', 'age']\r\n",
        "```\r\n",
        "\r\n"
      ]
    },
    {
      "cell_type": "code",
      "metadata": {
        "colab": {
          "base_uri": "https://localhost:8080/"
        },
        "id": "66YQSJJK11u-",
        "outputId": "50a29592-b9c9-4c45-a8a6-f27e73f77224"
      },
      "source": [
        "tel = {'jack': 4040, 'sape': 1002}\r\n",
        "tel['jack']"
      ],
      "execution_count": 92,
      "outputs": [
        {
          "output_type": "execute_result",
          "data": {
            "text/plain": [
              "4040"
            ]
          },
          "metadata": {
            "tags": []
          },
          "execution_count": 92
        }
      ]
    },
    {
      "cell_type": "code",
      "metadata": {
        "colab": {
          "base_uri": "https://localhost:8080/"
        },
        "id": "ZTfQK9-54LlE",
        "outputId": "79d894bc-d241-4b5e-a4a0-92dbd224cbdb"
      },
      "source": [
        "tel['guido'] = 3000\r\n",
        "tel['jack'] = 8888\r\n",
        "tel"
      ],
      "execution_count": 93,
      "outputs": [
        {
          "output_type": "execute_result",
          "data": {
            "text/plain": [
              "{'guido': 3000, 'jack': 8888, 'sape': 1002}"
            ]
          },
          "metadata": {
            "tags": []
          },
          "execution_count": 93
        }
      ]
    },
    {
      "cell_type": "code",
      "metadata": {
        "colab": {
          "base_uri": "https://localhost:8080/"
        },
        "id": "maGC3zbm4UlC",
        "outputId": "bdca370b-c48d-4bd7-c1fa-3d0bbb4e653f"
      },
      "source": [
        "del tel['sape']\r\n",
        "tel"
      ],
      "execution_count": 94,
      "outputs": [
        {
          "output_type": "execute_result",
          "data": {
            "text/plain": [
              "{'guido': 3000, 'jack': 8888}"
            ]
          },
          "metadata": {
            "tags": []
          },
          "execution_count": 94
        }
      ]
    },
    {
      "cell_type": "code",
      "metadata": {
        "colab": {
          "base_uri": "https://localhost:8080/"
        },
        "id": "OIPpnu1d4gWJ",
        "outputId": "23b2b125-016c-4868-9139-b1dda9cdefd3"
      },
      "source": [
        "\"jack\" in tel "
      ],
      "execution_count": 95,
      "outputs": [
        {
          "output_type": "execute_result",
          "data": {
            "text/plain": [
              "True"
            ]
          },
          "metadata": {
            "tags": []
          },
          "execution_count": 95
        }
      ]
    },
    {
      "cell_type": "markdown",
      "metadata": {
        "id": "PSOVqHKl4x9K"
      },
      "source": [
        "[ dict ( ) ]() でdictionary作成。"
      ]
    },
    {
      "cell_type": "code",
      "metadata": {
        "colab": {
          "base_uri": "https://localhost:8080/"
        },
        "id": "_sGq4btb4rHS",
        "outputId": "9271616e-1223-4865-8432-24608609aac8"
      },
      "source": [
        "dict([('sample', 12), ('pine', 88), ('apple', 120)]), dict(name='jojo', age=70, stribg=2000)"
      ],
      "execution_count": 116,
      "outputs": [
        {
          "output_type": "execute_result",
          "data": {
            "text/plain": [
              "({'apple': 120, 'pine': 88, 'sample': 12},\n",
              " {'age': 70, 'name': 'jojo', 'stribg': 2000})"
            ]
          },
          "metadata": {
            "tags": []
          },
          "execution_count": 116
        }
      ]
    },
    {
      "cell_type": "code",
      "metadata": {
        "colab": {
          "base_uri": "https://localhost:8080/"
        },
        "id": "NxWW__3i46jh",
        "outputId": "4a892fbf-074f-46e8-d221-8f2d24d771fb"
      },
      "source": [
        "{ x: x*2 for x in range(5) }"
      ],
      "execution_count": 99,
      "outputs": [
        {
          "output_type": "execute_result",
          "data": {
            "text/plain": [
              "{0: 0, 1: 2, 2: 4, 3: 6, 4: 8}"
            ]
          },
          "metadata": {
            "tags": []
          },
          "execution_count": 99
        }
      ]
    },
    {
      "cell_type": "markdown",
      "metadata": {
        "id": "iLWWnLiM5ejE"
      },
      "source": [
        "### for文の応用\r\n",
        "\r\n",
        "dictに対して[ for ]()文の使用  \r\n",
        "[ item( ) ]()"
      ]
    },
    {
      "cell_type": "code",
      "metadata": {
        "colab": {
          "base_uri": "https://localhost:8080/"
        },
        "id": "mc7avtBh5OeR",
        "outputId": "2f4792a0-900d-406b-f1eb-2778a1d9c068"
      },
      "source": [
        "fantazy = {'final': 12, 'start': 20, 'edge': 90}\r\n",
        "\r\n",
        "for key,value in fantazy.items():\r\n",
        "  print('{} : {}'.format(key, value))"
      ],
      "execution_count": 110,
      "outputs": [
        {
          "output_type": "stream",
          "text": [
            "final : 12\n",
            "start : 20\n",
            "edge : 90\n"
          ],
          "name": "stdout"
        }
      ]
    },
    {
      "cell_type": "markdown",
      "metadata": {
        "id": "5IPck2jU_0mm"
      },
      "source": [
        "\r\n",
        "\r\n",
        "1.   set( )によって重複をなくしobject変換 { }\r\n",
        "2.   sort\r\n",
        "\r\n"
      ]
    },
    {
      "cell_type": "code",
      "metadata": {
        "colab": {
          "base_uri": "https://localhost:8080/"
        },
        "id": "uuDR6b7857LR",
        "outputId": "70714784-8bff-4b83-ab5e-535257f91216"
      },
      "source": [
        "basket = ['apple', 'pine', 'pine', 'grape','apple','orange']\r\n",
        "\r\n",
        "for i in sorted(set(basket)):\r\n",
        "  print(i)"
      ],
      "execution_count": 117,
      "outputs": [
        {
          "output_type": "stream",
          "text": [
            "apple\n",
            "grape\n",
            "orange\n",
            "pine\n"
          ],
          "name": "stdout"
        }
      ]
    },
    {
      "cell_type": "markdown",
      "metadata": {
        "id": "UqD-AMjiAsI7"
      },
      "source": [
        "### 比較演算について \r\n",
        "\r\n",
        "基本的には最初の二つの要素を比較して、条件外ならその時点で終了するため後の条件は考慮されない。  \r\n",
        "下の例では、同じ型であるかの比較演算を行う。"
      ]
    },
    {
      "cell_type": "code",
      "metadata": {
        "colab": {
          "base_uri": "https://localhost:8080/"
        },
        "id": "jKXoqoph9yyb",
        "outputId": "69082468-1c3a-40f8-e993-076fd6624a29"
      },
      "source": [
        "(1,2,3) < (1,2,4)"
      ],
      "execution_count": 132,
      "outputs": [
        {
          "output_type": "execute_result",
          "data": {
            "text/plain": [
              "True"
            ]
          },
          "metadata": {
            "tags": []
          },
          "execution_count": 132
        }
      ]
    },
    {
      "cell_type": "code",
      "metadata": {
        "colab": {
          "base_uri": "https://localhost:8080/"
        },
        "id": "NmNOkZ76-6lM",
        "outputId": "74743131-10dc-4a0c-a116-e3a07d5d3d71"
      },
      "source": [
        "[1,2,3] < [1,3]"
      ],
      "execution_count": 135,
      "outputs": [
        {
          "output_type": "execute_result",
          "data": {
            "text/plain": [
              "True"
            ]
          },
          "metadata": {
            "tags": []
          },
          "execution_count": 135
        }
      ]
    },
    {
      "cell_type": "code",
      "metadata": {
        "colab": {
          "base_uri": "https://localhost:8080/"
        },
        "id": "NIu-wPc6BOL3",
        "outputId": "487950fe-e842-46ef-9097-d31ece9980cc"
      },
      "source": [
        "'ABC' < 'C' < 'Pascal' < 'Python'"
      ],
      "execution_count": 122,
      "outputs": [
        {
          "output_type": "execute_result",
          "data": {
            "text/plain": [
              "True"
            ]
          },
          "metadata": {
            "tags": []
          },
          "execution_count": 122
        }
      ]
    },
    {
      "cell_type": "code",
      "metadata": {
        "colab": {
          "base_uri": "https://localhost:8080/"
        },
        "id": "g5AoonaqBUVG",
        "outputId": "89177359-0745-427e-b74f-b4965c9a9a64"
      },
      "source": [
        "(1,2,3,4) < (1,2,4)"
      ],
      "execution_count": 123,
      "outputs": [
        {
          "output_type": "execute_result",
          "data": {
            "text/plain": [
              "True"
            ]
          },
          "metadata": {
            "tags": []
          },
          "execution_count": 123
        }
      ]
    },
    {
      "cell_type": "code",
      "metadata": {
        "colab": {
          "base_uri": "https://localhost:8080/"
        },
        "id": "Yyb-u-y7BcMG",
        "outputId": "c70ce26b-609b-4988-cf6d-7fcaa4ef9b92"
      },
      "source": [
        "(1,2) < (1,2,-1)"
      ],
      "execution_count": 124,
      "outputs": [
        {
          "output_type": "execute_result",
          "data": {
            "text/plain": [
              "True"
            ]
          },
          "metadata": {
            "tags": []
          },
          "execution_count": 124
        }
      ]
    },
    {
      "cell_type": "code",
      "metadata": {
        "colab": {
          "base_uri": "https://localhost:8080/"
        },
        "id": "SQ1N00lSBe0H",
        "outputId": "9e93522d-deca-4b1f-8199-0220f088b785"
      },
      "source": [
        "(1,2,3) == (1.0,2.0,3.0)"
      ],
      "execution_count": 125,
      "outputs": [
        {
          "output_type": "execute_result",
          "data": {
            "text/plain": [
              "True"
            ]
          },
          "metadata": {
            "tags": []
          },
          "execution_count": 125
        }
      ]
    },
    {
      "cell_type": "code",
      "metadata": {
        "colab": {
          "base_uri": "https://localhost:8080/"
        },
        "id": "mKUmj8b0Bij0",
        "outputId": "eb80c15d-9656-47e9-9615-04cdd76277ed"
      },
      "source": [
        "(1,2,('aa', 'ab')) < (1,2, ('abc', 'a'), 4)"
      ],
      "execution_count": 138,
      "outputs": [
        {
          "output_type": "execute_result",
          "data": {
            "text/plain": [
              "True"
            ]
          },
          "metadata": {
            "tags": []
          },
          "execution_count": 138
        }
      ]
    },
    {
      "cell_type": "code",
      "metadata": {
        "colab": {
          "base_uri": "https://localhost:8080/",
          "height": 168
        },
        "id": "o79OnlehCP2D",
        "outputId": "f04f1986-5d17-46f0-9b64-73af025c4e51"
      },
      "source": [
        "[1,2,3,4] < (1,2,3,4,5) "
      ],
      "execution_count": 130,
      "outputs": [
        {
          "output_type": "error",
          "ename": "TypeError",
          "evalue": "ignored",
          "traceback": [
            "\u001b[0;31m---------------------------------------------------------------------------\u001b[0m",
            "\u001b[0;31mTypeError\u001b[0m                                 Traceback (most recent call last)",
            "\u001b[0;32m<ipython-input-130-c929adb61349>\u001b[0m in \u001b[0;36m<module>\u001b[0;34m()\u001b[0m\n\u001b[0;32m----> 1\u001b[0;31m \u001b[0;34m[\u001b[0m\u001b[0;36m1\u001b[0m\u001b[0;34m,\u001b[0m\u001b[0;36m2\u001b[0m\u001b[0;34m,\u001b[0m\u001b[0;36m3\u001b[0m\u001b[0;34m,\u001b[0m\u001b[0;36m4\u001b[0m\u001b[0;34m]\u001b[0m \u001b[0;34m<\u001b[0m \u001b[0;34m(\u001b[0m\u001b[0;36m1\u001b[0m\u001b[0;34m,\u001b[0m\u001b[0;36m2\u001b[0m\u001b[0;34m,\u001b[0m\u001b[0;36m3\u001b[0m\u001b[0;34m,\u001b[0m\u001b[0;36m4\u001b[0m\u001b[0;34m,\u001b[0m\u001b[0;36m5\u001b[0m\u001b[0;34m)\u001b[0m\u001b[0;34m\u001b[0m\u001b[0;34m\u001b[0m\u001b[0m\n\u001b[0m",
            "\u001b[0;31mTypeError\u001b[0m: '<' not supported between instances of 'list' and 'tuple'"
          ]
        }
      ]
    }
  ]
}