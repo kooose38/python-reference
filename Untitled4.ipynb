{
  "nbformat": 4,
  "nbformat_minor": 0,
  "metadata": {
    "colab": {
      "name": "Untitled4.ipynb",
      "provenance": [],
      "authorship_tag": "ABX9TyMYfKT1cErWa+JbGunRAXyt",
      "include_colab_link": true
    },
    "kernelspec": {
      "name": "python3",
      "display_name": "Python 3"
    }
  },
  "cells": [
    {
      "cell_type": "markdown",
      "metadata": {
        "id": "view-in-github",
        "colab_type": "text"
      },
      "source": [
        "<a href=\"https://colab.research.google.com/github/kooose38/python-reference/blob/master/Untitled4.ipynb\" target=\"_parent\"><img src=\"https://colab.research.google.com/assets/colab-badge.svg\" alt=\"Open In Colab\"/></a>"
      ]
    },
    {
      "cell_type": "markdown",
      "metadata": {
        "id": "RlKHzzN8EGij"
      },
      "source": [
        "# 標準ライブラリ2\r\n",
        "\r\n",
        "> 同じ文字列の省略して、 [repr()](https://) を提供。\r\n",
        "\r\n",
        "```\r\n",
        " import reprlib\r\n",
        "```\r\n",
        "\r\n"
      ]
    },
    {
      "cell_type": "code",
      "metadata": {
        "colab": {
          "base_uri": "https://localhost:8080/",
          "height": 35
        },
        "id": "wYT8ulweEB9j",
        "outputId": "3a1189d3-6969-4be4-9c95-1154cba61fe4"
      },
      "source": [
        "import reprlib\r\n",
        "\r\n",
        "reprlib.repr(set('asdfghsfggr'))"
      ],
      "execution_count": 3,
      "outputs": [
        {
          "output_type": "execute_result",
          "data": {
            "application/vnd.google.colaboratory.intrinsic+json": {
              "type": "string"
            },
            "text/plain": [
              "\"{'a', 'd', 'f', 'g', 'h', 'r', ...}\""
            ]
          },
          "metadata": {
            "tags": []
          },
          "execution_count": 3
        }
      ]
    },
    {
      "cell_type": "markdown",
      "metadata": {
        "id": "bO7GqDf0Fix2"
      },
      "source": [
        "\r\n",
        "> 多次元のデータを整形する。 [pretty printer](https://)の略。\r\n",
        "```\r\n",
        " import pprint\r\n",
        "```\r\n",
        "\r\n"
      ]
    },
    {
      "cell_type": "code",
      "metadata": {
        "colab": {
          "base_uri": "https://localhost:8080/"
        },
        "id": "7dPMSIUxEW4X",
        "outputId": "31b14a80-5a74-4157-c990-52a6bcff752d"
      },
      "source": [
        "import pprint\r\n",
        "\r\n",
        "t=[[[[\"black\",\"white\"],\"pink\",['green','red']],[['magrete','yellow']]]]\r\n",
        "\r\n",
        "pprint.pprint(t,width=30)"
      ],
      "execution_count": 9,
      "outputs": [
        {
          "output_type": "stream",
          "text": [
            "[[[['black', 'white'],\n",
            "   'pink',\n",
            "   ['green', 'red']],\n",
            "  [['magrete', 'yellow']]]]\n"
          ],
          "name": "stdout"
        }
      ]
    },
    {
      "cell_type": "markdown",
      "metadata": {
        "id": "qbi7sR5IGhLA"
      },
      "source": [
        "\r\n",
        "> documentの長文に対して整形する\r\n",
        "\r\n",
        "```\r\n",
        " import textwrap\r\n",
        "```\r\n",
        "\r\n"
      ]
    },
    {
      "cell_type": "code",
      "metadata": {
        "colab": {
          "base_uri": "https://localhost:8080/"
        },
        "id": "BrOHBEjPFObK",
        "outputId": "0333c9cc-b7b9-4780-9d6c-3a7cc47f81ac"
      },
      "source": [
        "import textwrap\r\n",
        "\r\n",
        "doc='''hello world everyone() method is just like fill() except\r\n",
        " that ot returns list a  of strings instead of the\r\n",
        " big string number boolean the wrappin lines'''\r\n",
        "\r\n",
        "print(textwrap.fill(doc,width=40))"
      ],
      "execution_count": 13,
      "outputs": [
        {
          "output_type": "stream",
          "text": [
            "hello world everyone() method is just\n",
            "like fill() except  that ot returns list\n",
            "a  of strings instead of the  big string\n",
            "number boolean the wrappin lines\n"
          ],
          "name": "stdout"
        }
      ]
    },
    {
      "cell_type": "markdown",
      "metadata": {
        "id": "Lp5K4fi3Iwi3"
      },
      "source": [
        "\r\n",
        "> [locale.format()](https://)関数の[grouping](https://)属性により、  \r\n",
        "数値を適切な桁区切りによりグループ化された形式に変換してくれる。\r\n",
        "\r\n",
        "```\r\n",
        " import locale\r\n",
        "```\r\n",
        "\r\n"
      ]
    },
    {
      "cell_type": "code",
      "metadata": {
        "colab": {
          "base_uri": "https://localhost:8080/",
          "height": 69
        },
        "id": "k6py2eQlF8ly",
        "outputId": "0de5f1a2-06c2-45be-f24d-286262fb1cd6"
      },
      "source": [
        "import locale \r\n",
        "\r\n",
        "conv=locale.localeconv()\r\n",
        "x=1234567.8\r\n",
        "\r\n",
        "locale.format(\"%d\", x, grouping=True)"
      ],
      "execution_count": 27,
      "outputs": [
        {
          "output_type": "stream",
          "text": [
            "/usr/local/lib/python3.7/dist-packages/ipykernel_launcher.py:6: DeprecationWarning: This method will be removed in a future version of Python. Use 'locale.format_string()' instead.\n",
            "  \n"
          ],
          "name": "stderr"
        },
        {
          "output_type": "execute_result",
          "data": {
            "application/vnd.google.colaboratory.intrinsic+json": {
              "type": "string"
            },
            "text/plain": [
              "'1234567'"
            ]
          },
          "metadata": {
            "tags": []
          },
          "execution_count": 27
        }
      ]
    },
    {
      "cell_type": "code",
      "metadata": {
        "colab": {
          "base_uri": "https://localhost:8080/",
          "height": 35
        },
        "id": "0m9sdbtMHGE6",
        "outputId": "6f1c19e6-e406-4096-aad9-927ef2109558"
      },
      "source": [
        "locale.format_string(\"%s%.*f\", (conv['currency_symbol'], conv['frac_digits'], x), grouping=True)"
      ],
      "execution_count": 28,
      "outputs": [
        {
          "output_type": "execute_result",
          "data": {
            "application/vnd.google.colaboratory.intrinsic+json": {
              "type": "string"
            },
            "text/plain": [
              "'1234567.8000000000465661287307739257812500000000000000000000000000000000000000000000000000000000000000000000000000000000000000000000000'"
            ]
          },
          "metadata": {
            "tags": []
          },
          "execution_count": 28
        }
      ]
    },
    {
      "cell_type": "markdown",
      "metadata": {
        "id": "J3pXhRF-Js-X"
      },
      "source": [
        "\r\n",
        "> [Template](http://)によって文字列に対して、代入ができる。  \r\n",
        "[\\${}](http://) or [\\$]() で変数を決めて、代入する。また、[$$]()でエスケープできる。\r\n",
        "\r\n",
        "```\r\n",
        " from string import Template\r\n",
        "```\r\n",
        "\r\n"
      ]
    },
    {
      "cell_type": "code",
      "metadata": {
        "colab": {
          "base_uri": "https://localhost:8080/",
          "height": 35
        },
        "id": "XawyLfl3H3ni",
        "outputId": "2492355c-9034-41ff-bcbc-48d18a16a9b2"
      },
      "source": [
        "from string import Template\r\n",
        "\r\n",
        "t=Template('${name} of the year month $$10 in $money')\r\n",
        "\r\n",
        "t.substitute(name='jojo', money='the world ')"
      ],
      "execution_count": 31,
      "outputs": [
        {
          "output_type": "execute_result",
          "data": {
            "application/vnd.google.colaboratory.intrinsic+json": {
              "type": "string"
            },
            "text/plain": [
              "'jojo of the year month $10 in the world '"
            ]
          },
          "metadata": {
            "tags": []
          },
          "execution_count": 31
        }
      ]
    },
    {
      "cell_type": "markdown",
      "metadata": {
        "id": "Q3cWno4vLO9R"
      },
      "source": [
        "**Template変数に、入力値がない場合[KeyError](http://)になる**\r\n",
        "\r\n",
        "そこで、[safe_substitude()]()を用いて使う方が適切かもしれない。"
      ]
    },
    {
      "cell_type": "code",
      "metadata": {
        "colab": {
          "base_uri": "https://localhost:8080/",
          "height": 328
        },
        "id": "_UQlxnooKgX8",
        "outputId": "768ecb13-50b7-47e8-9934-a2071d25b7f2"
      },
      "source": [
        "t=Template('Return the $item to $owner')\r\n",
        "t.substitute()"
      ],
      "execution_count": 32,
      "outputs": [
        {
          "output_type": "error",
          "ename": "KeyError",
          "evalue": "ignored",
          "traceback": [
            "\u001b[0;31m---------------------------------------------------------------------------\u001b[0m",
            "\u001b[0;31mKeyError\u001b[0m                                  Traceback (most recent call last)",
            "\u001b[0;32m<ipython-input-32-8f6f463409d3>\u001b[0m in \u001b[0;36m<module>\u001b[0;34m()\u001b[0m\n\u001b[1;32m      1\u001b[0m \u001b[0mt\u001b[0m\u001b[0;34m=\u001b[0m\u001b[0mTemplate\u001b[0m\u001b[0;34m(\u001b[0m\u001b[0;34m'Return the $item to $owner'\u001b[0m\u001b[0;34m)\u001b[0m\u001b[0;34m\u001b[0m\u001b[0;34m\u001b[0m\u001b[0m\n\u001b[0;32m----> 2\u001b[0;31m \u001b[0mt\u001b[0m\u001b[0;34m.\u001b[0m\u001b[0msubstitute\u001b[0m\u001b[0;34m(\u001b[0m\u001b[0;34m)\u001b[0m\u001b[0;34m\u001b[0m\u001b[0;34m\u001b[0m\u001b[0m\n\u001b[0m",
            "\u001b[0;32m/usr/lib/python3.7/string.py\u001b[0m in \u001b[0;36msubstitute\u001b[0;34m(*args, **kws)\u001b[0m\n\u001b[1;32m    130\u001b[0m             raise ValueError('Unrecognized named group in pattern',\n\u001b[1;32m    131\u001b[0m                              self.pattern)\n\u001b[0;32m--> 132\u001b[0;31m         \u001b[0;32mreturn\u001b[0m \u001b[0mself\u001b[0m\u001b[0;34m.\u001b[0m\u001b[0mpattern\u001b[0m\u001b[0;34m.\u001b[0m\u001b[0msub\u001b[0m\u001b[0;34m(\u001b[0m\u001b[0mconvert\u001b[0m\u001b[0;34m,\u001b[0m \u001b[0mself\u001b[0m\u001b[0;34m.\u001b[0m\u001b[0mtemplate\u001b[0m\u001b[0;34m)\u001b[0m\u001b[0;34m\u001b[0m\u001b[0;34m\u001b[0m\u001b[0m\n\u001b[0m\u001b[1;32m    133\u001b[0m \u001b[0;34m\u001b[0m\u001b[0m\n\u001b[1;32m    134\u001b[0m     \u001b[0;32mdef\u001b[0m \u001b[0msafe_substitute\u001b[0m\u001b[0;34m(\u001b[0m\u001b[0;34m*\u001b[0m\u001b[0margs\u001b[0m\u001b[0;34m,\u001b[0m \u001b[0;34m**\u001b[0m\u001b[0mkws\u001b[0m\u001b[0;34m)\u001b[0m\u001b[0;34m:\u001b[0m\u001b[0;34m\u001b[0m\u001b[0;34m\u001b[0m\u001b[0m\n",
            "\u001b[0;32m/usr/lib/python3.7/string.py\u001b[0m in \u001b[0;36mconvert\u001b[0;34m(mo)\u001b[0m\n\u001b[1;32m    123\u001b[0m             \u001b[0mnamed\u001b[0m \u001b[0;34m=\u001b[0m \u001b[0mmo\u001b[0m\u001b[0;34m.\u001b[0m\u001b[0mgroup\u001b[0m\u001b[0;34m(\u001b[0m\u001b[0;34m'named'\u001b[0m\u001b[0;34m)\u001b[0m \u001b[0;32mor\u001b[0m \u001b[0mmo\u001b[0m\u001b[0;34m.\u001b[0m\u001b[0mgroup\u001b[0m\u001b[0;34m(\u001b[0m\u001b[0;34m'braced'\u001b[0m\u001b[0;34m)\u001b[0m\u001b[0;34m\u001b[0m\u001b[0;34m\u001b[0m\u001b[0m\n\u001b[1;32m    124\u001b[0m             \u001b[0;32mif\u001b[0m \u001b[0mnamed\u001b[0m \u001b[0;32mis\u001b[0m \u001b[0;32mnot\u001b[0m \u001b[0;32mNone\u001b[0m\u001b[0;34m:\u001b[0m\u001b[0;34m\u001b[0m\u001b[0;34m\u001b[0m\u001b[0m\n\u001b[0;32m--> 125\u001b[0;31m                 \u001b[0;32mreturn\u001b[0m \u001b[0mstr\u001b[0m\u001b[0;34m(\u001b[0m\u001b[0mmapping\u001b[0m\u001b[0;34m[\u001b[0m\u001b[0mnamed\u001b[0m\u001b[0;34m]\u001b[0m\u001b[0;34m)\u001b[0m\u001b[0;34m\u001b[0m\u001b[0;34m\u001b[0m\u001b[0m\n\u001b[0m\u001b[1;32m    126\u001b[0m             \u001b[0;32mif\u001b[0m \u001b[0mmo\u001b[0m\u001b[0;34m.\u001b[0m\u001b[0mgroup\u001b[0m\u001b[0;34m(\u001b[0m\u001b[0;34m'escaped'\u001b[0m\u001b[0;34m)\u001b[0m \u001b[0;32mis\u001b[0m \u001b[0;32mnot\u001b[0m \u001b[0;32mNone\u001b[0m\u001b[0;34m:\u001b[0m\u001b[0;34m\u001b[0m\u001b[0;34m\u001b[0m\u001b[0m\n\u001b[1;32m    127\u001b[0m                 \u001b[0;32mreturn\u001b[0m \u001b[0mself\u001b[0m\u001b[0;34m.\u001b[0m\u001b[0mdelimiter\u001b[0m\u001b[0;34m\u001b[0m\u001b[0;34m\u001b[0m\u001b[0m\n",
            "\u001b[0;31mKeyError\u001b[0m: 'item'"
          ]
        }
      ]
    },
    {
      "cell_type": "markdown",
      "metadata": {
        "id": "Pu3lLUuuL8A4"
      },
      "source": [
        "$ownerとして出力され、エラーが回避された。"
      ]
    },
    {
      "cell_type": "code",
      "metadata": {
        "colab": {
          "base_uri": "https://localhost:8080/",
          "height": 35
        },
        "id": "kJE1DxvwLNkx",
        "outputId": "ef889837-f256-445c-f0a6-a2dd858b69cc"
      },
      "source": [
        "d=dict(item='unless swallow')\r\n",
        "\r\n",
        "t.safe_substitute(d)"
      ],
      "execution_count": 34,
      "outputs": [
        {
          "output_type": "execute_result",
          "data": {
            "application/vnd.google.colaboratory.intrinsic+json": {
              "type": "string"
            },
            "text/plain": [
              "'Return the unless swallow to $owner'"
            ]
          },
          "metadata": {
            "tags": []
          },
          "execution_count": 34
        }
      ]
    },
    {
      "cell_type": "markdown",
      "metadata": {
        "id": "9jbH1-r5TFSZ"
      },
      "source": [
        "\r\n",
        "\r\n",
        "---\r\n",
        "\r\n",
        "\r\n",
        "> スレッド処理(threading)は、メインのプログラムを動かしながら背後で別のタスクを動作させられるようにしたもの。\r\n",
        "\r\n",
        "```\r\n",
        "import threading\r\n",
        "```\r\n",
        "\r\n",
        "\r\n"
      ]
    },
    {
      "cell_type": "code",
      "metadata": {
        "id": "UA4On4T-LyYI"
      },
      "source": [
        "import threading,zipfile\r\n",
        "\r\n",
        "class AsyncZip(threading.Thread):\r\n",
        "  def __init__(self,infile,outfile):\r\n",
        "    threading.Thread.__init__(self)\r\n",
        "    self.infile=infile\r\n",
        "    self.outfile=outfile\r\n",
        "\r\n",
        "  def run(self):\r\n",
        "    f = zipfile.ZipFile(self.outfile, 'w', zipfile.ZIP_DEFLATED)\r\n",
        "    f.write(self.infile)\r\n",
        "    f.close()\r\n",
        "    print('Finished background zip of :', self.infile)\r\n",
        "\r\n",
        "background=AsyncZip('mtdata.txt', 'myarchive.zip')\r\n",
        "background.start()\r\n",
        "print('The main program contrinue to run in foreground')\r\n",
        "\r\n",
        "background.join() # Wait for the background task to finish\r\n",
        "print('Main program waited until background was done ')\r\n"
      ],
      "execution_count": 35,
      "outputs": []
    },
    {
      "cell_type": "markdown",
      "metadata": {
        "id": "i4vpx2TJVMKr"
      },
      "source": [
        "\r\n",
        "\r\n",
        "---\r\n",
        "### Logの記録\r\n",
        "\r\n",
        "\r\n",
        "> logmessageをfileや[sys.stderr]()に送信する。\r\n",
        "```\r\n",
        " import logging\r\n",
        "```\r\n",
        "\r\n",
        "**defaultでは、[info()](http://) と [debug()](http://) の出力はされない。**\r\n",
        "\r\n",
        "\r\n"
      ]
    },
    {
      "cell_type": "code",
      "metadata": {
        "colab": {
          "base_uri": "https://localhost:8080/"
        },
        "id": "iI2Se1X1TcHS",
        "outputId": "284ca533-d593-4a10-817b-6dec1c5b03d2"
      },
      "source": [
        "import logging\r\n",
        "\r\n",
        "logging.basicConfig(level=logging.DEBUG,filename='test.log') # ここでlogの書き出しファイルの設定とlogLevelの設定\r\n",
        "\r\n",
        "logging.debug('Debug information')\r\n",
        "logging.info('Information message')\r\n",
        "logging.warning('Warning:config file %s not found', 'server.conf')\r\n",
        "logging.error('Error occured')\r\n",
        "logging.critical('Critical error -- Shutting down')"
      ],
      "execution_count": 40,
      "outputs": [
        {
          "output_type": "stream",
          "text": [
            "WARNING:root:Warning:config file server.conf not found\n",
            "ERROR:root:Error occured\n",
            "CRITICAL:root:Critical error -- Shutting down\n"
          ],
          "name": "stderr"
        }
      ]
    },
    {
      "cell_type": "markdown",
      "metadata": {
        "id": "GhjMvl0yc6uj"
      },
      "source": [
        "\r\n",
        "\r\n",
        "---\r\n",
        "\r\n",
        "> 変数の代入時に、削除された際にメモリから完全に削除する。  \r\n",
        "一般的にはPythonのメモリ上に残るために完全に削除できないのにもかかわらず。\r\n",
        "\r\n",
        "```\r\n",
        " import weakref\r\n",
        "```\r\n",
        "\r\n"
      ]
    },
    {
      "cell_type": "code",
      "metadata": {
        "colab": {
          "base_uri": "https://localhost:8080/"
        },
        "id": "VhtB9ch8VmUb",
        "outputId": "ab59e7ed-6779-4812-9f82-13e125c2393f"
      },
      "source": [
        "import weakref,gc\r\n",
        "\r\n",
        "class A:\r\n",
        "  def __init__(self,value):\r\n",
        "    self.value=value\r\n",
        "  def __repr__(self):\r\n",
        "    return str(self.value)\r\n",
        "\r\n",
        "a=A(10)\r\n",
        "d=weakref.WeakValueDictionary()\r\n",
        "d['primary']=a\r\n",
        "d['primary']"
      ],
      "execution_count": 65,
      "outputs": [
        {
          "output_type": "execute_result",
          "data": {
            "text/plain": [
              "10"
            ]
          },
          "metadata": {
            "tags": []
          },
          "execution_count": 65
        }
      ]
    },
    {
      "cell_type": "code",
      "metadata": {
        "colab": {
          "base_uri": "https://localhost:8080/"
        },
        "id": "rUvkK4bsWFY_",
        "outputId": "f51da8d0-2c8f-4164-e5e2-d408a1bf8c2e"
      },
      "source": [
        "del a\r\n",
        "gc.collect()"
      ],
      "execution_count": 66,
      "outputs": [
        {
          "output_type": "execute_result",
          "data": {
            "text/plain": [
              "234"
            ]
          },
          "metadata": {
            "tags": []
          },
          "execution_count": 66
        }
      ]
    },
    {
      "cell_type": "code",
      "metadata": {
        "id": "dHte5ciObK_l"
      },
      "source": [
        "d['primary']\r\n",
        "# Error KeyError: primary"
      ],
      "execution_count": null,
      "outputs": []
    },
    {
      "cell_type": "markdown",
      "metadata": {
        "id": "zaSOwjwcd0gg"
      },
      "source": [
        "\r\n",
        "\r\n",
        "---\r\n",
        "## 配列\r\n",
        "\r\n",
        "リストとは異なり、違ったデータ型をListとして保存する\r\n"
      ]
    },
    {
      "cell_type": "code",
      "metadata": {
        "colab": {
          "base_uri": "https://localhost:8080/"
        },
        "id": "XysmU8ALbSgF",
        "outputId": "5c439e2c-65eb-488f-8596-99b9c20bbf78"
      },
      "source": [
        "from array import array \r\n",
        "a = array('H', [4000, 10, 700, 22222])\r\n",
        "a"
      ],
      "execution_count": 70,
      "outputs": [
        {
          "output_type": "execute_result",
          "data": {
            "text/plain": [
              "array('H', [4000, 10, 700, 22222])"
            ]
          },
          "metadata": {
            "tags": []
          },
          "execution_count": 70
        }
      ]
    },
    {
      "cell_type": "code",
      "metadata": {
        "colab": {
          "base_uri": "https://localhost:8080/"
        },
        "id": "L_Rk7SRHdr33",
        "outputId": "d0fdeba3-2587-4bf8-a171-efca35ac909e"
      },
      "source": [
        "sum(a),a[1:3]"
      ],
      "execution_count": 72,
      "outputs": [
        {
          "output_type": "execute_result",
          "data": {
            "text/plain": [
              "(26932, array('H', [10, 700]))"
            ]
          },
          "metadata": {
            "tags": []
          },
          "execution_count": 72
        }
      ]
    },
    {
      "cell_type": "markdown",
      "metadata": {
        "id": "ewCAUzsWeuXE"
      },
      "source": [
        "\r\n",
        "\r\n",
        "---\r\n",
        "\r\n",
        "### リスト操作のtools\r\n",
        "\r\n",
        "> リストに対してdataの追加と端の取り出しが速い。一方で中間の参照は遅い。\r\n",
        "\r\n",
        "```\r\n",
        " import collections\r\n",
        "```\r\n",
        "\r\n"
      ]
    },
    {
      "cell_type": "code",
      "metadata": {
        "colab": {
          "base_uri": "https://localhost:8080/"
        },
        "id": "MhZoyIGidu_U",
        "outputId": "9bdfdad0-48ad-4d1a-d851-7c6f8e045849"
      },
      "source": [
        "from collections import deque\r\n",
        "\r\n",
        "# deque型のデータ\r\n",
        "d = deque(['task0', 'task1', 'task2'])\r\n",
        "d"
      ],
      "execution_count": 81,
      "outputs": [
        {
          "output_type": "execute_result",
          "data": {
            "text/plain": [
              "deque(['task0', 'task1', 'task2'])"
            ]
          },
          "metadata": {
            "tags": []
          },
          "execution_count": 81
        }
      ]
    },
    {
      "cell_type": "code",
      "metadata": {
        "colab": {
          "base_uri": "https://localhost:8080/"
        },
        "id": "_Mb9SJMEeSEz",
        "outputId": "dd296ea2-37ad-4282-ab82-3cdaee8a2002"
      },
      "source": [
        "d.append('task3')\r\n",
        "print(d.popleft())"
      ],
      "execution_count": 82,
      "outputs": [
        {
          "output_type": "stream",
          "text": [
            "task0\n"
          ],
          "name": "stdout"
        }
      ]
    },
    {
      "cell_type": "code",
      "metadata": {
        "colab": {
          "base_uri": "https://localhost:8080/"
        },
        "id": "SbNgRUPhees1",
        "outputId": "70e58e1b-2aa1-4948-e95a-e8d234ca36fb"
      },
      "source": [
        "d"
      ],
      "execution_count": 83,
      "outputs": [
        {
          "output_type": "execute_result",
          "data": {
            "text/plain": [
              "deque(['task1', 'task2', 'task3'])"
            ]
          },
          "metadata": {
            "tags": []
          },
          "execution_count": 83
        }
      ]
    },
    {
      "cell_type": "markdown",
      "metadata": {
        "id": "S9X00BHLf0tj"
      },
      "source": [
        "> 既に定義されているリストに対して、[sort](http://)を行い、データを追加する。\r\n",
        "\r\n",
        "```\r\n",
        " import bisect\r\n",
        "```\r\n",
        "\r\n"
      ]
    },
    {
      "cell_type": "code",
      "metadata": {
        "colab": {
          "base_uri": "https://localhost:8080/"
        },
        "id": "zUX7qGH2es8U",
        "outputId": "b27a348d-d9cf-446b-de75-cf408670bf86"
      },
      "source": [
        "import bisect\r\n",
        "\r\n",
        "score=[(100, 'peal'), (300, 'tcl'), (400, 'gpus'), (500, 'lua')]\r\n",
        "bisect.insort(score, (250, 'ruby'))\r\n",
        "score"
      ],
      "execution_count": 90,
      "outputs": [
        {
          "output_type": "execute_result",
          "data": {
            "text/plain": [
              "[(100, 'peal'), (250, 'ruby'), (300, 'tcl'), (400, 'gpus'), (500, 'lua')]"
            ]
          },
          "metadata": {
            "tags": []
          },
          "execution_count": 90
        }
      ]
    },
    {
      "cell_type": "code",
      "metadata": {
        "colab": {
          "base_uri": "https://localhost:8080/"
        },
        "id": "Z21lUcMSfTTI",
        "outputId": "6dd677f7-b7ea-4b0d-8f3f-6aa37c2d2f40"
      },
      "source": [
        "data=[10,20,30,40,50]\r\n",
        "\r\n",
        "bisect.insort(data,23)\r\n",
        "data"
      ],
      "execution_count": 93,
      "outputs": [
        {
          "output_type": "execute_result",
          "data": {
            "text/plain": [
              "[10, 20, 23, 30, 40, 50]"
            ]
          },
          "metadata": {
            "tags": []
          },
          "execution_count": 93
        }
      ]
    },
    {
      "cell_type": "markdown",
      "metadata": {
        "id": "WxGwklE7hqmy"
      },
      "source": [
        "> dataの挿入と、dataの抜き取り[pop()](http://)"
      ]
    },
    {
      "cell_type": "code",
      "metadata": {
        "colab": {
          "base_uri": "https://localhost:8080/"
        },
        "id": "BF4m7r4rgR2m",
        "outputId": "fe0f9d89-018e-44d8-e854-1b1517d2a107"
      },
      "source": [
        "from heapq import heapify,heappop,heappush\r\n",
        "\r\n",
        "data=[1,2,5,7,3,5,9,3]\r\n",
        "heapify(data)\r\n",
        "data"
      ],
      "execution_count": 103,
      "outputs": [
        {
          "output_type": "execute_result",
          "data": {
            "text/plain": [
              "[1, 2, 5, 3, 3, 5, 9, 7]"
            ]
          },
          "metadata": {
            "tags": []
          },
          "execution_count": 103
        }
      ]
    },
    {
      "cell_type": "code",
      "metadata": {
        "colab": {
          "base_uri": "https://localhost:8080/"
        },
        "id": "cWBj3U2QhA2N",
        "outputId": "a5b0315c-7803-4fbd-885c-d86c047c7bc6"
      },
      "source": [
        "heappush(data,-5)\r\n",
        "data"
      ],
      "execution_count": 104,
      "outputs": [
        {
          "output_type": "execute_result",
          "data": {
            "text/plain": [
              "[-5, 1, 5, 2, 3, 5, 9, 7, 3]"
            ]
          },
          "metadata": {
            "tags": []
          },
          "execution_count": 104
        }
      ]
    },
    {
      "cell_type": "code",
      "metadata": {
        "colab": {
          "base_uri": "https://localhost:8080/"
        },
        "id": "dvZJtPUOhOEk",
        "outputId": "0a792e74-897b-4b75-81a9-ae295f3c885e"
      },
      "source": [
        "[heappop(data) for i in range(3)]"
      ],
      "execution_count": 105,
      "outputs": [
        {
          "output_type": "execute_result",
          "data": {
            "text/plain": [
              "[-5, 1, 2]"
            ]
          },
          "metadata": {
            "tags": []
          },
          "execution_count": 105
        }
      ]
    },
    {
      "cell_type": "code",
      "metadata": {
        "colab": {
          "base_uri": "https://localhost:8080/"
        },
        "id": "ZMBkzR9shYaj",
        "outputId": "9b45010d-42a5-41fe-f1da-f5608640532a"
      },
      "source": [
        "data"
      ],
      "execution_count": 106,
      "outputs": [
        {
          "output_type": "execute_result",
          "data": {
            "text/plain": [
              "[3, 3, 5, 9, 7, 5]"
            ]
          },
          "metadata": {
            "tags": []
          },
          "execution_count": 106
        }
      ]
    },
    {
      "cell_type": "markdown",
      "metadata": {
        "id": "srwxxpJlh8Rq"
      },
      "source": [
        "\r\n",
        "\r\n",
        "---\r\n",
        "### 正確な数値計算\r\n",
        "> **0**に対して強い。計算精度の向上。\r\n",
        "\r\n",
        "\r\n",
        "```\r\n",
        " import decimal\r\n",
        "```\r\n",
        "\r\n",
        "\r\n"
      ]
    },
    {
      "cell_type": "markdown",
      "metadata": {
        "id": "np5vS90yirF6"
      },
      "source": [
        "計算結果が異なる。"
      ]
    },
    {
      "cell_type": "code",
      "metadata": {
        "colab": {
          "base_uri": "https://localhost:8080/"
        },
        "id": "qDw48Wa4hZYb",
        "outputId": "e9559281-ca2f-497c-8e19-980d22df4457"
      },
      "source": [
        "from decimal import *\r\n",
        "round(Decimal('0.70') * Decimal('1.05') , 2),round(.70 * 1.05, 2)"
      ],
      "execution_count": 109,
      "outputs": [
        {
          "output_type": "execute_result",
          "data": {
            "text/plain": [
              "(Decimal('0.74'), 0.73)"
            ]
          },
          "metadata": {
            "tags": []
          },
          "execution_count": 109
        }
      ]
    },
    {
      "cell_type": "code",
      "metadata": {
        "colab": {
          "base_uri": "https://localhost:8080/"
        },
        "id": "_-k9dsknhnWL",
        "outputId": "c2dc11f4-f1a0-4797-8476-bff0ce689583"
      },
      "source": [
        "Decimal('1.00')%Decimal('.10'), 1.00%0.10"
      ],
      "execution_count": 112,
      "outputs": [
        {
          "output_type": "execute_result",
          "data": {
            "text/plain": [
              "(Decimal('0.00'), 0.09999999999999995)"
            ]
          },
          "metadata": {
            "tags": []
          },
          "execution_count": 112
        }
      ]
    },
    {
      "cell_type": "markdown",
      "metadata": {
        "id": "2ccyUF2ikCUW"
      },
      "source": [
        "通常のリストでは1.0を正しく認識できない。"
      ]
    },
    {
      "cell_type": "code",
      "metadata": {
        "colab": {
          "base_uri": "https://localhost:8080/"
        },
        "id": "f7hvC7t1i6_k",
        "outputId": "9ec678e1-24cf-4082-ee43-6311eefa3b92"
      },
      "source": [
        "sum([Decimal('0.1')]*10) == Decimal('1.0'),sum([0.1]*10) == 1.0"
      ],
      "execution_count": 125,
      "outputs": [
        {
          "output_type": "execute_result",
          "data": {
            "text/plain": [
              "(True, False)"
            ]
          },
          "metadata": {
            "tags": []
          },
          "execution_count": 125
        }
      ]
    },
    {
      "cell_type": "markdown",
      "metadata": {
        "id": "Is_nbBsKkSYl"
      },
      "source": [
        "より正確な計算を行ってくれる。"
      ]
    },
    {
      "cell_type": "code",
      "metadata": {
        "colab": {
          "base_uri": "https://localhost:8080/"
        },
        "id": "KUoZrmW4jEAU",
        "outputId": "abbd2abc-f7b5-42d2-bb05-dc984f9cb8ad"
      },
      "source": [
        "Decimal(1)/Decimal(7),1/7"
      ],
      "execution_count": 127,
      "outputs": [
        {
          "output_type": "execute_result",
          "data": {
            "text/plain": [
              "(Decimal('0.1428571428571428571428571429'), 0.14285714285714285)"
            ]
          },
          "metadata": {
            "tags": []
          },
          "execution_count": 127
        }
      ]
    }
  ]
}