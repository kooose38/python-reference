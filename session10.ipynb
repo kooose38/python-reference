{
  "nbformat": 4,
  "nbformat_minor": 0,
  "metadata": {
    "colab": {
      "name": "session10.ipynb",
      "provenance": [],
      "authorship_tag": "ABX9TyMFi13A9/QWAsfgrMhtO1zV",
      "include_colab_link": true
    },
    "kernelspec": {
      "name": "python3",
      "display_name": "Python 3"
    }
  },
  "cells": [
    {
      "cell_type": "markdown",
      "metadata": {
        "id": "view-in-github",
        "colab_type": "text"
      },
      "source": [
        "<a href=\"https://colab.research.google.com/github/kooose38/python-reference/blob/master/session10.ipynb\" target=\"_parent\"><img src=\"https://colab.research.google.com/assets/colab-badge.svg\" alt=\"Open In Colab\"/></a>"
      ]
    },
    {
      "cell_type": "markdown",
      "metadata": {
        "id": "E7GU9UPtmyga"
      },
      "source": [
        "# 標準ライブラリ\r\n",
        "\r\n",
        "\r\n",
        "```\r\n",
        " import os\r\n",
        "```\r\n",
        "termionalで使用できる**command**のパッケージ\r\n",
        "\r\n",
        "\r\n",
        "*   pwd\r\n",
        "*   cd\r\n",
        "*   mkdir\r\n",
        "\r\n",
        "\r\n"
      ]
    },
    {
      "cell_type": "code",
      "metadata": {
        "colab": {
          "base_uri": "https://localhost:8080/",
          "height": 35
        },
        "id": "PWCr6y_zmvA3",
        "outputId": "c875e862-7694-45cd-c450-a355d6a213b6"
      },
      "source": [
        "import os\r\n",
        "os.getcwd()"
      ],
      "execution_count": 2,
      "outputs": [
        {
          "output_type": "execute_result",
          "data": {
            "application/vnd.google.colaboratory.intrinsic+json": {
              "type": "string"
            },
            "text/plain": [
              "'/content'"
            ]
          },
          "metadata": {
            "tags": []
          },
          "execution_count": 2
        }
      ]
    },
    {
      "cell_type": "code",
      "metadata": {
        "id": "9Et4CEnhoE89"
      },
      "source": [
        "os.chdir('/content/')"
      ],
      "execution_count": 3,
      "outputs": []
    },
    {
      "cell_type": "code",
      "metadata": {
        "colab": {
          "base_uri": "https://localhost:8080/"
        },
        "id": "DwzyJaXxoNLD",
        "outputId": "a3b41a07-35e6-46ed-e1ff-3d7e30aff1ff"
      },
      "source": [
        "os.system('mkdir sample')"
      ],
      "execution_count": 4,
      "outputs": [
        {
          "output_type": "execute_result",
          "data": {
            "text/plain": [
              "0"
            ]
          },
          "metadata": {
            "tags": []
          },
          "execution_count": 4
        }
      ]
    },
    {
      "cell_type": "markdown",
      "metadata": {
        "id": "ELTyVi8PojdE"
      },
      "source": [
        "command --helpのように使用できる"
      ]
    },
    {
      "cell_type": "code",
      "metadata": {
        "id": "fRjuubwioR0a"
      },
      "source": [
        "help(os),dir(os)"
      ],
      "execution_count": null,
      "outputs": []
    },
    {
      "cell_type": "markdown",
      "metadata": {
        "id": "kCCts9copLhl"
      },
      "source": [
        "\r\n",
        "\r\n",
        "```\r\n",
        " import shutil\r\n",
        "```\r\n",
        "\r\n",
        "\r\n",
        "*   copy\r\n",
        "*   mv\r\n",
        "のようなcommandを実行例。\r\n",
        "\r\n",
        "\r\n"
      ]
    },
    {
      "cell_type": "code",
      "metadata": {
        "colab": {
          "base_uri": "https://localhost:8080/",
          "height": 35
        },
        "id": "9Ly02BEloY_6",
        "outputId": "11717f4d-aa02-4c6c-f7e9-28894bc221f0"
      },
      "source": [
        "import shutil\r\n",
        "shutil.copyfile('./sample_data/README.md','sample.txt')"
      ],
      "execution_count": 11,
      "outputs": [
        {
          "output_type": "execute_result",
          "data": {
            "application/vnd.google.colaboratory.intrinsic+json": {
              "type": "string"
            },
            "text/plain": [
              "'sample.txt'"
            ]
          },
          "metadata": {
            "tags": []
          },
          "execution_count": 11
        }
      ]
    },
    {
      "cell_type": "code",
      "metadata": {
        "colab": {
          "base_uri": "https://localhost:8080/",
          "height": 35
        },
        "id": "jxKZbCVEotGq",
        "outputId": "ef2d88e2-1d32-4911-9d8a-b3b5b6d8b5b7"
      },
      "source": [
        "shutil.move('sample.txt','./sample/')"
      ],
      "execution_count": 12,
      "outputs": [
        {
          "output_type": "execute_result",
          "data": {
            "application/vnd.google.colaboratory.intrinsic+json": {
              "type": "string"
            },
            "text/plain": [
              "'./sample/sample.txt'"
            ]
          },
          "metadata": {
            "tags": []
          },
          "execution_count": 12
        }
      ]
    },
    {
      "cell_type": "markdown",
      "metadata": {
        "id": "8lXf9jEjphe5"
      },
      "source": [
        "\r\n",
        "\r\n",
        "```\r\n",
        " import glob\r\n",
        "```\r\n",
        "[glob](https://)はワイルドカード検索からファイルを生成するための関数を使用可能。\r\n",
        "\r\n"
      ]
    },
    {
      "cell_type": "code",
      "metadata": {
        "colab": {
          "base_uri": "https://localhost:8080/"
        },
        "id": "kfq6rrJmpIRz",
        "outputId": "58111e94-cfc6-44b5-ddf2-19b12cb07853"
      },
      "source": [
        "import glob\r\n",
        "glob.glob('./sample_data/*')"
      ],
      "execution_count": 13,
      "outputs": [
        {
          "output_type": "execute_result",
          "data": {
            "text/plain": [
              "['./sample_data/anscombe.json',\n",
              " './sample_data/README.md',\n",
              " './sample_data/mnist_test.csv',\n",
              " './sample_data/california_housing_train.csv',\n",
              " './sample_data/california_housing_test.csv',\n",
              " './sample_data/mnist_train_small.csv']"
            ]
          },
          "metadata": {
            "tags": []
          },
          "execution_count": 13
        }
      ]
    },
    {
      "cell_type": "markdown",
      "metadata": {
        "id": "hstOglBHqdl9"
      },
      "source": [
        "\r\n",
        "\r\n",
        "\r\n",
        "---\r\n",
        "\r\n",
        "\r\n",
        "```\r\n",
        " import sys\r\n",
        "```\r\n",
        "> コマンドライン引数を呼び出す関数をimportする。  \r\n",
        "コマンドライン引数とは、インタプリタからpythonコマンドを実行する際に引数として渡したもののこと。  \r\n",
        "\r\n",
        "\r\n",
        "```\r\n",
        "$ python sample.py apple banana orange \r\n",
        "```\r\n",
        "> この場合は、sample.pyからPython実行時に引数を３つ渡しているため、[sys](https://)の実行結果は次の通りになる。  \r\n",
        "\r\n",
        "\r\n",
        "```\r\n",
        " ['sample.py', 'apple', 'banana', 'orange']\r\n",
        "```\r\n",
        "> 第一引数には、**filename** が入る。\r\n",
        "\r\n",
        "\r\n",
        "\r\n"
      ]
    },
    {
      "cell_type": "code",
      "metadata": {
        "colab": {
          "base_uri": "https://localhost:8080/"
        },
        "id": "KSFS3aPrp8AU",
        "outputId": "83423904-3e3a-4328-dd4a-46f0e224914e"
      },
      "source": [
        "import sys\r\n",
        "print(sys.argv)"
      ],
      "execution_count": 14,
      "outputs": [
        {
          "output_type": "stream",
          "text": [
            "['/usr/local/lib/python3.7/dist-packages/ipykernel_launcher.py', '-f', '/root/.local/share/jupyter/runtime/kernel-7d4a5e04-3dbe-491a-a153-ea06c3ee92e0.json']\n"
          ],
          "name": "stdout"
        }
      ]
    },
    {
      "cell_type": "markdown",
      "metadata": {
        "id": "mKOTji-twyaX"
      },
      "source": [
        "さらに、\r\n",
        "\r\n",
        "\r\n",
        "```\r\n",
        " import argparse\r\n",
        "```\r\n",
        "を使うと、よりコマンドライン引数に指定ができる。\r\n",
        "下記は、[top.py](https://)で記述したものとして、実行時にコマンドから\r\n",
        "\r\n",
        "\r\n",
        "```\r\n",
        "$ python top.py --lines=5 alpha.txt beta.txt\r\n",
        "```\r\n",
        "を実行したときの例になる。\r\n",
        "\r\n",
        "\r\n",
        "\r\n"
      ]
    },
    {
      "cell_type": "code",
      "metadata": {
        "id": "6tlGXuoSqLg6"
      },
      "source": [
        "import argparse\r\n",
        "\r\n",
        "parser=argparse.ArgumentParser(prog='top',description='Show top from each file') #Parserの作成,descriptionは説明のみの機能なので任意\r\n",
        "parser.add_argument('filename', nargs='+') #引数の追加、 filenameのものをlist化して指定\r\n",
        "parser.add_argument('-l', '--lines', type=int, default=10) #--linesまたは-lに指定がなければ,defaultの１０になる。typeはint型のみ。\r\n",
        "args=parser.parse_args() #parserの解析\r\n",
        "print(args)"
      ],
      "execution_count": null,
      "outputs": []
    },
    {
      "cell_type": "markdown",
      "metadata": {
        "id": "o7zLve8XzNqI"
      },
      "source": [
        "上の結果としては、\r\n",
        "\r\n",
        "\r\n",
        "```\r\n",
        "   args.lines=5\r\n",
        "   args.filename=['alpha.txt', 'beta.txt']\r\n",
        "```\r\n",
        "に代入されている。  \r\n",
        "**呼び出し側では、[--](https://)は省略できる**　== args.--linesでなくてよい。\r\n",
        "\r\n"
      ]
    },
    {
      "cell_type": "markdown",
      "metadata": {
        "id": "3j6-MY6Y2J0p"
      },
      "source": [
        "\r\n",
        "\r\n",
        "---\r\n",
        "[sys](https://) module　には、 *stdin* *stdout* *stderr*　の属性がある。  \r\n",
        "*stderr*は、警告やエラーを出力する。  \r\n",
        "\r\n",
        "\r\n",
        "\r\n",
        "```\r\n",
        " sys.exit()\r\n",
        "```\r\n",
        "はスクリプトを終了させる。\r\n",
        "\r\n",
        "\r\n",
        "\r\n",
        "\r\n"
      ]
    },
    {
      "cell_type": "code",
      "metadata": {
        "colab": {
          "base_uri": "https://localhost:8080/"
        },
        "id": "Zqm2RNbTrdbd",
        "outputId": "154fc794-3ecb-49ea-e0e7-1ba1d2b7328f"
      },
      "source": [
        "sys.stderr.write('Waring!!')"
      ],
      "execution_count": 19,
      "outputs": [
        {
          "output_type": "stream",
          "text": [
            "Waring!!"
          ],
          "name": "stderr"
        }
      ]
    },
    {
      "cell_type": "markdown",
      "metadata": {
        "id": "TYoVRxGj3rGU"
      },
      "source": [
        "\r\n",
        "\r\n",
        "---\r\n",
        "\r\n",
        "\r\n",
        "```\r\n",
        " import re\r\n",
        "```\r\n",
        "は**正規表現**を扱うのに便利。\r\n",
        "\r\n"
      ]
    },
    {
      "cell_type": "code",
      "metadata": {
        "colab": {
          "base_uri": "https://localhost:8080/"
        },
        "id": "zRQQVG2V1HTB",
        "outputId": "7cb170df-c1f7-44bb-cce7-da280cc1e0dc"
      },
      "source": [
        "import re\r\n",
        "\r\n",
        "re.findall(r'\\bf[a-z]*', 'which foot or hand fell fastest'),re.sub(r'(\\b[a-z]+) \\1', r'\\1', 'cat in the hat')\r\n"
      ],
      "execution_count": 26,
      "outputs": [
        {
          "output_type": "execute_result",
          "data": {
            "text/plain": [
              "(['foot', 'fell', 'fastest'], 'cat in the hat')"
            ]
          },
          "metadata": {
            "tags": []
          },
          "execution_count": 26
        }
      ]
    },
    {
      "cell_type": "code",
      "metadata": {
        "colab": {
          "base_uri": "https://localhost:8080/",
          "height": 35
        },
        "id": "eiet-Jam3GXy",
        "outputId": "d6fb6f74-6ba3-4c94-8a5d-fefbd8c2642b"
      },
      "source": [
        "'tea for too'.replace('too', 'two')"
      ],
      "execution_count": 27,
      "outputs": [
        {
          "output_type": "execute_result",
          "data": {
            "application/vnd.google.colaboratory.intrinsic+json": {
              "type": "string"
            },
            "text/plain": [
              "'tea for two'"
            ]
          },
          "metadata": {
            "tags": []
          },
          "execution_count": 27
        }
      ]
    },
    {
      "cell_type": "markdown",
      "metadata": {
        "id": "FD8mPqNd-QMj"
      },
      "source": [
        "\r\n",
        "\r\n",
        "```\r\n",
        " import math\r\n",
        "```\r\n",
        "\r\n",
        "\r\n",
        "```\r\n",
        " import random\r\n",
        "```\r\n",
        "\r\n",
        "\r\n",
        "\r\n"
      ]
    },
    {
      "cell_type": "code",
      "metadata": {
        "colab": {
          "base_uri": "https://localhost:8080/"
        },
        "id": "4jiSVhHZ37o6",
        "outputId": "ba672c69-f8cb-4a9e-ab23-1f6e2451a9c9"
      },
      "source": [
        "import math\r\n",
        "math.cos(math.pi/4),math.log(1024,3)"
      ],
      "execution_count": 32,
      "outputs": [
        {
          "output_type": "execute_result",
          "data": {
            "text/plain": [
              "(0.7071067811865476, 6.309297535714574)"
            ]
          },
          "metadata": {
            "tags": []
          },
          "execution_count": 32
        }
      ]
    },
    {
      "cell_type": "code",
      "metadata": {
        "colab": {
          "base_uri": "https://localhost:8080/",
          "height": 35
        },
        "id": "sq8VEUN84O-3",
        "outputId": "aa2a2b10-21c3-4de1-dc62-4c916591ab27"
      },
      "source": [
        "import random\r\n",
        "\r\n",
        "random.choice(['apple', 'pear', 'banana'])"
      ],
      "execution_count": 34,
      "outputs": [
        {
          "output_type": "execute_result",
          "data": {
            "application/vnd.google.colaboratory.intrinsic+json": {
              "type": "string"
            },
            "text/plain": [
              "'pear'"
            ]
          },
          "metadata": {
            "tags": []
          },
          "execution_count": 34
        }
      ]
    },
    {
      "cell_type": "code",
      "metadata": {
        "colab": {
          "base_uri": "https://localhost:8080/"
        },
        "id": "TcbSSRtQ-l72",
        "outputId": "320afc49-c50b-4907-fff8-bc7061ba8f48"
      },
      "source": [
        "random.sample(range(100),10)"
      ],
      "execution_count": 37,
      "outputs": [
        {
          "output_type": "execute_result",
          "data": {
            "text/plain": [
              "[7, 91, 9, 24, 64, 20, 67, 50, 28, 81]"
            ]
          },
          "metadata": {
            "tags": []
          },
          "execution_count": 37
        }
      ]
    },
    {
      "cell_type": "code",
      "metadata": {
        "colab": {
          "base_uri": "https://localhost:8080/"
        },
        "id": "vuwRm66I-yF2",
        "outputId": "546e4483-bab3-4242-9119-91b5407f28e7"
      },
      "source": [
        "random.random(),random.randrange(6) # random float , random interger choice from range(6) "
      ],
      "execution_count": 39,
      "outputs": [
        {
          "output_type": "execute_result",
          "data": {
            "text/plain": [
              "(0.4276277498332438, 4)"
            ]
          },
          "metadata": {
            "tags": []
          },
          "execution_count": 39
        }
      ]
    },
    {
      "cell_type": "markdown",
      "metadata": {
        "id": "2IB9T6yN_LWe"
      },
      "source": [
        "\r\n",
        "\r\n",
        "```\r\n",
        " import statistics\r\n",
        "```\r\n",
        "統計で使えるmodule  \r\n",
        "\r\n",
        "\r\n"
      ]
    },
    {
      "cell_type": "code",
      "metadata": {
        "colab": {
          "base_uri": "https://localhost:8080/"
        },
        "id": "AGfm4EDg-8MO",
        "outputId": "84a5386a-9352-4027-fb80-1fe21af5e631"
      },
      "source": [
        "import statistics\r\n",
        "\r\n",
        "import numpy as np \r\n",
        "data=np.random.rand(10)*2\r\n",
        "data\r\n"
      ],
      "execution_count": 47,
      "outputs": [
        {
          "output_type": "execute_result",
          "data": {
            "text/plain": [
              "array([1.66855261, 1.15084752, 0.27550907, 0.92474203, 0.68740862,\n",
              "       0.73850751, 1.4462984 , 1.15929004, 0.07439007, 1.00180082])"
            ]
          },
          "metadata": {
            "tags": []
          },
          "execution_count": 47
        }
      ]
    },
    {
      "cell_type": "markdown",
      "metadata": {
        "id": "McvzrYKh_1PA"
      },
      "source": [
        "平均、中央値、分散"
      ]
    },
    {
      "cell_type": "code",
      "metadata": {
        "colab": {
          "base_uri": "https://localhost:8080/"
        },
        "id": "ta3av5Hf_XIO",
        "outputId": "ffbdbabb-3e2a-4911-cd62-6c34e57d83f9"
      },
      "source": [
        "statistics.mean(data),statistics.median(data),statistics.variance(data)"
      ],
      "execution_count": 48,
      "outputs": [
        {
          "output_type": "execute_result",
          "data": {
            "text/plain": [
              "(0.9127346696388358, 0.9632714238259495, 0.24128003517969868)"
            ]
          },
          "metadata": {
            "tags": []
          },
          "execution_count": 48
        }
      ]
    },
    {
      "cell_type": "markdown",
      "metadata": {
        "id": "S8pFlwnh__bq"
      },
      "source": [
        "\r\n",
        "\r\n",
        "---\r\n",
        "### internet Access\r\n",
        "\r\n",
        "\r\n",
        "\r\n",
        "1.   [urllib.request](https://)...APIへのrequests\r\n",
        "2.   [smtplib](https://)...メール送信\r\n",
        "\r\n"
      ]
    },
    {
      "cell_type": "code",
      "metadata": {
        "id": "4EJi2LGw_0TG"
      },
      "source": [
        "from urllib.request import urlopen\r\n",
        "\r\n",
        "with urlopen('http://tycho.usno.navy.mil/cgi-bin/timer.pl') as respose:\r\n",
        "  for line in respose:\r\n",
        "    line = line.decode('utf-8')\r\n",
        "    if 'EST' in line or 'EDT' in line:\r\n",
        "      print(line)"
      ],
      "execution_count": null,
      "outputs": []
    },
    {
      "cell_type": "code",
      "metadata": {
        "id": "uNbUc1YUAoFZ"
      },
      "source": [
        "import smtplib\r\n",
        "\r\n",
        "server= smtplib.SMTP('localhost')\r\n",
        "server.sendmail('hello@example.com','json@example.com',\r\n",
        "                '''To: json@example.com\r\n",
        "                FROM: hello@example.com\r\n",
        "                \r\n",
        "                hello world.\r\n",
        "                ''')\r\n",
        "server.quit()"
      ],
      "execution_count": null,
      "outputs": []
    },
    {
      "cell_type": "markdown",
      "metadata": {
        "id": "fTUBzO2tB8U5"
      },
      "source": [
        "\r\n",
        "\r\n",
        "---\r\n",
        "### datetime関数\r\n",
        "\r\n"
      ]
    },
    {
      "cell_type": "code",
      "metadata": {
        "colab": {
          "base_uri": "https://localhost:8080/"
        },
        "id": "yK1bod1IBWme",
        "outputId": "86391a1f-92e3-4efe-e7a3-4c2baac7a3e7"
      },
      "source": [
        "from datetime import date\r\n",
        "\r\n",
        "now=date.today()\r\n",
        "now"
      ],
      "execution_count": 58,
      "outputs": [
        {
          "output_type": "execute_result",
          "data": {
            "text/plain": [
              "datetime.date(2021, 2, 25)"
            ]
          },
          "metadata": {
            "tags": []
          },
          "execution_count": 58
        }
      ]
    },
    {
      "cell_type": "code",
      "metadata": {
        "colab": {
          "base_uri": "https://localhost:8080/",
          "height": 35
        },
        "id": "clj9X9SPCDWd",
        "outputId": "b5cfc193-1ada-4437-8914-98304e95e225"
      },
      "source": [
        "now.strftime('%Y-%m-%d  %H:%M:%S -- day of the %B')"
      ],
      "execution_count": 60,
      "outputs": [
        {
          "output_type": "execute_result",
          "data": {
            "application/vnd.google.colaboratory.intrinsic+json": {
              "type": "string"
            },
            "text/plain": [
              "'2021-02-25  00:00:00 -- day of the February'"
            ]
          },
          "metadata": {
            "tags": []
          },
          "execution_count": 60
        }
      ]
    },
    {
      "cell_type": "code",
      "metadata": {
        "colab": {
          "base_uri": "https://localhost:8080/"
        },
        "id": "j0b9vL47CUlg",
        "outputId": "ce377b70-5c2a-47c1-fc9e-f8e4ce3a2483"
      },
      "source": [
        "birthday=date(1999,1,1)\r\n",
        "age=now-birthday\r\n",
        "age.days"
      ],
      "execution_count": 61,
      "outputs": [
        {
          "output_type": "execute_result",
          "data": {
            "text/plain": [
              "8091"
            ]
          },
          "metadata": {
            "tags": []
          },
          "execution_count": 61
        }
      ]
    },
    {
      "cell_type": "markdown",
      "metadata": {
        "id": "73tnwXsuCsuA"
      },
      "source": [
        "\r\n",
        "\r\n",
        "---\r\n",
        "### data圧縮\r\n",
        "\r\n",
        "zip,tarfileに置き換える\r\n"
      ]
    },
    {
      "cell_type": "code",
      "metadata": {
        "colab": {
          "base_uri": "https://localhost:8080/"
        },
        "id": "K6nrva2_CpbF",
        "outputId": "b7dd9f72-6569-4a8a-8c5f-21e8ec3ca7ab"
      },
      "source": [
        "import zlib\r\n",
        "\r\n",
        "s=b'which has which witches write watch '\r\n",
        "len(s),print(s)"
      ],
      "execution_count": 64,
      "outputs": [
        {
          "output_type": "stream",
          "text": [
            "b'which has which witches write watch '\n"
          ],
          "name": "stdout"
        },
        {
          "output_type": "execute_result",
          "data": {
            "text/plain": [
              "(36, None)"
            ]
          },
          "metadata": {
            "tags": []
          },
          "execution_count": 64
        }
      ]
    },
    {
      "cell_type": "code",
      "metadata": {
        "colab": {
          "base_uri": "https://localhost:8080/"
        },
        "id": "f9wpgOWtC3dF",
        "outputId": "2f93b8f2-d86d-4253-afca-c56f4fc02917"
      },
      "source": [
        "t = zlib.compress(s)\r\n",
        "len(t),print(t)"
      ],
      "execution_count": 65,
      "outputs": [
        {
          "output_type": "stream",
          "text": [
            "b'x\\x9c+\\xcf\\xc8L\\xceP\\xc8H,V(\\x07\\xb3\\xca3K\\x923R\\x81\\xbc\\xa2\\xcc\\x92T\\x85\\xf2D O\\x01\\x00\\xf9\\xc8\\r\\\\'\n"
          ],
          "name": "stdout"
        },
        {
          "output_type": "execute_result",
          "data": {
            "text/plain": [
              "(38, None)"
            ]
          },
          "metadata": {
            "tags": []
          },
          "execution_count": 65
        }
      ]
    },
    {
      "cell_type": "code",
      "metadata": {
        "colab": {
          "base_uri": "https://localhost:8080/"
        },
        "id": "eIjbD81uDHfX",
        "outputId": "e221a6f0-9374-486e-fab7-eed75a3ec304"
      },
      "source": [
        "zlib.decompress(t)"
      ],
      "execution_count": 66,
      "outputs": [
        {
          "output_type": "execute_result",
          "data": {
            "text/plain": [
              "b'which has which witches write watch '"
            ]
          },
          "metadata": {
            "tags": []
          },
          "execution_count": 66
        }
      ]
    },
    {
      "cell_type": "code",
      "metadata": {
        "colab": {
          "base_uri": "https://localhost:8080/"
        },
        "id": "rjt76EJxDNx2",
        "outputId": "cd5de71d-e4d1-4d88-e4ce-a3235f596532"
      },
      "source": [
        "zlib.crc32(s)"
      ],
      "execution_count": 67,
      "outputs": [
        {
          "output_type": "execute_result",
          "data": {
            "text/plain": [
              "3152169044"
            ]
          },
          "metadata": {
            "tags": []
          },
          "execution_count": 67
        }
      ]
    },
    {
      "cell_type": "markdown",
      "metadata": {
        "id": "OZvOP7SUGHWo"
      },
      "source": [
        "\r\n",
        "\r\n",
        "---\r\n",
        "計測を行う\r\n",
        "\r\n",
        "\r\n",
        "```\r\n",
        " import timeit\r\n",
        "```\r\n",
        "\r\n",
        "\r\n"
      ]
    },
    {
      "cell_type": "code",
      "metadata": {
        "colab": {
          "base_uri": "https://localhost:8080/"
        },
        "id": "k_OrIzRPDRx9",
        "outputId": "7587b93a-b2c5-473b-826d-c269c1bd3923"
      },
      "source": [
        "from timeit import Timer\r\n",
        "\r\n",
        "Timer('t=a; a=b; b=t', 'a=1; b=2').timeit()"
      ],
      "execution_count": 74,
      "outputs": [
        {
          "output_type": "execute_result",
          "data": {
            "text/plain": [
              "0.0334616919999462"
            ]
          },
          "metadata": {
            "tags": []
          },
          "execution_count": 74
        }
      ]
    },
    {
      "cell_type": "markdown",
      "metadata": {
        "id": "S5VTyGmlGPST"
      },
      "source": [
        ""
      ]
    },
    {
      "cell_type": "code",
      "metadata": {
        "colab": {
          "base_uri": "https://localhost:8080/"
        },
        "id": "POADmsgSDX3d",
        "outputId": "017291a5-3941-4f3f-a2c5-249140818eb2"
      },
      "source": [
        "Timer('a,b = b,a', 'a=1; b=2').timeit()"
      ],
      "execution_count": 75,
      "outputs": [
        {
          "output_type": "execute_result",
          "data": {
            "text/plain": [
              "0.028806934999920486"
            ]
          },
          "metadata": {
            "tags": []
          },
          "execution_count": 75
        }
      ]
    },
    {
      "cell_type": "markdown",
      "metadata": {
        "id": "8tHNf-OMEUAe"
      },
      "source": [
        "\r\n",
        "\r\n",
        "---\r\n",
        "### テストメソッド\r\n",
        "\r\n",
        "\r\n",
        "*   [doctest](https://)...端的なテスト\r\n",
        "*   [unittest](https://)...より網羅的なテスト\r\n",
        "\r\n",
        "\r\n"
      ]
    },
    {
      "cell_type": "code",
      "metadata": {
        "colab": {
          "base_uri": "https://localhost:8080/"
        },
        "id": "EO3FDofxD1Nc",
        "outputId": "d0b8f340-a285-4d99-f953-7b9236538acc"
      },
      "source": [
        "def average(values):\r\n",
        "  '''print(average([20,30,40]))\r\n",
        "  40.0\r\n",
        "  '''\r\n",
        "  return sum(values)/len(values)\r\n",
        "\r\n",
        "import doctest\r\n",
        "doctest.testmod()"
      ],
      "execution_count": 79,
      "outputs": [
        {
          "output_type": "execute_result",
          "data": {
            "text/plain": [
              "TestResults(failed=0, attempted=0)"
            ]
          },
          "metadata": {
            "tags": []
          },
          "execution_count": 79
        }
      ]
    },
    {
      "cell_type": "code",
      "metadata": {
        "colab": {
          "base_uri": "https://localhost:8080/",
          "height": 321
        },
        "id": "DGh7ifbBEPTs",
        "outputId": "26e46f8f-b1bb-41f2-8826-7e112fdeeb9c"
      },
      "source": [
        "import unittest\r\n",
        "\r\n",
        "class TestStatistFuctional(unittest.TestCase):\r\n",
        "\r\n",
        "  def test_average(self):\r\n",
        "    self.assertEqual(average([20,30,40]),40.0)\r\n",
        "    self.assertEqual(round(average([1,5,7]),1),4.3)\r\n",
        "    with self.assertRaisez(ZeroDivisionError):\r\n",
        "      average([])\r\n",
        "    with self.assertRaises(TypeError):\r\n",
        "      average(20,30,40)\r\n",
        "\r\n",
        "unittest.main()"
      ],
      "execution_count": 81,
      "outputs": [
        {
          "output_type": "stream",
          "text": [
            "E\n",
            "======================================================================\n",
            "ERROR: /root/ (unittest.loader._FailedTest)\n",
            "----------------------------------------------------------------------\n",
            "AttributeError: module '__main__' has no attribute '/root/'\n",
            "\n",
            "----------------------------------------------------------------------\n",
            "Ran 1 test in 0.001s\n",
            "\n",
            "FAILED (errors=1)\n"
          ],
          "name": "stderr"
        },
        {
          "output_type": "error",
          "ename": "SystemExit",
          "evalue": "ignored",
          "traceback": [
            "An exception has occurred, use %tb to see the full traceback.\n",
            "\u001b[0;31mSystemExit\u001b[0m\u001b[0;31m:\u001b[0m True\n"
          ]
        },
        {
          "output_type": "stream",
          "text": [
            "/usr/local/lib/python3.7/dist-packages/IPython/core/interactiveshell.py:2890: UserWarning: To exit: use 'exit', 'quit', or Ctrl-D.\n",
            "  warn(\"To exit: use 'exit', 'quit', or Ctrl-D.\", stacklevel=1)\n"
          ],
          "name": "stderr"
        }
      ]
    },
    {
      "cell_type": "markdown",
      "metadata": {
        "id": "Gg8n3Z02GTUS"
      },
      "source": [
        "\r\n",
        "\r\n",
        "---\r\n",
        "\r\n",
        "\r\n",
        "そのほかのpackageとして、\r\n",
        "\r\n",
        "\r\n",
        "\r\n",
        "*   [xmlrpc.client, xmlrpc.server](https://)...遠隔手続き\r\n",
        "*   [email](https://)...mail管理する\r\n",
        "*   [json](https://)...データ交換形式\r\n",
        "*   [sqlite3](https://)...database操作\r\n",
        "*   [gettext, locale, codecs](https://)...国際化に関する機能\r\n",
        "\r\n"
      ]
    }
  ]
}