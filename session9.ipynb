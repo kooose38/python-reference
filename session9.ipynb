{
  "nbformat": 4,
  "nbformat_minor": 0,
  "metadata": {
    "colab": {
      "name": "session9.ipynb",
      "provenance": [],
      "authorship_tag": "ABX9TyN6fB7WNIXlbUV0RY6tXnGB",
      "include_colab_link": true
    },
    "kernelspec": {
      "name": "python3",
      "display_name": "Python 3"
    }
  },
  "cells": [
    {
      "cell_type": "markdown",
      "metadata": {
        "id": "view-in-github",
        "colab_type": "text"
      },
      "source": [
        "<a href=\"https://colab.research.google.com/github/kooose38/python-reference/blob/master/session9.ipynb\" target=\"_parent\"><img src=\"https://colab.research.google.com/assets/colab-badge.svg\" alt=\"Open In Colab\"/></a>"
      ]
    },
    {
      "cell_type": "markdown",
      "metadata": {
        "id": "AmgcspZAkGbH"
      },
      "source": [
        "# Class\r\n",
        "\r\n",
        "\r\n",
        "\r\n",
        "1.   global\r\n",
        "\r\n",
        ">  特定の変数がグローバルスコープに存在し、そこで束縛されることを示す。  \r\n",
        "つまり、一番外側(module化された)に存在。\r\n",
        "\r\n",
        "\r\n",
        "2.   nonlocal\r\n",
        "\r\n",
        "> 特定の変数がすぐ外側のスコープに存在し、そこで束縛されることを示す。  \r\n",
        "つまり、関数内のスコープに存在。また、その関数内では、変数(spam)に対して再定義できない。\r\n"
      ]
    },
    {
      "cell_type": "code",
      "metadata": {
        "colab": {
          "base_uri": "https://localhost:8080/"
        },
        "id": "lTCPwy8Gj3gj",
        "outputId": "8bb3ba53-d53d-40ba-c48c-1f177ab378dc"
      },
      "source": [
        "def scope_test():\r\n",
        "  def do_local():\r\n",
        "    spam= 'local spam'\r\n",
        "  \r\n",
        "  def do_nonlocal():\r\n",
        "    nonlocal spam\r\n",
        "    spam = 'nonlocal spam'\r\n",
        "  \r\n",
        "  def do_global():\r\n",
        "    global spam\r\n",
        "    spam = 'global spam'\r\n",
        "\r\n",
        "  spam = 'test spam'\r\n",
        "  do_local()\r\n",
        "  print('sapm of the :',spam)\r\n",
        "  do_nonlocal()\r\n",
        "  print('sapm of the :',spam)\r\n",
        "  do_global()\r\n",
        "  print('sapm of the :',spam)\r\n",
        "scope_test()\r\n",
        "print('spam of the :',spam)"
      ],
      "execution_count": 6,
      "outputs": [
        {
          "output_type": "stream",
          "text": [
            "sapm of the : test spam\n",
            "sapm of the : nonlocal spam\n",
            "sapm of the : nonlocal spam\n",
            "spam of the : global spam\n"
          ],
          "name": "stdout"
        }
      ]
    },
    {
      "cell_type": "markdown",
      "metadata": {
        "id": "xKO0Wq6lsjF6"
      },
      "source": [
        "\r\n",
        "### class object\r\n",
        "\r\n",
        "\r\n",
        "```\r\n",
        "  __doc__\r\n",
        "```\r\n",
        "class内に存在する'''A simple example class'''を返す(comment)\r\n",
        "\r\n",
        "```\r\n",
        "  def __init__()\r\n",
        "```\r\n",
        "\r\n"
      ]
    },
    {
      "cell_type": "code",
      "metadata": {
        "colab": {
          "base_uri": "https://localhost:8080/"
        },
        "id": "ZLlwF3RFqR7l",
        "outputId": "39ae832b-67e5-4fcc-d987-425acdbf0034"
      },
      "source": [
        "class Complex:\r\n",
        "  def __init__(self,realpart,imagpart):\r\n",
        "    self.r=realpart\r\n",
        "    self.i=imagpart\r\n",
        "  \r\n",
        "x=Complex(3.0,-4.5)\r\n",
        "x.r,x.i"
      ],
      "execution_count": 8,
      "outputs": [
        {
          "output_type": "execute_result",
          "data": {
            "text/plain": [
              "(3.0, -4.5)"
            ]
          },
          "metadata": {
            "tags": []
          },
          "execution_count": 8
        }
      ]
    },
    {
      "cell_type": "markdown",
      "metadata": {
        "id": "ueT85fEYvOlq"
      },
      "source": [
        "**インスタンスに対して新たに変数宣言して文字列を代入することができる**"
      ]
    },
    {
      "cell_type": "code",
      "metadata": {
        "colab": {
          "base_uri": "https://localhost:8080/"
        },
        "id": "opbSpDY8tj16",
        "outputId": "5dee3b25-40ef-41e8-fc5d-1816714ed3fc"
      },
      "source": [
        "x.counter=1\r\n",
        "while x.counter < 10:\r\n",
        "  x.counter=x.counter*2\r\n",
        "print(x.counter)\r\n",
        "del x.counter"
      ],
      "execution_count": 12,
      "outputs": [
        {
          "output_type": "stream",
          "text": [
            "16\n"
          ],
          "name": "stdout"
        }
      ]
    },
    {
      "cell_type": "code",
      "metadata": {
        "colab": {
          "base_uri": "https://localhost:8080/"
        },
        "id": "SUCvNyRsuzyp",
        "outputId": "532de4b4-9699-473a-c5e8-eecc3d3cbe13"
      },
      "source": [
        "class Myclass:\r\n",
        "  '''A simple example class'''\r\n",
        "  i = 12345\r\n",
        "\r\n",
        "  def f(self):\r\n",
        "    return 'hello world'\r\n",
        "Myclass.i\r\n"
      ],
      "execution_count": 23,
      "outputs": [
        {
          "output_type": "execute_result",
          "data": {
            "text/plain": [
              "12345"
            ]
          },
          "metadata": {
            "tags": []
          },
          "execution_count": 23
        }
      ]
    },
    {
      "cell_type": "markdown",
      "metadata": {
        "id": "K1naFblqw7SO"
      },
      "source": [
        "**これは同等ではないことに注意**  \r\n",
        "関数ではなくclassメソッド内のobject"
      ]
    },
    {
      "cell_type": "code",
      "metadata": {
        "colab": {
          "base_uri": "https://localhost:8080/"
        },
        "id": "zXT2IQ2qvLS6",
        "outputId": "085250a6-2ec7-4532-bad7-0318a6985334"
      },
      "source": [
        "x=Myclass()\r\n",
        "Myclass.f, x.f"
      ],
      "execution_count": 24,
      "outputs": [
        {
          "output_type": "execute_result",
          "data": {
            "text/plain": [
              "(<function __main__.Myclass.f>,\n",
              " <bound method Myclass.f of <__main__.Myclass object at 0x7f52286e66d0>>)"
            ]
          },
          "metadata": {
            "tags": []
          },
          "execution_count": 24
        }
      ]
    },
    {
      "cell_type": "code",
      "metadata": {
        "colab": {
          "base_uri": "https://localhost:8080/",
          "height": 35
        },
        "id": "ZpOgZZQAw5nZ",
        "outputId": "1b2ec8b5-11d5-4160-c5c3-77523ea7d655"
      },
      "source": [
        "x.__doc__"
      ],
      "execution_count": 26,
      "outputs": [
        {
          "output_type": "execute_result",
          "data": {
            "application/vnd.google.colaboratory.intrinsic+json": {
              "type": "string"
            },
            "text/plain": [
              "'A simple example class'"
            ]
          },
          "metadata": {
            "tags": []
          },
          "execution_count": 26
        }
      ]
    },
    {
      "cell_type": "markdown",
      "metadata": {
        "id": "wmOwVy2DzHdH"
      },
      "source": [
        "\r\n",
        "---\r\n",
        "変数をClass内のどこに置くかによってスコープが異なる。  \r\n",
        "例えば、下記では\r\n",
        "\r\n",
        "```\r\n",
        " self.name\r\n",
        "```\r\n",
        "には、それぞれのインスタンス毎に処理がされるが、\r\n",
        "\r\n",
        "\r\n",
        "```\r\n",
        " tricks=[]\r\n",
        "```\r\n",
        "は、すべてのインスタンスで共通して持っているので意図しない実行結果になる。\r\n",
        "\r\n",
        "\r\n",
        "\r\n",
        "\r\n"
      ]
    },
    {
      "cell_type": "code",
      "metadata": {
        "colab": {
          "base_uri": "https://localhost:8080/"
        },
        "id": "dBnRaVGjzG2Z",
        "outputId": "4ee0a4bc-9356-411f-de01-ea3ba8201bbc"
      },
      "source": [
        "class Dog:\r\n",
        "\r\n",
        "  tricks=[]\r\n",
        "\r\n",
        "  def __init__(self,name):\r\n",
        "    self.name=name\r\n",
        "\r\n",
        "  def add_tricks(self,trick):\r\n",
        "    self.tricks.append(trick)\r\n",
        "\r\n",
        "d=Dog('Fido')\r\n",
        "e=Dog('Bubby')\r\n",
        "\r\n",
        "d.name,e.name"
      ],
      "execution_count": 28,
      "outputs": [
        {
          "output_type": "execute_result",
          "data": {
            "text/plain": [
              "('Fido', 'Bubby')"
            ]
          },
          "metadata": {
            "tags": []
          },
          "execution_count": 28
        }
      ]
    },
    {
      "cell_type": "markdown",
      "metadata": {
        "id": "E-q3eNo90fY1"
      },
      "source": [
        "**add_tricks()の実行結果が残ったままになっている。**"
      ]
    },
    {
      "cell_type": "code",
      "metadata": {
        "colab": {
          "base_uri": "https://localhost:8080/"
        },
        "id": "Vmzy-UiixPkh",
        "outputId": "77ed9f4c-428e-49e8-a5d4-6e7083635030"
      },
      "source": [
        "e.add_tricks('roll over')\r\n",
        "d.add_tricks('play dead')\r\n",
        "d.tricks"
      ],
      "execution_count": 29,
      "outputs": [
        {
          "output_type": "execute_result",
          "data": {
            "text/plain": [
              "['roll over', 'play dead']"
            ]
          },
          "metadata": {
            "tags": []
          },
          "execution_count": 29
        }
      ]
    },
    {
      "cell_type": "markdown",
      "metadata": {
        "id": "r3ATilSU0v17"
      },
      "source": [
        "つまり、\r\n",
        "\r\n",
        "\r\n",
        "```\r\n",
        " def __init__(self,name):\r\n",
        "    self.name=name\r\n",
        "    self.tricks=[]\r\n",
        "```\r\n",
        "にするのが、正しい。\r\n"
      ]
    },
    {
      "cell_type": "markdown",
      "metadata": {
        "id": "OmpSwN9z3Phr"
      },
      "source": [
        "methodは **self** 引数の属性を使って、ほかのmethodを呼び出すことができる。"
      ]
    },
    {
      "cell_type": "code",
      "metadata": {
        "id": "mUg9Gk6l0cxS"
      },
      "source": [
        "class Bag:\r\n",
        "  def __init__(self):\r\n",
        "    self.data=[]\r\n",
        "\r\n",
        "  def add(self,x):\r\n",
        "    self.data.append(x)\r\n",
        "\r\n",
        "  def addwice(self,y):\r\n",
        "    return self.add(y)"
      ],
      "execution_count": 31,
      "outputs": []
    },
    {
      "cell_type": "markdown",
      "metadata": {
        "id": "3NUAEVEZ_L5D"
      },
      "source": [
        "## 継承クラス\r\n",
        "\r\n",
        "\r\n",
        "\r\n",
        "1.   base class (持ってきたきたクラス)\r\n",
        "2.   derived class (継承するクラス)\r\n",
        "\r\n",
        "特徴として、まず継承するクラスの関数名を探し、なければ持ってきたクラスから関数名を検索する。どちらにも存在しないなら当然エラーのなる。  \r\n",
        "メソッドの上書きも可能。(override)  \r\n",
        "また、持ってきたクラスの関数を呼び出す場合、\r\n",
        "\r\n",
        "```\r\n",
        "　BaseClassName.methodName(self,argments)\r\n",
        "```\r\n",
        "で呼び出し。\r\n",
        "\r\n",
        "継承に関する２つの組み込み関数が存在する。\r\n",
        "\r\n",
        "\r\n",
        "> \r\n",
        "\r\n",
        "1.   型を調べる\r\n",
        "\r\n",
        "```\r\n",
        " instance(obj,int)\r\n",
        "```\r\n",
        "\r\n",
        "\r\n",
        "2.   クラスの継承関係を調べる。\r\n",
        "\r\n",
        "\r\n",
        "\r\n",
        "```\r\n",
        " issubclass(bool,int)\r\n",
        " issubclass(float,int)\r\n",
        "```\r\n",
        "この場合、**bool** は **int** のサブクラスなので **True** が返る。  \r\n",
        "**float** は **int** のサブクラスではないので **False** が返る。\r\n",
        " \r\n",
        "\r\n",
        "\r\n",
        "\r\n",
        "\r\n",
        "\r\n",
        "\r\n"
      ]
    },
    {
      "cell_type": "markdown",
      "metadata": {
        "id": "MXZL-NJKCKcP"
      },
      "source": [
        "### 多重継承\r\n",
        "\r\n",
        "\r\n",
        "\r\n",
        "```\r\n",
        " class Sampleclass(Base1,Base2,Base3):\r\n",
        "  <statement-1>\r\n",
        "  <statement-N>\r\n",
        "```\r\n",
        "左から優先して検索される。\r\n",
        "\r\n"
      ]
    },
    {
      "cell_type": "markdown",
      "metadata": {
        "id": "xGtPIzysC11q"
      },
      "source": [
        "## プライベートな変数\r\n",
        "\r\n",
        "pythonにはprivateは原則存在しない。しかし、[__](https://) によってClass間の関数を識別することが可能である。  \r\n",
        "\r\n",
        "この場合、\r\n",
        "\r\n",
        "\r\n",
        "```\r\n",
        " __update = update\r\n",
        "```\r\n",
        "によって[_Mapping__update](https://)に識別され、[MappingSubclass.update](https://)とは完全に分離して認識させることができ、[_MappingSubclass__update](https://)として扱われるのが正しい。\r\n",
        "\r\n"
      ]
    },
    {
      "cell_type": "code",
      "metadata": {
        "id": "t3i9yKLm23Wq"
      },
      "source": [
        "class Mapping:\r\n",
        "  def __init__(self,iterable):\r\n",
        "    self.items_list=[]\r\n",
        "    self.__update(iterable)\r\n",
        "\r\n",
        "  def update(self,iterable):\r\n",
        "    for item in self.iterable:\r\n",
        "      self.items_list.append(item)\r\n",
        "  #ここで_Mapping__updateとして認識\r\n",
        "  __update=update\r\n",
        "\r\n",
        "class MappingSubclass(Mapping):\r\n",
        "  def update(self,keys,values):\r\n",
        "    for item in zip(keys,values):\r\n",
        "      self.items_list.append(item)"
      ],
      "execution_count": 44,
      "outputs": []
    },
    {
      "cell_type": "markdown",
      "metadata": {
        "id": "XkTzzV7IGSUY"
      },
      "source": [
        "## iterator\r\n",
        "\r\n",
        "for文の中でfor文が実行されている関数のこと。[iter()](https://)。こちら、[next()](https://)と使う。  \r\n",
        "要素がない場合、StopIteration例外をだす。  \r\n",
        "ただし実行するごとに、元のデータを変更するのでfor文とは異なる。\r\n",
        "\r\n",
        "\r\n",
        "```\r\n",
        " next(iter(data))\r\n",
        "```\r\n",
        "\r\n"
      ]
    },
    {
      "cell_type": "code",
      "metadata": {
        "colab": {
          "base_uri": "https://localhost:8080/"
        },
        "id": "s5guJkrG4826",
        "outputId": "10641379-0be6-4a76-a1b9-0803a61dd9ac"
      },
      "source": [
        "s='ab'\r\n",
        "it=iter(s)\r\n",
        "it"
      ],
      "execution_count": 45,
      "outputs": [
        {
          "output_type": "execute_result",
          "data": {
            "text/plain": [
              "<str_iterator at 0x7f522055e3d0>"
            ]
          },
          "metadata": {
            "tags": []
          },
          "execution_count": 45
        }
      ]
    },
    {
      "cell_type": "code",
      "metadata": {
        "colab": {
          "base_uri": "https://localhost:8080/",
          "height": 35
        },
        "id": "-i0wHtq57vkG",
        "outputId": "9d6f1b5b-cda5-426f-9641-0e4c949a9cd0"
      },
      "source": [
        "next(it)"
      ],
      "execution_count": 46,
      "outputs": [
        {
          "output_type": "execute_result",
          "data": {
            "application/vnd.google.colaboratory.intrinsic+json": {
              "type": "string"
            },
            "text/plain": [
              "'a'"
            ]
          },
          "metadata": {
            "tags": []
          },
          "execution_count": 46
        }
      ]
    },
    {
      "cell_type": "code",
      "metadata": {
        "colab": {
          "base_uri": "https://localhost:8080/",
          "height": 35
        },
        "id": "k8qTu7mm9a_A",
        "outputId": "70572e13-392b-49d8-bbe0-a819ce588b4b"
      },
      "source": [
        "next(it)"
      ],
      "execution_count": 47,
      "outputs": [
        {
          "output_type": "execute_result",
          "data": {
            "application/vnd.google.colaboratory.intrinsic+json": {
              "type": "string"
            },
            "text/plain": [
              "'b'"
            ]
          },
          "metadata": {
            "tags": []
          },
          "execution_count": 47
        }
      ]
    },
    {
      "cell_type": "code",
      "metadata": {
        "colab": {
          "base_uri": "https://localhost:8080/",
          "height": 168
        },
        "id": "gFqehmR89vrm",
        "outputId": "3c26c39f-35a1-41ef-b11c-04e11841df03"
      },
      "source": [
        "next(it)"
      ],
      "execution_count": 48,
      "outputs": [
        {
          "output_type": "error",
          "ename": "StopIteration",
          "evalue": "ignored",
          "traceback": [
            "\u001b[0;31m---------------------------------------------------------------------------\u001b[0m",
            "\u001b[0;31mStopIteration\u001b[0m                             Traceback (most recent call last)",
            "\u001b[0;32m<ipython-input-48-9b79322a121e>\u001b[0m in \u001b[0;36m<module>\u001b[0;34m()\u001b[0m\n\u001b[0;32m----> 1\u001b[0;31m \u001b[0mnext\u001b[0m\u001b[0;34m(\u001b[0m\u001b[0mit\u001b[0m\u001b[0;34m)\u001b[0m\u001b[0;34m,\u001b[0m\u001b[0mnext\u001b[0m\u001b[0;34m(\u001b[0m\u001b[0mit\u001b[0m\u001b[0;34m)\u001b[0m\u001b[0;34m\u001b[0m\u001b[0;34m\u001b[0m\u001b[0m\n\u001b[0m",
            "\u001b[0;31mStopIteration\u001b[0m: "
          ]
        }
      ]
    },
    {
      "cell_type": "markdown",
      "metadata": {
        "id": "vo1L_v6LIPLo"
      },
      "source": [
        "上に同様の処理をClassにしたもの。"
      ]
    },
    {
      "cell_type": "code",
      "metadata": {
        "id": "Ch-rgAieG6Kd"
      },
      "source": [
        "class Reverse:\r\n",
        "  '''iter関数をnext()でループさせたclass'''\r\n",
        "  def __init__(self,data):\r\n",
        "    self.data=data\r\n",
        "    self.index=len(data)\r\n",
        "\r\n",
        "  def __iter__(self):\r\n",
        "    return self\r\n",
        "\r\n",
        "  def __next__(self):\r\n",
        "    if self.index == 0:\r\n",
        "      raise StopIteration\r\n",
        "    else:\r\n",
        "      self.index = self.index -1\r\n",
        "      return self.data[self.index]"
      ],
      "execution_count": 49,
      "outputs": []
    },
    {
      "cell_type": "code",
      "metadata": {
        "colab": {
          "base_uri": "https://localhost:8080/"
        },
        "id": "bLCDQdXxH_xo",
        "outputId": "9581f3cf-6943-4047-b720-4ddda1b8152e"
      },
      "source": [
        "rev=Reverse('spam')\r\n",
        "iter(rev)"
      ],
      "execution_count": 50,
      "outputs": [
        {
          "output_type": "execute_result",
          "data": {
            "text/plain": [
              "<__main__.Reverse at 0x7f522052ae90>"
            ]
          },
          "metadata": {
            "tags": []
          },
          "execution_count": 50
        }
      ]
    },
    {
      "cell_type": "code",
      "metadata": {
        "colab": {
          "base_uri": "https://localhost:8080/"
        },
        "id": "pCm_S0k9IEN9",
        "outputId": "7ebf5951-7360-47cf-e08e-914405c5d172"
      },
      "source": [
        "for cc in rev:\r\n",
        "  print(cc)"
      ],
      "execution_count": 51,
      "outputs": [
        {
          "output_type": "stream",
          "text": [
            "m\n",
            "a\n",
            "p\n",
            "s\n"
          ],
          "name": "stdout"
        }
      ]
    },
    {
      "cell_type": "markdown",
      "metadata": {
        "id": "rthK-2CaI9As"
      },
      "source": [
        "for > for をそのまま記述したもの。"
      ]
    },
    {
      "cell_type": "code",
      "metadata": {
        "colab": {
          "base_uri": "https://localhost:8080/"
        },
        "id": "6IF8JuBQIIJF",
        "outputId": "c9d34e24-9311-4395-e50a-83a394e71656"
      },
      "source": [
        "def reverse(data):\r\n",
        "  for index in range(len(data)-1,-1,-1): # 3,2,1,0\r\n",
        "    yield data[index]\r\n",
        "\r\n",
        "for cc in reverse('golf'):\r\n",
        "  print(cc)"
      ],
      "execution_count": 53,
      "outputs": [
        {
          "output_type": "stream",
          "text": [
            "f\n",
            "l\n",
            "o\n",
            "g\n"
          ],
          "name": "stdout"
        }
      ]
    },
    {
      "cell_type": "markdown",
      "metadata": {
        "id": "b2dvv3VeKAhG"
      },
      "source": [
        "さらに、"
      ]
    },
    {
      "cell_type": "code",
      "metadata": {
        "colab": {
          "base_uri": "https://localhost:8080/"
        },
        "id": "kNBJPcOxIpFO",
        "outputId": "c67df658-cc2d-40eb-d4ff-f3bedc77dbc8"
      },
      "source": [
        "data='golf'\r\n",
        "\r\n",
        "list(data[i] for i in range(len(data)-1,-1,-1))"
      ],
      "execution_count": 54,
      "outputs": [
        {
          "output_type": "execute_result",
          "data": {
            "text/plain": [
              "['f', 'l', 'o', 'g']"
            ]
          },
          "metadata": {
            "tags": []
          },
          "execution_count": 54
        }
      ]
    }
  ]
}