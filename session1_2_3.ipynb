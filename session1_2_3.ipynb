{
  "nbformat": 4,
  "nbformat_minor": 0,
  "metadata": {
    "colab": {
      "name": "session1/2/3.ipynb",
      "provenance": [],
      "authorship_tag": "ABX9TyNPGWvKfvbmjMt6bPCZHuDq",
      "include_colab_link": true
    },
    "kernelspec": {
      "name": "python3",
      "display_name": "Python 3"
    }
  },
  "cells": [
    {
      "cell_type": "markdown",
      "metadata": {
        "id": "view-in-github",
        "colab_type": "text"
      },
      "source": [
        "<a href=\"https://colab.research.google.com/github/kooose38/python-reference/blob/master/session1_2_3.ipynb\" target=\"_parent\"><img src=\"https://colab.research.google.com/assets/colab-badge.svg\" alt=\"Open In Colab\"/></a>"
      ]
    },
    {
      "cell_type": "markdown",
      "metadata": {
        "id": "YB1TdFXIIHG1"
      },
      "source": [
        "# インタプリタ\r\n",
        "対話的。\r\n",
        "\r\n",
        "\r\n",
        "*   変数宣言がいらない\r\n",
        "*   インデントによって管理\r\n",
        "*   複雑な操作を一つに実行文で表現可能\r\n",
        "\r\n",
        "[ quit() ]()で終了。 [ GNU Readline ]ライブラリによって **Ctl + P**で履歴の保管表示。\r\n",
        "\r\n",
        "\r\n",
        "\r\n",
        "```\r\n",
        " $ python3 < filename\r\n",
        "```\r\n",
        "で、.pyからスクリプト実行。\r\n",
        "or \r\n",
        "\r\n",
        "\r\n",
        "```\r\n",
        " $ python -c command [arg] ...\r\n",
        "```\r\n",
        "でも起動可能。\r\n",
        "\r\n",
        "さらに、moduleのソースファイルを、pathを指定を指定して起動したかのように実行できる。\r\n",
        "\r\n",
        "\r\n",
        "```\r\n",
        " $ python -m module [arg] ...\r\n",
        "```\r\n",
        "\r\n",
        "\r\n",
        "\r\n",
        "\r\n",
        "\r\n",
        "\r\n"
      ]
    },
    {
      "cell_type": "markdown",
      "metadata": {
        "id": "En8blcZlLP6_"
      },
      "source": [
        "### 引数の受け取り\r\n",
        "\r\n",
        "\r\n",
        "```\r\n",
        " $ python3 [arg]\r\n",
        "```\r\n",
        "インタプリタ実行時に、引数を渡すと [ sys.argv ](http://) に要素が入る。  \r\n",
        "引数がなければ、空の文字列で表示される。  \r\n",
        "[ sys.argv[0] ]()\r\n",
        "\r\n",
        "\r\n",
        "1.   >>> \r\n",
        "2.   ...\r\n",
        "\r\n",
        "Pythonは[ utf-8 ]() でencodingされている。  \r\n",
        "標準ライブラリは、識別子に [ ASCII ]() 文字を使用.\r\n",
        "\r\n",
        "\r\n",
        "\r\n",
        "```\r\n",
        "# -*- coding: encoding -*- \r\n",
        "```\r\n",
        "UNIXなら、\r\n",
        "\r\n",
        "\r\n",
        "```\r\n",
        " #! /usr/bin/enx python3\r\n",
        " # -*- coding: cp1252 -*- \r\n",
        "```\r\n",
        "\r\n",
        "\r\n",
        "\r\n",
        "\r\n",
        "\r\n",
        "\r\n",
        "\r\n",
        "\r\n"
      ]
    },
    {
      "cell_type": "markdown",
      "metadata": {
        "id": "hll9dWl6NTWK"
      },
      "source": [
        "\\#　コメント表示"
      ]
    },
    {
      "cell_type": "code",
      "metadata": {
        "colab": {
          "base_uri": "https://localhost:8080/",
          "height": 35
        },
        "id": "PJFEaQdtCSz0",
        "outputId": "122bf980-e2e2-4093-b626-e47cff0f18b7"
      },
      "source": [
        "text='# This is nota commen because it is inside quotes'\r\n",
        "text # This is a comment successfully "
      ],
      "execution_count": 5,
      "outputs": [
        {
          "output_type": "execute_result",
          "data": {
            "application/vnd.google.colaboratory.intrinsic+json": {
              "type": "string"
            },
            "text/plain": [
              "'# This is nota commen because it is inside quotes'"
            ]
          },
          "metadata": {
            "tags": []
          },
          "execution_count": 5
        }
      ]
    },
    {
      "cell_type": "markdown",
      "metadata": {
        "id": "QFEh6iwgNnb6"
      },
      "source": [
        "[ // ]()小数点切り捨て\r\n"
      ]
    },
    {
      "cell_type": "code",
      "metadata": {
        "colab": {
          "base_uri": "https://localhost:8080/"
        },
        "id": "d453WGBbDFm6",
        "outputId": "29045cee-2e73-415e-a676-d386a91027dc"
      },
      "source": [
        "17//3"
      ],
      "execution_count": 6,
      "outputs": [
        {
          "output_type": "execute_result",
          "data": {
            "text/plain": [
              "5"
            ]
          },
          "metadata": {
            "tags": []
          },
          "execution_count": 6
        }
      ]
    },
    {
      "cell_type": "markdown",
      "metadata": {
        "id": "WICArDWyOGpk"
      },
      "source": [
        "**j** 複素数"
      ]
    },
    {
      "cell_type": "code",
      "metadata": {
        "colab": {
          "base_uri": "https://localhost:8080/"
        },
        "id": "JA9ZRNjRNl1w",
        "outputId": "633c36c8-2634-400e-8b6c-2e712ace3d51"
      },
      "source": [
        "3+5j"
      ],
      "execution_count": 11,
      "outputs": [
        {
          "output_type": "execute_result",
          "data": {
            "text/plain": [
              "(3+5j)"
            ]
          },
          "metadata": {
            "tags": []
          },
          "execution_count": 11
        }
      ]
    },
    {
      "cell_type": "markdown",
      "metadata": {
        "id": "IWjO4IlLO-M4"
      },
      "source": [
        "### String\r\n",
        "\r\n",
        "[  '  '  ]()内に [  '  '   ]()が存在するなら**エスケープ** する。  \r\n",
        "[  \"  \"  ]()内に [  \"  \"   ]()が存在するなら**エスケープ** する。\r\n",
        "```\r\n",
        " ' sample text is ' not  '\r\n",
        "```\r\n",
        "\r\n",
        "\r\n",
        "```\r\n",
        "# これはコードとして書式設定されます\r\n",
        "```\r\n",
        "\r\n",
        "\r\n"
      ]
    },
    {
      "cell_type": "code",
      "metadata": {
        "colab": {
          "base_uri": "https://localhost:8080/",
          "height": 134
        },
        "id": "VRSipfSuNxZV",
        "outputId": "bd1c7f58-1c0a-49f9-f730-5123fd955861"
      },
      "source": [
        "'doesn't'"
      ],
      "execution_count": 21,
      "outputs": [
        {
          "output_type": "error",
          "ename": "SyntaxError",
          "evalue": "ignored",
          "traceback": [
            "\u001b[0;36m  File \u001b[0;32m\"<ipython-input-21-f70cf6904edb>\"\u001b[0;36m, line \u001b[0;32m1\u001b[0m\n\u001b[0;31m    'doesn't'\u001b[0m\n\u001b[0m           ^\u001b[0m\n\u001b[0;31mSyntaxError\u001b[0m\u001b[0;31m:\u001b[0m invalid syntax\n"
          ]
        }
      ]
    },
    {
      "cell_type": "code",
      "metadata": {
        "colab": {
          "base_uri": "https://localhost:8080/",
          "height": 35
        },
        "id": "AM1RJj1UO8n0",
        "outputId": "602f7360-eec2-4c2f-b784-27b8a56e3179"
      },
      "source": [
        "' sample text is \\' not'"
      ],
      "execution_count": 14,
      "outputs": [
        {
          "output_type": "execute_result",
          "data": {
            "application/vnd.google.colaboratory.intrinsic+json": {
              "type": "string"
            },
            "text/plain": [
              "\" sample text is ' not\""
            ]
          },
          "metadata": {
            "tags": []
          },
          "execution_count": 14
        }
      ]
    },
    {
      "cell_type": "code",
      "metadata": {
        "colab": {
          "base_uri": "https://localhost:8080/",
          "height": 35
        },
        "id": "0HxqEt0GPNsV",
        "outputId": "e9dc6e14-a298-483b-a63d-26ea4cef673f"
      },
      "source": [
        "\"sampel test message is \\\"hello world \""
      ],
      "execution_count": 16,
      "outputs": [
        {
          "output_type": "execute_result",
          "data": {
            "application/vnd.google.colaboratory.intrinsic+json": {
              "type": "string"
            },
            "text/plain": [
              "'sampel test message is \"hello world '"
            ]
          },
          "metadata": {
            "tags": []
          },
          "execution_count": 16
        }
      ]
    },
    {
      "cell_type": "code",
      "metadata": {
        "colab": {
          "base_uri": "https://localhost:8080/",
          "height": 35
        },
        "id": "UhXyKRi6Pj50",
        "outputId": "2c70d309-4a6c-4838-db9f-087decfc677b"
      },
      "source": [
        "'\"Isn\\'t\" they said'"
      ],
      "execution_count": 20,
      "outputs": [
        {
          "output_type": "execute_result",
          "data": {
            "application/vnd.google.colaboratory.intrinsic+json": {
              "type": "string"
            },
            "text/plain": [
              "'\"Isn\\'t\" they said'"
            ]
          },
          "metadata": {
            "tags": []
          },
          "execution_count": 20
        }
      ]
    },
    {
      "cell_type": "markdown",
      "metadata": {
        "id": "VeXx4kt8QRUp"
      },
      "source": [
        "**\\**をprint()が整形する。"
      ]
    },
    {
      "cell_type": "code",
      "metadata": {
        "colab": {
          "base_uri": "https://localhost:8080/"
        },
        "id": "RMnedjcCPzhv",
        "outputId": "76a4400a-c56e-4777-f0be-1fc9ad6a86fb"
      },
      "source": [
        "print('\"Isn\\'t\" they said')"
      ],
      "execution_count": 22,
      "outputs": [
        {
          "output_type": "stream",
          "text": [
            "\"Isn't\" they said\n"
          ],
          "name": "stdout"
        }
      ]
    },
    {
      "cell_type": "code",
      "metadata": {
        "colab": {
          "base_uri": "https://localhost:8080/",
          "height": 35
        },
        "id": "Le0CvscsQQAO",
        "outputId": "22028557-409d-4a20-e2cf-27113e764d9d"
      },
      "source": [
        "s=' First line. \\n is uinclued in the output '\r\n",
        "s"
      ],
      "execution_count": 25,
      "outputs": [
        {
          "output_type": "execute_result",
          "data": {
            "application/vnd.google.colaboratory.intrinsic+json": {
              "type": "string"
            },
            "text/plain": [
              "' First line. \\n is uinclued in the output '"
            ]
          },
          "metadata": {
            "tags": []
          },
          "execution_count": 25
        }
      ]
    },
    {
      "cell_type": "markdown",
      "metadata": {
        "id": "Rse4ahrDQueN"
      },
      "source": [
        "こちらも**\\n**を整形。"
      ]
    },
    {
      "cell_type": "code",
      "metadata": {
        "colab": {
          "base_uri": "https://localhost:8080/"
        },
        "id": "TRGJQoWbQgGA",
        "outputId": "78e8ae95-9ab5-4477-e229-112714c7d7ce"
      },
      "source": [
        "print(s)"
      ],
      "execution_count": 26,
      "outputs": [
        {
          "output_type": "stream",
          "text": [
            " First line. \n",
            " is uinclued in the output \n"
          ],
          "name": "stdout"
        }
      ]
    },
    {
      "cell_type": "markdown",
      "metadata": {
        "id": "_ygWG9GBQ6pA"
      },
      "source": [
        "**\\n** print()に解釈されたくない場合は,[ r ]()を用いる。"
      ]
    },
    {
      "cell_type": "code",
      "metadata": {
        "colab": {
          "base_uri": "https://localhost:8080/"
        },
        "id": "WRa62U8LQsmm",
        "outputId": "87b6d664-3fa9-4969-d324-9295df465a74"
      },
      "source": [
        "print(r'C:\\some\\name'),print('C:\\some\\name')"
      ],
      "execution_count": 28,
      "outputs": [
        {
          "output_type": "stream",
          "text": [
            "C:\\some\\name\n",
            "C:\\some\n",
            "ame\n"
          ],
          "name": "stdout"
        },
        {
          "output_type": "execute_result",
          "data": {
            "text/plain": [
              "(None, None)"
            ]
          },
          "metadata": {
            "tags": []
          },
          "execution_count": 28
        }
      ]
    },
    {
      "cell_type": "markdown",
      "metadata": {
        "id": "DgQiYOAHRcSX"
      },
      "source": [
        "[ ' ' '  sample text  ' ' '  ]()によって段落分けできコードが見やすい。"
      ]
    },
    {
      "cell_type": "code",
      "metadata": {
        "colab": {
          "base_uri": "https://localhost:8080/"
        },
        "id": "VYXyGmS4RMfE",
        "outputId": "c954beb2-caa7-483d-b8ca-b2a5afc59913"
      },
      "source": [
        "print('''\r\n",
        "Usage: thiurist [OPTIONS]\r\n",
        "  -h\r\n",
        "  -H hostname\r\n",
        "''')"
      ],
      "execution_count": 29,
      "outputs": [
        {
          "output_type": "stream",
          "text": [
            "\n",
            "Usage: thiurist [OPTIONS]\n",
            "  -h\n",
            "  -H hostname\n",
            "\n"
          ],
          "name": "stdout"
        }
      ]
    },
    {
      "cell_type": "code",
      "metadata": {
        "colab": {
          "base_uri": "https://localhost:8080/",
          "height": 35
        },
        "id": "fWqbXwJvRbe7",
        "outputId": "7dca691c-007b-4a42-b9ef-08adacdfb4ba"
      },
      "source": [
        "3 * 'ubu' + 'ntu'"
      ],
      "execution_count": 30,
      "outputs": [
        {
          "output_type": "execute_result",
          "data": {
            "application/vnd.google.colaboratory.intrinsic+json": {
              "type": "string"
            },
            "text/plain": [
              "'ubuubuubuntu'"
            ]
          },
          "metadata": {
            "tags": []
          },
          "execution_count": 30
        }
      ]
    },
    {
      "cell_type": "markdown",
      "metadata": {
        "id": "6s1gQJf3R8rv"
      },
      "source": [
        "自動で連結。"
      ]
    },
    {
      "cell_type": "code",
      "metadata": {
        "colab": {
          "base_uri": "https://localhost:8080/",
          "height": 35
        },
        "id": "f0dAMjO2RyUc",
        "outputId": "c7809d79-3b94-4062-85b7-a202d1c18675"
      },
      "source": [
        "'Py' 'thon'"
      ],
      "execution_count": 31,
      "outputs": [
        {
          "output_type": "execute_result",
          "data": {
            "application/vnd.google.colaboratory.intrinsic+json": {
              "type": "string"
            },
            "text/plain": [
              "'Python'"
            ]
          },
          "metadata": {
            "tags": []
          },
          "execution_count": 31
        }
      ]
    },
    {
      "cell_type": "code",
      "metadata": {
        "colab": {
          "base_uri": "https://localhost:8080/",
          "height": 35
        },
        "id": "yb6kiDZJR3Jr",
        "outputId": "ff1d842c-cf23-4179-f0a5-8853f64ce2ce"
      },
      "source": [
        "text = ('Put seveal string within parser .'\r\n",
        "        'to have joined together')\r\n",
        "text"
      ],
      "execution_count": 32,
      "outputs": [
        {
          "output_type": "execute_result",
          "data": {
            "application/vnd.google.colaboratory.intrinsic+json": {
              "type": "string"
            },
            "text/plain": [
              "'Put seveal string within parser .to have joined together'"
            ]
          },
          "metadata": {
            "tags": []
          },
          "execution_count": 32
        }
      ]
    },
    {
      "cell_type": "markdown",
      "metadata": {
        "id": "Se4ARwDESZoE"
      },
      "source": [
        "変数間の連結はエラーの元。"
      ]
    },
    {
      "cell_type": "code",
      "metadata": {
        "colab": {
          "base_uri": "https://localhost:8080/",
          "height": 134
        },
        "id": "oTCvGshdSWPk",
        "outputId": "b37b482e-0d72-44ce-cecc-454eb49aa0bf"
      },
      "source": [
        "prefix='Py'\r\n",
        "prefix 'thon'"
      ],
      "execution_count": 33,
      "outputs": [
        {
          "output_type": "error",
          "ename": "SyntaxError",
          "evalue": "ignored",
          "traceback": [
            "\u001b[0;36m  File \u001b[0;32m\"<ipython-input-33-094a8d20a3b0>\"\u001b[0;36m, line \u001b[0;32m2\u001b[0m\n\u001b[0;31m    prefix 'thon'\u001b[0m\n\u001b[0m                ^\u001b[0m\n\u001b[0;31mSyntaxError\u001b[0m\u001b[0;31m:\u001b[0m invalid syntax\n"
          ]
        }
      ]
    },
    {
      "cell_type": "code",
      "metadata": {
        "colab": {
          "base_uri": "https://localhost:8080/",
          "height": 35
        },
        "id": "Xb8hkhXqShOT",
        "outputId": "fbae6fb8-6dce-4ef3-a27a-9addc3b6528f"
      },
      "source": [
        "word='kubernetes'\r\n",
        "\r\n",
        "word[:3] + word[3:]"
      ],
      "execution_count": 35,
      "outputs": [
        {
          "output_type": "execute_result",
          "data": {
            "application/vnd.google.colaboratory.intrinsic+json": {
              "type": "string"
            },
            "text/plain": [
              "'kubernetes'"
            ]
          },
          "metadata": {
            "tags": []
          },
          "execution_count": 35
        }
      ]
    },
    {
      "cell_type": "markdown",
      "metadata": {
        "id": "4SM6geYITB6r"
      },
      "source": [
        "スライスのindexが大きくてもエラーにならないので注意する。"
      ]
    },
    {
      "cell_type": "code",
      "metadata": {
        "colab": {
          "base_uri": "https://localhost:8080/"
        },
        "id": "pmxl1gPOSlUT",
        "outputId": "3c511564-da69-450c-a5c8-ed7e5948ac43"
      },
      "source": [
        "word[1000:],word[:1000]"
      ],
      "execution_count": 37,
      "outputs": [
        {
          "output_type": "execute_result",
          "data": {
            "text/plain": [
              "('', 'kubernetes')"
            ]
          },
          "metadata": {
            "tags": []
          },
          "execution_count": 37
        }
      ]
    },
    {
      "cell_type": "markdown",
      "metadata": {
        "id": "W-SkxiQRTWc5"
      },
      "source": [
        "Stringは**不変**なので再代入できない。"
      ]
    },
    {
      "cell_type": "code",
      "metadata": {
        "colab": {
          "base_uri": "https://localhost:8080/",
          "height": 168
        },
        "id": "zm__EZb4S-rD",
        "outputId": "771893cf-533b-47f8-9d4f-0f4d09b55e77"
      },
      "source": [
        "word[0]='j'"
      ],
      "execution_count": 38,
      "outputs": [
        {
          "output_type": "error",
          "ename": "TypeError",
          "evalue": "ignored",
          "traceback": [
            "\u001b[0;31m---------------------------------------------------------------------------\u001b[0m",
            "\u001b[0;31mTypeError\u001b[0m                                 Traceback (most recent call last)",
            "\u001b[0;32m<ipython-input-38-91d3825a9291>\u001b[0m in \u001b[0;36m<module>\u001b[0;34m()\u001b[0m\n\u001b[0;32m----> 1\u001b[0;31m \u001b[0mword\u001b[0m\u001b[0;34m[\u001b[0m\u001b[0;36m0\u001b[0m\u001b[0;34m]\u001b[0m\u001b[0;34m=\u001b[0m\u001b[0;34m'j'\u001b[0m\u001b[0;34m\u001b[0m\u001b[0;34m\u001b[0m\u001b[0m\n\u001b[0m",
            "\u001b[0;31mTypeError\u001b[0m: 'str' object does not support item assignment"
          ]
        }
      ]
    },
    {
      "cell_type": "code",
      "metadata": {
        "colab": {
          "base_uri": "https://localhost:8080/",
          "height": 35
        },
        "id": "xzHsVK0fTVsj",
        "outputId": "dcad9934-4c61-48ec-eefa-515f7a357c1a"
      },
      "source": [
        "'j'+word[1:]"
      ],
      "execution_count": 39,
      "outputs": [
        {
          "output_type": "execute_result",
          "data": {
            "application/vnd.google.colaboratory.intrinsic+json": {
              "type": "string"
            },
            "text/plain": [
              "'jubernetes'"
            ]
          },
          "metadata": {
            "tags": []
          },
          "execution_count": 39
        }
      ]
    },
    {
      "cell_type": "code",
      "metadata": {
        "colab": {
          "base_uri": "https://localhost:8080/"
        },
        "id": "4hxZoqwKThQO",
        "outputId": "30a2113a-1d61-4b2b-d3fd-727b91499b3c"
      },
      "source": [
        "len(word)"
      ],
      "execution_count": 40,
      "outputs": [
        {
          "output_type": "execute_result",
          "data": {
            "text/plain": [
              "10"
            ]
          },
          "metadata": {
            "tags": []
          },
          "execution_count": 40
        }
      ]
    },
    {
      "cell_type": "markdown",
      "metadata": {
        "id": "yl6YNqEUTtDL"
      },
      "source": [
        "# List\r\n",
        "\r\n",
        "可変。\r\n"
      ]
    },
    {
      "cell_type": "code",
      "metadata": {
        "colab": {
          "base_uri": "https://localhost:8080/"
        },
        "id": "V-RhkUqtTl7T",
        "outputId": "6a81c66b-5e04-4a1d-a88d-6b38320fbb5c"
      },
      "source": [
        "data = [1,2,5,7,8,10]\r\n",
        "data + [12,34,56,67]"
      ],
      "execution_count": 42,
      "outputs": [
        {
          "output_type": "execute_result",
          "data": {
            "text/plain": [
              "[1, 2, 5, 7, 8, 10, 12, 34, 56, 67]"
            ]
          },
          "metadata": {
            "tags": []
          },
          "execution_count": 42
        }
      ]
    },
    {
      "cell_type": "code",
      "metadata": {
        "colab": {
          "base_uri": "https://localhost:8080/"
        },
        "id": "R4QzA7htUE8b",
        "outputId": "81c2030b-87d1-4403-a2cb-8de562c971c0"
      },
      "source": [
        "data[1]=123\r\n",
        "data"
      ],
      "execution_count": 43,
      "outputs": [
        {
          "output_type": "execute_result",
          "data": {
            "text/plain": [
              "[1, 123, 5, 7, 8, 10]"
            ]
          },
          "metadata": {
            "tags": []
          },
          "execution_count": 43
        }
      ]
    },
    {
      "cell_type": "code",
      "metadata": {
        "colab": {
          "base_uri": "https://localhost:8080/"
        },
        "id": "vGH_ZQ1sUJ1z",
        "outputId": "2fb7262c-d63d-40a6-e293-fab4a8c367dc"
      },
      "source": [
        "data.append(1200)\r\n",
        "data"
      ],
      "execution_count": 44,
      "outputs": [
        {
          "output_type": "execute_result",
          "data": {
            "text/plain": [
              "[1, 123, 5, 7, 8, 10, 1200]"
            ]
          },
          "metadata": {
            "tags": []
          },
          "execution_count": 44
        }
      ]
    },
    {
      "cell_type": "code",
      "metadata": {
        "colab": {
          "base_uri": "https://localhost:8080/"
        },
        "id": "I_YoKPmYUQd6",
        "outputId": "2e805bf8-95cc-42a2-8ab0-b3c286800602"
      },
      "source": [
        "data[:-1],data[:]"
      ],
      "execution_count": 46,
      "outputs": [
        {
          "output_type": "execute_result",
          "data": {
            "text/plain": [
              "([1, 123, 5, 7, 8, 10], [1, 123, 5, 7, 8, 10, 1200])"
            ]
          },
          "metadata": {
            "tags": []
          },
          "execution_count": 46
        }
      ]
    },
    {
      "cell_type": "markdown",
      "metadata": {
        "id": "KlH0xTlZUint"
      },
      "source": [
        "当てはまる箇所を [ 空配列 ]()で置き換える"
      ]
    },
    {
      "cell_type": "code",
      "metadata": {
        "colab": {
          "base_uri": "https://localhost:8080/"
        },
        "id": "HA4A_ChTUVSu",
        "outputId": "c6493d3e-4bf5-4b6e-e5a1-b1ed35671a01"
      },
      "source": [
        "data[2:5]=[]\r\n",
        "data"
      ],
      "execution_count": 48,
      "outputs": [
        {
          "output_type": "execute_result",
          "data": {
            "text/plain": [
              "[1, 123, 10, 1200]"
            ]
          },
          "metadata": {
            "tags": []
          },
          "execution_count": 48
        }
      ]
    },
    {
      "cell_type": "code",
      "metadata": {
        "colab": {
          "base_uri": "https://localhost:8080/"
        },
        "id": "yuYBQwkAUmUj",
        "outputId": "58fec9c7-36ac-4ff1-e9b7-0ab46452bd9b"
      },
      "source": [
        "data[:]=[]\r\n",
        "data"
      ],
      "execution_count": 49,
      "outputs": [
        {
          "output_type": "execute_result",
          "data": {
            "text/plain": [
              "[]"
            ]
          },
          "metadata": {
            "tags": []
          },
          "execution_count": 49
        }
      ]
    },
    {
      "cell_type": "markdown",
      "metadata": {
        "id": "Zw1x3vsxVRL1"
      },
      "source": [
        "入れ子。"
      ]
    },
    {
      "cell_type": "code",
      "metadata": {
        "colab": {
          "base_uri": "https://localhost:8080/"
        },
        "id": "XPLKUPMwUp16",
        "outputId": "3367dabb-ecb4-409a-cea0-cfb02a457664"
      },
      "source": [
        "a = ['a', 'b', 'c']\r\n",
        "c = [1, 2]\r\n",
        "x = [a,c]\r\n",
        "x "
      ],
      "execution_count": 50,
      "outputs": [
        {
          "output_type": "execute_result",
          "data": {
            "text/plain": [
              "[['a', 'b', 'c'], [1, 2]]"
            ]
          },
          "metadata": {
            "tags": []
          },
          "execution_count": 50
        }
      ]
    },
    {
      "cell_type": "code",
      "metadata": {
        "colab": {
          "base_uri": "https://localhost:8080/"
        },
        "id": "WLpf-pHeVJAD",
        "outputId": "d1bb1f3c-ddd0-46e0-833d-b4314299a3e4"
      },
      "source": [
        "x[0],x[0][1]"
      ],
      "execution_count": 51,
      "outputs": [
        {
          "output_type": "execute_result",
          "data": {
            "text/plain": [
              "(['a', 'b', 'c'], 'b')"
            ]
          },
          "metadata": {
            "tags": []
          },
          "execution_count": 51
        }
      ]
    },
    {
      "cell_type": "markdown",
      "metadata": {
        "id": "LXESlIGkVpP1"
      },
      "source": [
        "簡単なroop"
      ]
    },
    {
      "cell_type": "code",
      "metadata": {
        "colab": {
          "base_uri": "https://localhost:8080/"
        },
        "id": "MC4PEKmgVMj6",
        "outputId": "d07d6705-e7b2-4017-dcf8-5f0964379635"
      },
      "source": [
        "a, b = 0,1 \r\n",
        "while a < 10:\r\n",
        "  print(a,end=',')\r\n",
        "  a, b = b, a+b"
      ],
      "execution_count": 54,
      "outputs": [
        {
          "output_type": "stream",
          "text": [
            "0,1,1,2,3,5,8,"
          ],
          "name": "stdout"
        }
      ]
    },
    {
      "cell_type": "markdown",
      "metadata": {
        "id": "sz_VYXplV5V2"
      },
      "source": [
        "print()について、  \r\n",
        "同じ文字なら、代入される。  \r\n",
        "[ end='' ]() は関数後に出力される。"
      ]
    },
    {
      "cell_type": "code",
      "metadata": {
        "colab": {
          "base_uri": "https://localhost:8080/"
        },
        "id": "O4LkDYJYVoR9",
        "outputId": "675d0076-9a3e-4606-89ae-eefa0ef91ddb"
      },
      "source": [
        "c = 256 **2\r\n",
        "print(' the value is c', c)"
      ],
      "execution_count": 53,
      "outputs": [
        {
          "output_type": "stream",
          "text": [
            " the value is c 65536\n"
          ],
          "name": "stdout"
        }
      ]
    }
  ]
}