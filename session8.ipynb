{
  "nbformat": 4,
  "nbformat_minor": 0,
  "metadata": {
    "colab": {
      "name": "session8.ipynb",
      "provenance": [],
      "authorship_tag": "ABX9TyNTQuyJt1pf6OxWYHQedQcA",
      "include_colab_link": true
    },
    "kernelspec": {
      "name": "python3",
      "display_name": "Python 3"
    }
  },
  "cells": [
    {
      "cell_type": "markdown",
      "metadata": {
        "id": "view-in-github",
        "colab_type": "text"
      },
      "source": [
        "<a href=\"https://colab.research.google.com/github/kooose38/python-reference/blob/master/session8.ipynb\" target=\"_parent\"><img src=\"https://colab.research.google.com/assets/colab-badge.svg\" alt=\"Open In Colab\"/></a>"
      ]
    },
    {
      "cell_type": "markdown",
      "metadata": {
        "id": "z8ixE61JZqMO"
      },
      "source": [
        "# エラーと例外\r\n",
        "\r\n",
        "エラーの種類分け\r\n",
        "\r\n",
        "\r\n",
        "\r\n",
        "\r\n",
        "1.   構文エラー invaild syntax\r\n",
        "2.   例外 exception\r\n",
        "\r\n",
        "\r\n",
        "> \r\n",
        "\r\n",
        "> 1.   ZeroDivisionError\r\n",
        "2.   NameError  \r\n",
        "2.   TypeError\r\n",
        "\r\n",
        "\r\n",
        "\r\n",
        "\r\n",
        "\r\n",
        "\r\n",
        "\r\n"
      ]
    },
    {
      "cell_type": "code",
      "metadata": {
        "colab": {
          "base_uri": "https://localhost:8080/",
          "height": 168
        },
        "id": "-MwwhLWeZRr3",
        "outputId": "5a046dab-1f28-4156-cd21-7f0faeaf7189"
      },
      "source": [
        "10*(1/0)"
      ],
      "execution_count": 2,
      "outputs": [
        {
          "output_type": "error",
          "ename": "ZeroDivisionError",
          "evalue": "ignored",
          "traceback": [
            "\u001b[0;31m---------------------------------------------------------------------------\u001b[0m",
            "\u001b[0;31mZeroDivisionError\u001b[0m                         Traceback (most recent call last)",
            "\u001b[0;32m<ipython-input-2-fbc7e86ae71a>\u001b[0m in \u001b[0;36m<module>\u001b[0;34m()\u001b[0m\n\u001b[0;32m----> 1\u001b[0;31m \u001b[0;36m10\u001b[0m\u001b[0;34m*\u001b[0m\u001b[0;34m(\u001b[0m\u001b[0;36m1\u001b[0m\u001b[0;34m/\u001b[0m\u001b[0;36m0\u001b[0m\u001b[0;34m)\u001b[0m\u001b[0;34m\u001b[0m\u001b[0;34m\u001b[0m\u001b[0m\n\u001b[0m",
            "\u001b[0;31mZeroDivisionError\u001b[0m: division by zero"
          ]
        }
      ]
    },
    {
      "cell_type": "code",
      "metadata": {
        "colab": {
          "base_uri": "https://localhost:8080/",
          "height": 168
        },
        "id": "QXljknP6aoZx",
        "outputId": "c41cd937-a5f5-4791-f175-9261c46cc969"
      },
      "source": [
        "'2'+2"
      ],
      "execution_count": 3,
      "outputs": [
        {
          "output_type": "error",
          "ename": "TypeError",
          "evalue": "ignored",
          "traceback": [
            "\u001b[0;31m---------------------------------------------------------------------------\u001b[0m",
            "\u001b[0;31mTypeError\u001b[0m                                 Traceback (most recent call last)",
            "\u001b[0;32m<ipython-input-3-7e1e50100c0b>\u001b[0m in \u001b[0;36m<module>\u001b[0;34m()\u001b[0m\n\u001b[0;32m----> 1\u001b[0;31m \u001b[0;34m'2'\u001b[0m\u001b[0;34m+\u001b[0m\u001b[0;36m2\u001b[0m\u001b[0;34m\u001b[0m\u001b[0;34m\u001b[0m\u001b[0m\n\u001b[0m",
            "\u001b[0;31mTypeError\u001b[0m: must be str, not int"
          ]
        }
      ]
    },
    {
      "cell_type": "code",
      "metadata": {
        "colab": {
          "base_uri": "https://localhost:8080/",
          "height": 168
        },
        "id": "gciy0V3Ra9K_",
        "outputId": "28423399-f932-4e5e-c5d8-dcdb28d58924"
      },
      "source": [
        "spam"
      ],
      "execution_count": 4,
      "outputs": [
        {
          "output_type": "error",
          "ename": "NameError",
          "evalue": "ignored",
          "traceback": [
            "\u001b[0;31m---------------------------------------------------------------------------\u001b[0m",
            "\u001b[0;31mNameError\u001b[0m                                 Traceback (most recent call last)",
            "\u001b[0;32m<ipython-input-4-69a5a1000f98>\u001b[0m in \u001b[0;36m<module>\u001b[0;34m()\u001b[0m\n\u001b[0;32m----> 1\u001b[0;31m \u001b[0mspam\u001b[0m\u001b[0;34m\u001b[0m\u001b[0;34m\u001b[0m\u001b[0m\n\u001b[0m",
            "\u001b[0;31mNameError\u001b[0m: name 'spam' is not defined"
          ]
        }
      ]
    },
    {
      "cell_type": "markdown",
      "metadata": {
        "id": "qD4XpBCZbxde"
      },
      "source": [
        "### 例外処理をする。\r\n",
        "\r\n",
        "下記のプログラムの動作確認  \r\n",
        "\r\n",
        "\r\n",
        "1.   try文の実行\r\n",
        "2.   input内容がint型であれば、break; それ以外ならexcept;\r\n",
        "3.   exceptがValueErrorに一致するならprint()実行\r\n",
        "4.   再度try文の実行(1に戻る)\r\n",
        "\r\n",
        "**ただし、except以外のErrorであればtry文の外で例外処理として実行される**\r\n",
        "\r\n",
        "\r\n"
      ]
    },
    {
      "cell_type": "code",
      "metadata": {
        "colab": {
          "base_uri": "https://localhost:8080/"
        },
        "id": "4AxLiEHta-Zb",
        "outputId": "45f5569d-7e6f-4f1e-d32b-94cee9a7eede"
      },
      "source": [
        "while True:\r\n",
        "  try:\r\n",
        "    x=int(input('Pleases enter a number: '))\r\n",
        "    break;\r\n",
        "  except ValueError:\r\n",
        "    print('Ooops! Try again...')"
      ],
      "execution_count": 8,
      "outputs": [
        {
          "output_type": "stream",
          "text": [
            "Pleases enter a number: 1/0\n",
            "Ooops! Try again...\n",
            "Pleases enter a number: spam\n",
            "Ooops! Try again...\n",
            "Pleases enter a number: 12\n"
          ],
          "name": "stdout"
        }
      ]
    },
    {
      "cell_type": "markdown",
      "metadata": {
        "id": "GeyKUId1dPSc"
      },
      "source": [
        "複数の例外処理をTapleとして組み合わせる。  \r\n",
        "\r\n",
        "\r\n",
        "```\r\n",
        "# expect(RuntimeError,TypeError,NameError):\r\n",
        "  pass\r\n",
        "```\r\n",
        "\r\n",
        "さらに、上から優先的にexceptが実行されるため、もし  \r\n",
        "\r\n",
        "\r\n",
        "```\r\n",
        "# except B:\r\n",
        "  print('B')\r\n",
        "```\r\n",
        "が一番トップだった場合は、\r\n",
        "\r\n",
        "\r\n",
        "```\r\n",
        "# B\r\n",
        "  B\r\n",
        "  B\r\n",
        "```\r\n",
        "の出力結果となる。\r\n",
        "\r\n",
        "\r\n",
        "\r\n"
      ]
    },
    {
      "cell_type": "code",
      "metadata": {
        "colab": {
          "base_uri": "https://localhost:8080/"
        },
        "id": "5msLHsxxbj3u",
        "outputId": "292696fd-633f-443b-807d-f75d30796390"
      },
      "source": [
        "class B(Exception):\r\n",
        "  pass\r\n",
        "class C(B):\r\n",
        "  pass\r\n",
        "class D(C):\r\n",
        "  pass\r\n",
        "\r\n",
        "for cls in [B,C,D]:\r\n",
        "  try:\r\n",
        "    raise cls()\r\n",
        "  except D:\r\n",
        "    print('D')\r\n",
        "  except C:\r\n",
        "    print('C')\r\n",
        "  except B:\r\n",
        "    print('B')"
      ],
      "execution_count": 11,
      "outputs": [
        {
          "output_type": "stream",
          "text": [
            "B\n",
            "C\n",
            "D\n"
          ],
          "name": "stdout"
        }
      ]
    },
    {
      "cell_type": "markdown",
      "metadata": {
        "id": "znZ_Bs1lfXOJ"
      },
      "source": [
        "なお、  \r\n",
        "\r\n",
        "\r\n",
        "```\r\n",
        "# except:\r\n",
        "  print('error context')\r\n",
        "  raise\r\n",
        "```\r\n",
        "のように、エラー内容を厳密にしない形式も可能(wildcard)だが、エラー内容が分かりにくいため注意する。この上例に場合、print()が実行されたのちに例外を再送するraiseが使われている。\r\n"
      ]
    },
    {
      "cell_type": "markdown",
      "metadata": {
        "id": "oxZwTGpXgRzZ"
      },
      "source": [
        "\r\n",
        "\r\n",
        "---\r\n",
        "[try...except](https://)文には、elseも多用できる。  \r\n",
        "ただし、すべてのexcept構文の後におかなければならない。  \r\n",
        "[else](https://)はexceptで例外がなかった場合に、実行されるerror後の処理として役立つ。\r\n"
      ]
    },
    {
      "cell_type": "code",
      "metadata": {
        "colab": {
          "base_uri": "https://localhost:8080/"
        },
        "id": "oaHO-BJWfWr2",
        "outputId": "6caf8409-56a5-465e-d944-8306a33bd4e3"
      },
      "source": [
        "import sys\r\n",
        "for arg in sys.argv[1:]:\r\n",
        "  try:\r\n",
        "    f=open(arg,'r')\r\n",
        "  #[1]でのerror発生処理\r\n",
        "  except OSError:\r\n",
        "    print('cannot open',arg)\r\n",
        "  #[2]でのerrorが発生しなかった場合の処理\r\n",
        "  else:\r\n",
        "    print(arg, 'has lines')\r\n",
        "    f.close()"
      ],
      "execution_count": 15,
      "outputs": [
        {
          "output_type": "stream",
          "text": [
            "cannot open -f\n",
            "/root/.local/share/jupyter/runtime/kernel-2bcf4571-f2a3-43ea-a148-735c9d718be7.json has lines\n"
          ],
          "name": "stdout"
        }
      ]
    },
    {
      "cell_type": "code",
      "metadata": {
        "colab": {
          "base_uri": "https://localhost:8080/"
        },
        "id": "F9qVFnbCd9kx",
        "outputId": "b4759947-56f7-4768-824f-fc0b2190cbf5"
      },
      "source": [
        "sys.argv"
      ],
      "execution_count": 16,
      "outputs": [
        {
          "output_type": "execute_result",
          "data": {
            "text/plain": [
              "['/usr/local/lib/python3.6/dist-packages/ipykernel_launcher.py',\n",
              " '-f',\n",
              " '/root/.local/share/jupyter/runtime/kernel-2bcf4571-f2a3-43ea-a148-735c9d718be7.json']"
            ]
          },
          "metadata": {
            "tags": []
          },
          "execution_count": 16
        }
      ]
    },
    {
      "cell_type": "markdown",
      "metadata": {
        "id": "wnJpFBimi_r4"
      },
      "source": [
        "except.errorに **as** として変数指定が可能。  \r\n",
        "\r\n",
        "変数には、javascript の\r\n",
        "`try{}catch(err){err.message}`\r\n",
        "の内容と同等なStringは検出される。"
      ]
    },
    {
      "cell_type": "code",
      "metadata": {
        "colab": {
          "base_uri": "https://localhost:8080/"
        },
        "id": "1Qb9nWbghj3d",
        "outputId": "1bc5fe34-ab9f-4329-9e78-5f6b1ab74c10"
      },
      "source": [
        "try:\r\n",
        "  raise Exception('spam','eggs')\r\n",
        "except Exception as inst:\r\n",
        "  print(type(inst))\r\n",
        "  print(inst.args)\r\n",
        "  print(inst)\r\n",
        "\r\n",
        "  x,y=inst.args\r\n",
        "  print('x=',x)\r\n",
        "  print('y=',y)"
      ],
      "execution_count": 18,
      "outputs": [
        {
          "output_type": "stream",
          "text": [
            "<class 'Exception'>\n",
            "('spam', 'eggs')\n",
            "('spam', 'eggs')\n",
            "x= spam\n",
            "y= eggs\n"
          ],
          "name": "stdout"
        }
      ]
    },
    {
      "cell_type": "code",
      "metadata": {
        "colab": {
          "base_uri": "https://localhost:8080/"
        },
        "id": "p0BjRsIVizeB",
        "outputId": "1c80bfcd-6d20-47bb-dbd4-d8638d9ce49b"
      },
      "source": [
        "def this_fails():\r\n",
        "  x = 1/0\r\n",
        "\r\n",
        "try:\r\n",
        "  this_fails()\r\n",
        "except ZeroDivisionError as err:\r\n",
        "  print('Handling run-time error :', err)"
      ],
      "execution_count": 21,
      "outputs": [
        {
          "output_type": "stream",
          "text": [
            "Handling run-time error : division by zero\n"
          ],
          "name": "stdout"
        }
      ]
    },
    {
      "cell_type": "markdown",
      "metadata": {
        "id": "XPE_WwBDkXA2"
      },
      "source": [
        "\r\n",
        "\r\n",
        "---\r\n",
        "## 例外を発生させる\r\n",
        "\r\n",
        "\r\n",
        "\r\n",
        "```\r\n",
        "# raise Erroring(' ')\r\n",
        "```\r\n",
        "\r\n",
        "raiseの引数には、創出されるエラー内容を記述する。  \r\n",
        "NameError: (' ')の内容と一致。\r\n",
        "\r\n"
      ]
    },
    {
      "cell_type": "code",
      "metadata": {
        "colab": {
          "base_uri": "https://localhost:8080/",
          "height": 253
        },
        "id": "xpdyvvHjjuKr",
        "outputId": "dede5ea1-682f-483f-aa2d-866f8b00f87f"
      },
      "source": [
        "try:\r\n",
        "  raise NameError('HiThere')\r\n",
        "except NameError:\r\n",
        "  print('An exception flew by ! ')\r\n",
        "  raise"
      ],
      "execution_count": 23,
      "outputs": [
        {
          "output_type": "stream",
          "text": [
            "An exception flew by ! \n"
          ],
          "name": "stdout"
        },
        {
          "output_type": "error",
          "ename": "NameError",
          "evalue": "ignored",
          "traceback": [
            "\u001b[0;31m---------------------------------------------------------------------------\u001b[0m",
            "\u001b[0;31mNameError\u001b[0m                                 Traceback (most recent call last)",
            "\u001b[0;32m<ipython-input-23-b71abfc92bb4>\u001b[0m in \u001b[0;36m<module>\u001b[0;34m()\u001b[0m\n\u001b[1;32m      1\u001b[0m \u001b[0;32mtry\u001b[0m\u001b[0;34m:\u001b[0m\u001b[0;34m\u001b[0m\u001b[0;34m\u001b[0m\u001b[0m\n\u001b[0;32m----> 2\u001b[0;31m   \u001b[0;32mraise\u001b[0m \u001b[0mNameError\u001b[0m\u001b[0;34m(\u001b[0m\u001b[0;34m'HiThere'\u001b[0m\u001b[0;34m)\u001b[0m\u001b[0;34m\u001b[0m\u001b[0;34m\u001b[0m\u001b[0m\n\u001b[0m\u001b[1;32m      3\u001b[0m \u001b[0;32mexcept\u001b[0m \u001b[0mNameError\u001b[0m\u001b[0;34m:\u001b[0m\u001b[0;34m\u001b[0m\u001b[0;34m\u001b[0m\u001b[0m\n\u001b[1;32m      4\u001b[0m   \u001b[0mprint\u001b[0m\u001b[0;34m(\u001b[0m\u001b[0;34m'An exception flew by ! '\u001b[0m\u001b[0;34m)\u001b[0m\u001b[0;34m\u001b[0m\u001b[0;34m\u001b[0m\u001b[0m\n\u001b[1;32m      5\u001b[0m   \u001b[0;32mraise\u001b[0m\u001b[0;34m\u001b[0m\u001b[0;34m\u001b[0m\u001b[0m\n",
            "\u001b[0;31mNameError\u001b[0m: HiThere"
          ]
        }
      ]
    },
    {
      "cell_type": "markdown",
      "metadata": {
        "id": "4JxwxWyFmUOM"
      },
      "source": [
        "\r\n",
        "\r\n",
        "---\r\n",
        "\r\n",
        "\r\n",
        "### 例外の連鎖\r\n",
        "**from exc**\r\n",
        "1.   IOError処理が投げられてexceptに移る\r\n",
        "2.   RuntimeError()が実行され、結果的に２つのerrorが連鎖する。\r\n",
        "\r\n"
      ]
    },
    {
      "cell_type": "code",
      "metadata": {
        "colab": {
          "base_uri": "https://localhost:8080/",
          "height": 396
        },
        "id": "NoyOyGHwlIrf",
        "outputId": "47198359-1b55-44a1-8056-16d06624117f"
      },
      "source": [
        "def func():\r\n",
        "  raise IOError\r\n",
        "try:\r\n",
        "  func()\r\n",
        "except IOError as exc:\r\n",
        "  raise RuntimeError('Failed to open database') from exc"
      ],
      "execution_count": 26,
      "outputs": [
        {
          "output_type": "error",
          "ename": "RuntimeError",
          "evalue": "ignored",
          "traceback": [
            "\u001b[0;31m---------------------------------------------------------------------------\u001b[0m",
            "\u001b[0;31mOSError\u001b[0m                                   Traceback (most recent call last)",
            "\u001b[0;32m<ipython-input-26-2c09c4db5fe2>\u001b[0m in \u001b[0;36m<module>\u001b[0;34m()\u001b[0m\n\u001b[1;32m      3\u001b[0m \u001b[0;32mtry\u001b[0m\u001b[0;34m:\u001b[0m\u001b[0;34m\u001b[0m\u001b[0;34m\u001b[0m\u001b[0m\n\u001b[0;32m----> 4\u001b[0;31m   \u001b[0mfunc\u001b[0m\u001b[0;34m(\u001b[0m\u001b[0;34m)\u001b[0m\u001b[0;34m\u001b[0m\u001b[0;34m\u001b[0m\u001b[0m\n\u001b[0m\u001b[1;32m      5\u001b[0m \u001b[0;32mexcept\u001b[0m \u001b[0mIOError\u001b[0m \u001b[0;32mas\u001b[0m \u001b[0mexc\u001b[0m\u001b[0;34m:\u001b[0m\u001b[0;34m\u001b[0m\u001b[0;34m\u001b[0m\u001b[0m\n",
            "\u001b[0;32m<ipython-input-26-2c09c4db5fe2>\u001b[0m in \u001b[0;36mfunc\u001b[0;34m()\u001b[0m\n\u001b[1;32m      1\u001b[0m \u001b[0;32mdef\u001b[0m \u001b[0mfunc\u001b[0m\u001b[0;34m(\u001b[0m\u001b[0;34m)\u001b[0m\u001b[0;34m:\u001b[0m\u001b[0;34m\u001b[0m\u001b[0;34m\u001b[0m\u001b[0m\n\u001b[0;32m----> 2\u001b[0;31m   \u001b[0;32mraise\u001b[0m \u001b[0mIOError\u001b[0m\u001b[0;34m\u001b[0m\u001b[0;34m\u001b[0m\u001b[0m\n\u001b[0m\u001b[1;32m      3\u001b[0m \u001b[0;32mtry\u001b[0m\u001b[0;34m:\u001b[0m\u001b[0;34m\u001b[0m\u001b[0;34m\u001b[0m\u001b[0m\n",
            "\u001b[0;31mOSError\u001b[0m: ",
            "\nThe above exception was the direct cause of the following exception:\n",
            "\u001b[0;31mRuntimeError\u001b[0m                              Traceback (most recent call last)",
            "\u001b[0;32m<ipython-input-26-2c09c4db5fe2>\u001b[0m in \u001b[0;36m<module>\u001b[0;34m()\u001b[0m\n\u001b[1;32m      4\u001b[0m   \u001b[0mfunc\u001b[0m\u001b[0;34m(\u001b[0m\u001b[0;34m)\u001b[0m\u001b[0;34m\u001b[0m\u001b[0;34m\u001b[0m\u001b[0m\n\u001b[1;32m      5\u001b[0m \u001b[0;32mexcept\u001b[0m \u001b[0mIOError\u001b[0m \u001b[0;32mas\u001b[0m \u001b[0mexc\u001b[0m\u001b[0;34m:\u001b[0m\u001b[0;34m\u001b[0m\u001b[0;34m\u001b[0m\u001b[0m\n\u001b[0;32m----> 6\u001b[0;31m   \u001b[0;32mraise\u001b[0m \u001b[0mRuntimeError\u001b[0m\u001b[0;34m(\u001b[0m\u001b[0;34m'Failed to open database'\u001b[0m\u001b[0;34m)\u001b[0m \u001b[0;32mfrom\u001b[0m \u001b[0mexc\u001b[0m\u001b[0;34m\u001b[0m\u001b[0;34m\u001b[0m\u001b[0m\n\u001b[0m",
            "\u001b[0;31mRuntimeError\u001b[0m: Failed to open database"
          ]
        }
      ]
    },
    {
      "cell_type": "markdown",
      "metadata": {
        "id": "RMLH6wZxnCOf"
      },
      "source": [
        "こちらは、一つのerrorしか発生しない例。"
      ]
    },
    {
      "cell_type": "code",
      "metadata": {
        "colab": {
          "base_uri": "https://localhost:8080/",
          "height": 236
        },
        "id": "VZkEHVgFleKw",
        "outputId": "d71d5387-c88b-4567-ebd2-37964e3af807"
      },
      "source": [
        "try:\r\n",
        "  open('database.sqlite')\r\n",
        "except IOError:\r\n",
        "  raise RuntimeError from None\r\n",
        "except:\r\n",
        "  print('Failed error functions')"
      ],
      "execution_count": 28,
      "outputs": [
        {
          "output_type": "error",
          "ename": "RuntimeError",
          "evalue": "ignored",
          "traceback": [
            "\u001b[0;31m---------------------------------------------------------------------------\u001b[0m",
            "\u001b[0;31mRuntimeError\u001b[0m                              Traceback (most recent call last)",
            "\u001b[0;32m<ipython-input-28-818800480d81>\u001b[0m in \u001b[0;36m<module>\u001b[0;34m()\u001b[0m\n\u001b[1;32m      2\u001b[0m   \u001b[0mopen\u001b[0m\u001b[0;34m(\u001b[0m\u001b[0;34m'database.sqlite'\u001b[0m\u001b[0;34m)\u001b[0m\u001b[0;34m\u001b[0m\u001b[0;34m\u001b[0m\u001b[0m\n\u001b[1;32m      3\u001b[0m \u001b[0;32mexcept\u001b[0m \u001b[0mIOError\u001b[0m\u001b[0;34m:\u001b[0m\u001b[0;34m\u001b[0m\u001b[0;34m\u001b[0m\u001b[0m\n\u001b[0;32m----> 4\u001b[0;31m   \u001b[0;32mraise\u001b[0m \u001b[0mRuntimeError\u001b[0m \u001b[0;32mfrom\u001b[0m \u001b[0;32mNone\u001b[0m\u001b[0;34m\u001b[0m\u001b[0;34m\u001b[0m\u001b[0m\n\u001b[0m\u001b[1;32m      5\u001b[0m \u001b[0;32mexcept\u001b[0m\u001b[0;34m:\u001b[0m\u001b[0;34m\u001b[0m\u001b[0;34m\u001b[0m\u001b[0m\n\u001b[1;32m      6\u001b[0m   \u001b[0mprint\u001b[0m\u001b[0;34m(\u001b[0m\u001b[0;34m'Failed error functions'\u001b[0m\u001b[0;34m)\u001b[0m\u001b[0;34m\u001b[0m\u001b[0;34m\u001b[0m\u001b[0m\n",
            "\u001b[0;31mRuntimeError\u001b[0m: "
          ]
        }
      ]
    },
    {
      "cell_type": "markdown",
      "metadata": {
        "id": "b82D6LfFn_1c"
      },
      "source": [
        "\r\n",
        "\r\n",
        "---\r\n",
        "### try-except構文に必ず実行される処理\r\n",
        "\r\n",
        "[*try--except--finally--try以外のerror*](https://)　の順番で実行。\r\n",
        "```\r\n",
        "# finally:\r\n",
        "```\r\n",
        "> 原則、tryが終わった後に必ず実行されるもの。\r\n",
        "\r\n",
        "> もしerrorは発生して、exceptに移った場合には、その前にfinallyは実行される。もし、except以外の例外処理の場合には、finally実行後に例外エラーが発生する。\r\n",
        "\r\n",
        "\r\n",
        "\r\n",
        "> try文に *return* *break* *continue* があり、それの後にfinallyが実行される。\r\n",
        "\r\n",
        "\r\n",
        "\r\n",
        "\r\n",
        "> finallyの *return* は try の *return* とは異なる。\r\n",
        "\r\n"
      ]
    },
    {
      "cell_type": "code",
      "metadata": {
        "colab": {
          "base_uri": "https://localhost:8080/"
        },
        "id": "6ywTSWJanUlm",
        "outputId": "0c33158f-5a72-43d5-8dfa-fef5613dfbf8"
      },
      "source": [
        "def bool_return():\r\n",
        "  try:\r\n",
        "    return True\r\n",
        "  finally:\r\n",
        "    return False\r\n",
        "bool_return()"
      ],
      "execution_count": 30,
      "outputs": [
        {
          "output_type": "execute_result",
          "data": {
            "text/plain": [
              "False"
            ]
          },
          "metadata": {
            "tags": []
          },
          "execution_count": 30
        }
      ]
    },
    {
      "cell_type": "code",
      "metadata": {
        "id": "7l3AFarGqUcn"
      },
      "source": [
        "def divide(x,y):\r\n",
        "  try:\r\n",
        "    result = x/y\r\n",
        "  except ZeroDivisionError as zero:\r\n",
        "    print('Error is ',zero)\r\n",
        "\r\n",
        "  else:\r\n",
        "    print('result is ',result)\r\n",
        "  finally:\r\n",
        "    print('executing finally clause')"
      ],
      "execution_count": 40,
      "outputs": []
    },
    {
      "cell_type": "markdown",
      "metadata": {
        "id": "4iRGTVtzrI8j"
      },
      "source": [
        "\r\n",
        "\r\n",
        "1.   try\r\n",
        "2.   else\r\n",
        "3.   finally\r\n",
        "\r\n"
      ]
    },
    {
      "cell_type": "code",
      "metadata": {
        "colab": {
          "base_uri": "https://localhost:8080/"
        },
        "id": "TJ1lInvMrElE",
        "outputId": "27e640fe-4ddb-4fb9-fe9b-d48203b9d9ea"
      },
      "source": [
        "divide(2,1)"
      ],
      "execution_count": 41,
      "outputs": [
        {
          "output_type": "stream",
          "text": [
            "result is  2.0\n",
            "executing finally clause\n"
          ],
          "name": "stdout"
        }
      ]
    },
    {
      "cell_type": "markdown",
      "metadata": {
        "id": "pI_mCgnPrjm7"
      },
      "source": [
        "\r\n",
        "\r\n",
        "1.   try\r\n",
        "2.   except ZeroDivision Error\r\n",
        "2.   finally\r\n",
        "\r\n"
      ]
    },
    {
      "cell_type": "code",
      "metadata": {
        "colab": {
          "base_uri": "https://localhost:8080/"
        },
        "id": "ZPktDg7nrGkN",
        "outputId": "520a06df-ce88-429f-b3f8-d29d5c97a6e1"
      },
      "source": [
        "divide(2,0)"
      ],
      "execution_count": 42,
      "outputs": [
        {
          "output_type": "stream",
          "text": [
            "Error is  division by zero\n",
            "executing finally clause\n"
          ],
          "name": "stdout"
        }
      ]
    },
    {
      "cell_type": "markdown",
      "metadata": {
        "id": "IjognE_IsE5s"
      },
      "source": [
        "\r\n",
        "\r\n",
        "1.   try\r\n",
        "2.   finally\r\n",
        "3.   例外Error\r\n",
        "\r\n"
      ]
    },
    {
      "cell_type": "code",
      "metadata": {
        "colab": {
          "base_uri": "https://localhost:8080/",
          "height": 304
        },
        "id": "6CoLctIJrTXD",
        "outputId": "8da787b8-f05b-4724-bcdc-03b6dfc7f603"
      },
      "source": [
        "divide('2','1')"
      ],
      "execution_count": 43,
      "outputs": [
        {
          "output_type": "stream",
          "text": [
            "executing finally clause\n"
          ],
          "name": "stdout"
        },
        {
          "output_type": "error",
          "ename": "TypeError",
          "evalue": "ignored",
          "traceback": [
            "\u001b[0;31m---------------------------------------------------------------------------\u001b[0m",
            "\u001b[0;31mTypeError\u001b[0m                                 Traceback (most recent call last)",
            "\u001b[0;32m<ipython-input-43-3e0cebdb37b4>\u001b[0m in \u001b[0;36m<module>\u001b[0;34m()\u001b[0m\n\u001b[0;32m----> 1\u001b[0;31m \u001b[0mdivide\u001b[0m\u001b[0;34m(\u001b[0m\u001b[0;34m'2'\u001b[0m\u001b[0;34m,\u001b[0m\u001b[0;34m'1'\u001b[0m\u001b[0;34m)\u001b[0m\u001b[0;34m\u001b[0m\u001b[0;34m\u001b[0m\u001b[0m\n\u001b[0m",
            "\u001b[0;32m<ipython-input-40-38e320424705>\u001b[0m in \u001b[0;36mdivide\u001b[0;34m(x, y)\u001b[0m\n\u001b[1;32m      1\u001b[0m \u001b[0;32mdef\u001b[0m \u001b[0mdivide\u001b[0m\u001b[0;34m(\u001b[0m\u001b[0mx\u001b[0m\u001b[0;34m,\u001b[0m\u001b[0my\u001b[0m\u001b[0;34m)\u001b[0m\u001b[0;34m:\u001b[0m\u001b[0;34m\u001b[0m\u001b[0;34m\u001b[0m\u001b[0m\n\u001b[1;32m      2\u001b[0m   \u001b[0;32mtry\u001b[0m\u001b[0;34m:\u001b[0m\u001b[0;34m\u001b[0m\u001b[0;34m\u001b[0m\u001b[0m\n\u001b[0;32m----> 3\u001b[0;31m     \u001b[0mresult\u001b[0m \u001b[0;34m=\u001b[0m \u001b[0mx\u001b[0m\u001b[0;34m/\u001b[0m\u001b[0my\u001b[0m\u001b[0;34m\u001b[0m\u001b[0;34m\u001b[0m\u001b[0m\n\u001b[0m\u001b[1;32m      4\u001b[0m   \u001b[0;32mexcept\u001b[0m \u001b[0mZeroDivisionError\u001b[0m \u001b[0;32mas\u001b[0m \u001b[0mzero\u001b[0m\u001b[0;34m:\u001b[0m\u001b[0;34m\u001b[0m\u001b[0;34m\u001b[0m\u001b[0m\n\u001b[1;32m      5\u001b[0m     \u001b[0mprint\u001b[0m\u001b[0;34m(\u001b[0m\u001b[0;34m'Error is '\u001b[0m\u001b[0;34m,\u001b[0m\u001b[0mzero\u001b[0m\u001b[0;34m)\u001b[0m\u001b[0;34m\u001b[0m\u001b[0;34m\u001b[0m\u001b[0m\n",
            "\u001b[0;31mTypeError\u001b[0m: unsupported operand type(s) for /: 'str' and 'str'"
          ]
        }
      ]
    }
  ]
}