{
  "nbformat": 4,
  "nbformat_minor": 0,
  "metadata": {
    "colab": {
      "name": "session4.ipynb",
      "provenance": [],
      "authorship_tag": "ABX9TyOFDgYmHhQnhPSeiMQCAODu",
      "include_colab_link": true
    },
    "kernelspec": {
      "name": "python3",
      "display_name": "Python 3"
    }
  },
  "cells": [
    {
      "cell_type": "markdown",
      "metadata": {
        "id": "view-in-github",
        "colab_type": "text"
      },
      "source": [
        "<a href=\"https://colab.research.google.com/github/kooose38/python-reference/blob/master/session4.ipynb\" target=\"_parent\"><img src=\"https://colab.research.google.com/assets/colab-badge.svg\" alt=\"Open In Colab\"/></a>"
      ]
    },
    {
      "cell_type": "markdown",
      "metadata": {
        "id": "NPkTyuePYPI9"
      },
      "source": [
        "# if\r\n",
        "\r\n",
        "\r\n",
        "```\r\n",
        " if elif else\r\n",
        "```\r\n",
        "\r\n"
      ]
    },
    {
      "cell_type": "markdown",
      "metadata": {
        "id": "KdMp33HHYn_a"
      },
      "source": [
        "intなら[ x ]()に代入、それ以外ならエラー。"
      ]
    },
    {
      "cell_type": "code",
      "metadata": {
        "colab": {
          "base_uri": "https://localhost:8080/"
        },
        "id": "Fui7ToxCYKub",
        "outputId": "03382cf0-d539-4752-eb69-c1ed8c1988e2"
      },
      "source": [
        "x = int(input('Please enter an interger: '))"
      ],
      "execution_count": 2,
      "outputs": [
        {
          "output_type": "stream",
          "text": [
            "Please enter an interger: 12\n"
          ],
          "name": "stdout"
        }
      ]
    },
    {
      "cell_type": "code",
      "metadata": {
        "colab": {
          "base_uri": "https://localhost:8080/"
        },
        "id": "yivUytnbYiwu",
        "outputId": "91ded417-21a7-4c44-edcf-3fac5b49d114"
      },
      "source": [
        "if x < 0:\r\n",
        "  x=0\r\n",
        "elif x == 0:\r\n",
        "  print('Zero')\r\n",
        "elif x == 1:\r\n",
        "  print(\"Single\")\r\n",
        "else:\r\n",
        "  print('More') # 12"
      ],
      "execution_count": 3,
      "outputs": [
        {
          "output_type": "stream",
          "text": [
            "More\n"
          ],
          "name": "stdout"
        }
      ]
    },
    {
      "cell_type": "markdown",
      "metadata": {
        "id": "JeBXYJw7ZJHg"
      },
      "source": [
        "# for \r\n"
      ]
    },
    {
      "cell_type": "code",
      "metadata": {
        "colab": {
          "base_uri": "https://localhost:8080/"
        },
        "id": "JcdET3FMY-iz",
        "outputId": "4895d985-3a36-4f33-ed11-6fd2c524ff5a"
      },
      "source": [
        "words = ['cat', 'dog', 'window','thresfold']\r\n",
        "\r\n",
        "for w in words:\r\n",
        "  print(w, len(w))"
      ],
      "execution_count": 4,
      "outputs": [
        {
          "output_type": "stream",
          "text": [
            "cat 3\n",
            "dog 3\n",
            "window 6\n",
            "thresfold 9\n"
          ],
          "name": "stdout"
        }
      ]
    },
    {
      "cell_type": "markdown",
      "metadata": {
        "id": "w_CNAPIoZlxR"
      },
      "source": [
        "for --> objectへの処理"
      ]
    },
    {
      "cell_type": "code",
      "metadata": {
        "colab": {
          "base_uri": "https://localhost:8080/"
        },
        "id": "ZtaEKta6ZZtp",
        "outputId": "9b4a9ce2-f64a-42e0-8710-4e0a333d6d6c"
      },
      "source": [
        "users = { 'hello':'inactive', 'name': 'active', 'jojo': 'break' }\r\n",
        "\r\n",
        "active_user = {}\r\n",
        "\r\n",
        "for user,status in users.items():\r\n",
        "  if status == 'active':\r\n",
        "    active_user[user] = status\r\n",
        "active_user"
      ],
      "execution_count": 6,
      "outputs": [
        {
          "output_type": "execute_result",
          "data": {
            "text/plain": [
              "{'name': 'active'}"
            ]
          },
          "metadata": {
            "tags": []
          },
          "execution_count": 6
        }
      ]
    },
    {
      "cell_type": "markdown",
      "metadata": {
        "id": "d5wzTO9laZyY"
      },
      "source": [
        "# range()\r\n",
        "\r\n",
        "> なお、start値は必ず含み、stop値は含まない。\r\n",
        "```\r\n",
        " range( start, stop, step )\r\n",
        "```\r\n",
        "返す値は**List**ではない。  \r\n",
        "\r\n"
      ]
    },
    {
      "cell_type": "code",
      "metadata": {
        "colab": {
          "base_uri": "https://localhost:8080/"
        },
        "id": "MF3SaexOaM7D",
        "outputId": "da3fceea-31e7-4d32-ceef-a2867e1f41df"
      },
      "source": [
        "range(5),range(5,10),range(-10,-100,-30),range(2,2)"
      ],
      "execution_count": 10,
      "outputs": [
        {
          "output_type": "execute_result",
          "data": {
            "text/plain": [
              "(range(0, 5), range(5, 10), range(-10, -100, -30), range(2, 2))"
            ]
          },
          "metadata": {
            "tags": []
          },
          "execution_count": 10
        }
      ]
    },
    {
      "cell_type": "code",
      "metadata": {
        "colab": {
          "base_uri": "https://localhost:8080/"
        },
        "id": "nUrUGkztawUL",
        "outputId": "251cdf0e-4fcf-4ada-82c2-178d5b3a955a"
      },
      "source": [
        "sum(range(1,10))"
      ],
      "execution_count": 8,
      "outputs": [
        {
          "output_type": "execute_result",
          "data": {
            "text/plain": [
              "45"
            ]
          },
          "metadata": {
            "tags": []
          },
          "execution_count": 8
        }
      ]
    },
    {
      "cell_type": "markdown",
      "metadata": {
        "id": "BkK09dgCbOtW"
      },
      "source": [
        "list()でList化できる。"
      ]
    },
    {
      "cell_type": "code",
      "metadata": {
        "colab": {
          "base_uri": "https://localhost:8080/"
        },
        "id": "EAIYcXDpbKta",
        "outputId": "5864ae73-3f1a-4b28-8f16-45750f56cf3b"
      },
      "source": [
        "list(range(1,10)),list(range(2,2))"
      ],
      "execution_count": 11,
      "outputs": [
        {
          "output_type": "execute_result",
          "data": {
            "text/plain": [
              "([1, 2, 3, 4, 5, 6, 7, 8, 9], [])"
            ]
          },
          "metadata": {
            "tags": []
          },
          "execution_count": 11
        }
      ]
    },
    {
      "cell_type": "markdown",
      "metadata": {
        "id": "3yXUy_zMdem4"
      },
      "source": [
        "**for文にelseを使用。**  \r\n",
        "forの処理が[ if ]() に当てはまらなければ[ else ]()に進む。"
      ]
    },
    {
      "cell_type": "code",
      "metadata": {
        "colab": {
          "base_uri": "https://localhost:8080/"
        },
        "id": "PIgHDuXmbOJK",
        "outputId": "f7470c3d-3a50-4a88-d8bb-c0940d370b65"
      },
      "source": [
        "for n in range(2,10):\r\n",
        "  for x in range(2,n):\r\n",
        "    if n%x == 0: # すべてのxを条件表示\r\n",
        "      print(n, 'equal', x, '*', x)\r\n",
        "      break; #当てはまれば終了\r\n",
        "  else: \r\n",
        "    print(n, 'is a prime number')"
      ],
      "execution_count": 21,
      "outputs": [
        {
          "output_type": "stream",
          "text": [
            "2 is a prime number\n",
            "3 is a prime number\n",
            "4 equal 2 * 2\n",
            "5 is a prime number\n",
            "6 equal 2 * 2\n",
            "7 is a prime number\n",
            "8 equal 2 * 2\n",
            "9 equal 3 * 3\n"
          ],
          "name": "stdout"
        }
      ]
    },
    {
      "cell_type": "markdown",
      "metadata": {
        "id": "DHvMcWVMe6jr"
      },
      "source": [
        "continueの使用"
      ]
    },
    {
      "cell_type": "code",
      "metadata": {
        "colab": {
          "base_uri": "https://localhost:8080/"
        },
        "id": "v3QlnLQ7brZy",
        "outputId": "d91c7183-8b2c-456f-c039-3735996caacf"
      },
      "source": [
        "for num in range(2, 10):\r\n",
        "  if num%2 == 0:\r\n",
        "    print('Found an even number', num)\r\n",
        "    continue; # 上に戻る\r\n",
        "  print('Found an odd number', num)"
      ],
      "execution_count": 24,
      "outputs": [
        {
          "output_type": "stream",
          "text": [
            "Found an even number 2\n",
            "Found an odd number 3\n",
            "Found an even number 4\n",
            "Found an odd number 5\n",
            "Found an even number 6\n",
            "Found an odd number 7\n",
            "Found an even number 8\n",
            "Found an odd number 9\n"
          ],
          "name": "stdout"
        }
      ]
    },
    {
      "cell_type": "markdown",
      "metadata": {
        "id": "Gu4nB5mdfH1v"
      },
      "source": [
        "pass...何も処理がないとき"
      ]
    },
    {
      "cell_type": "code",
      "metadata": {
        "id": "ALed3d-qcK8J"
      },
      "source": [
        "while True:\r\n",
        "  pass"
      ],
      "execution_count": null,
      "outputs": []
    },
    {
      "cell_type": "markdown",
      "metadata": {
        "id": "n6RXY_xQgFwC"
      },
      "source": [
        "# 関数\r\n",
        "### 関数の引数\r\n",
        "defaultの値の指定する例。"
      ]
    },
    {
      "cell_type": "code",
      "metadata": {
        "id": "p6IuwyfNfFMx"
      },
      "source": [
        "def sample_func(prompt, retries=4, reminder='Please try again!'):\r\n",
        "  '''This is the sample functional'''\r\n",
        "  while True:\r\n",
        "    ok = input(prompt)\r\n",
        "    if ok in ('y', 'ye', 'yes'): # 文字列が含まれているかどうか？\r\n",
        "      return True\r\n",
        "    elif ok in ('n', 'no', 'nop', 'nope'):\r\n",
        "      return False\r\n",
        "    retries = retries -1\r\n",
        "    if retries < 0:\r\n",
        "      raise ValueError('invalid user response')\r\n",
        "    print(reminder)"
      ],
      "execution_count": 28,
      "outputs": []
    },
    {
      "cell_type": "markdown",
      "metadata": {
        "id": "Vz4O1rGnhIV7"
      },
      "source": [
        "呼び出し方。  \r\n",
        "3pattern\r\n",
        "\r\n",
        "\r\n",
        "1.   sample_func('Do you really want to quit?')\r\n",
        "2.   sample_func('OK to overwrite the file?', 2)\r\n",
        "2.   sample_func('OK to overwrite the file', 2, 'Come on only yes or no!')\r\n",
        "\r\n"
      ]
    },
    {
      "cell_type": "code",
      "metadata": {
        "colab": {
          "base_uri": "https://localhost:8080/"
        },
        "id": "IX7KIc8MhHD1",
        "outputId": "28fa2588-a9ba-46d9-81de-084e0c020c30"
      },
      "source": [
        "sample_func('hello?')"
      ],
      "execution_count": 33,
      "outputs": [
        {
          "output_type": "stream",
          "text": [
            "hello?n\n"
          ],
          "name": "stdout"
        },
        {
          "output_type": "execute_result",
          "data": {
            "text/plain": [
              "False"
            ]
          },
          "metadata": {
            "tags": []
          },
          "execution_count": 33
        }
      ]
    },
    {
      "cell_type": "markdown",
      "metadata": {
        "id": "ntO1CPHPiXm2"
      },
      "source": [
        "scope"
      ]
    },
    {
      "cell_type": "code",
      "metadata": {
        "colab": {
          "base_uri": "https://localhost:8080/"
        },
        "id": "Ub5_8gflhyGq",
        "outputId": "91106274-55b6-47e3-92f5-fe8425144897"
      },
      "source": [
        "i = 5\r\n",
        "\r\n",
        "def f(arg=i):\r\n",
        "  print(arg)\r\n",
        "\r\n",
        "i = 6\r\n",
        "f()"
      ],
      "execution_count": 34,
      "outputs": [
        {
          "output_type": "stream",
          "text": [
            "5\n"
          ],
          "name": "stdout"
        }
      ]
    },
    {
      "cell_type": "markdown",
      "metadata": {
        "id": "W-Lp16mLiwju"
      },
      "source": [
        "Listは可変。"
      ]
    },
    {
      "cell_type": "code",
      "metadata": {
        "colab": {
          "base_uri": "https://localhost:8080/"
        },
        "id": "yrNBKnGmigA6",
        "outputId": "c61d02fb-5752-45e9-8515-a00457c51937"
      },
      "source": [
        "def f(a, L=[]):\r\n",
        "  L.append(a)\r\n",
        "  return L\r\n",
        "\r\n",
        "print(f(1))\r\n",
        "print(f(2))\r\n",
        "print(f(3))"
      ],
      "execution_count": 36,
      "outputs": [
        {
          "output_type": "stream",
          "text": [
            "[1]\n",
            "[1, 2]\n",
            "[1, 2, 3]\n"
          ],
          "name": "stdout"
        }
      ]
    },
    {
      "cell_type": "markdown",
      "metadata": {
        "id": "XAL8QX_kjRTS"
      },
      "source": [
        "関数の実行度にcopyする"
      ]
    },
    {
      "cell_type": "code",
      "metadata": {
        "colab": {
          "base_uri": "https://localhost:8080/"
        },
        "id": "r3YJD3W0iuDp",
        "outputId": "06e1866f-34d6-4902-e412-cf7bee2eb5e6"
      },
      "source": [
        "def f(a, L=[]):\r\n",
        "  LL=L.copy()\r\n",
        "  LL.append(a)\r\n",
        "  return LL\r\n",
        "\r\n",
        "\r\n",
        "print(f(1))\r\n",
        "print(f(2))\r\n",
        "print(f(3))"
      ],
      "execution_count": 40,
      "outputs": [
        {
          "output_type": "stream",
          "text": [
            "[1]\n",
            "[2]\n",
            "[3]\n"
          ],
          "name": "stdout"
        }
      ]
    },
    {
      "cell_type": "markdown",
      "metadata": {
        "id": "vZgGdRtekAth"
      },
      "source": [
        "#キーワード引数\r\n",
        "\r\n",
        "**キーワード引数は位置引数の後でなければならない**"
      ]
    },
    {
      "cell_type": "code",
      "metadata": {
        "colab": {
          "base_uri": "https://localhost:8080/"
        },
        "id": "USY1fOqDjJGw",
        "outputId": "ed15074a-f987-4d17-aefd-d7ecd804963f"
      },
      "source": [
        "sample_func(\"hello\",retries=4)"
      ],
      "execution_count": 41,
      "outputs": [
        {
          "output_type": "stream",
          "text": [
            "helloy\n"
          ],
          "name": "stdout"
        },
        {
          "output_type": "execute_result",
          "data": {
            "text/plain": [
              "True"
            ]
          },
          "metadata": {
            "tags": []
          },
          "execution_count": 41
        }
      ]
    },
    {
      "cell_type": "code",
      "metadata": {
        "colab": {
          "base_uri": "https://localhost:8080/",
          "height": 134
        },
        "id": "Y9cy8iPZj-A3",
        "outputId": "8f962335-5de5-4ef0-d3a8-fa14212b9372"
      },
      "source": [
        "sample_func(prompt='hello',23)"
      ],
      "execution_count": 42,
      "outputs": [
        {
          "output_type": "error",
          "ename": "SyntaxError",
          "evalue": "ignored",
          "traceback": [
            "\u001b[0;36m  File \u001b[0;32m\"<ipython-input-42-bbc37d177321>\"\u001b[0;36m, line \u001b[0;32m1\u001b[0m\n\u001b[0;31m    sample_func(prompt='hello',23)\u001b[0m\n\u001b[0m                              ^\u001b[0m\n\u001b[0;31mSyntaxError\u001b[0m\u001b[0;31m:\u001b[0m positional argument follows keyword argument\n"
          ]
        }
      ]
    },
    {
      "cell_type": "code",
      "metadata": {
        "colab": {
          "base_uri": "https://localhost:8080/"
        },
        "id": "z_9XMsjWkVy4",
        "outputId": "80e99cbd-4ea3-43d3-e2ce-93400a02f9f7"
      },
      "source": [
        "sample_func('Ok?',23,reminder='jojo')"
      ],
      "execution_count": 43,
      "outputs": [
        {
          "output_type": "stream",
          "text": [
            "Ok?y\n"
          ],
          "name": "stdout"
        },
        {
          "output_type": "execute_result",
          "data": {
            "text/plain": [
              "True"
            ]
          },
          "metadata": {
            "tags": []
          },
          "execution_count": 43
        }
      ]
    },
    {
      "cell_type": "markdown",
      "metadata": {
        "id": "CAsc3r6mmCw7"
      },
      "source": [
        "特殊な引数\r\n",
        "\r\n",
        "\r\n",
        "> \\*\\*nameには**object**が,\\*nameには*残りの引数すべて*が代入される。\r\n",
        "```\r\n",
        " *name **name\r\n",
        "```\r\n",
        "\r\n",
        "> [ / ]()の前は位置引数が、[ * ]()の後にはキーワード引数で指定。\r\n",
        "```\r\n",
        " def f(pos1, pos2, / , pos_or_kwd, *, kwd1, kwd2) \r\n",
        "```\r\n",
        "\r\n",
        "\r\n"
      ]
    },
    {
      "cell_type": "code",
      "metadata": {
        "colab": {
          "base_uri": "https://localhost:8080/"
        },
        "id": "oTsMBkuzkjhX",
        "outputId": "8d5232de-bdb5-45b0-c156-598041ac444e"
      },
      "source": [
        "def func(kind, *argment, **keywords):\r\n",
        "  print('-- Do you have any', kind, '?')\r\n",
        "\r\n",
        "  for arg in argment:\r\n",
        "    print(arg)\r\n",
        "  for key,value in keywords.items():\r\n",
        "    print(key, ':', value)\r\n",
        "\r\n",
        "func('Limburger', 'HELLO WORLD', 'YOU CAN IT', name='jojo', age='month', go='lang')"
      ],
      "execution_count": 47,
      "outputs": [
        {
          "output_type": "stream",
          "text": [
            "-- Do you have any Limburger ?\n",
            "HELLO WORLD\n",
            "YOU CAN IT\n",
            "name : jojo\n",
            "age : month\n",
            "go : lang\n"
          ],
          "name": "stdout"
        }
      ]
    },
    {
      "cell_type": "code",
      "metadata": {
        "id": "6q90-3OBl_jZ"
      },
      "source": [
        "def fn(pos, /, standard, *, kwd):\r\n",
        "  return True\r\n",
        "\r\n",
        "fn('jojo', standard='hello', kwd=12) # True\r\n",
        "fn('jojo', 'hello', kwd=12) # True\r\n",
        "fn('jojo', standard='hello', 12) # Error\r\n",
        "fn(pos='jojo', standard='hello', kwd=12) # Error"
      ],
      "execution_count": null,
      "outputs": []
    },
    {
      "cell_type": "code",
      "metadata": {
        "colab": {
          "base_uri": "https://localhost:8080/"
        },
        "id": "T-grA0oSoKVk",
        "outputId": "096209c4-4e84-44b1-cf68-d38926491751"
      },
      "source": [
        ""
      ],
      "execution_count": 49,
      "outputs": [
        {
          "output_type": "stream",
          "text": [
            "sampole\n"
          ],
          "name": "stdout"
        }
      ]
    },
    {
      "cell_type": "markdown",
      "metadata": {
        "id": "vWNDnTq1qCvp"
      },
      "source": [
        "## ＊　＊＊　について\r\n",
        "**引数で使用する時の逆の動作**\r\n",
        "\r\n",
        "[ *arg ]()によってリストが分解"
      ]
    },
    {
      "cell_type": "code",
      "metadata": {
        "colab": {
          "base_uri": "https://localhost:8080/"
        },
        "id": "3b3DQVfto1VP",
        "outputId": "6bc0d9df-1bd9-43a8-995c-aba68df602b0"
      },
      "source": [
        "arg=[2,10]\r\n",
        "list(range(*arg))"
      ],
      "execution_count": 56,
      "outputs": [
        {
          "output_type": "execute_result",
          "data": {
            "text/plain": [
              "[2, 3, 4, 5, 6, 7, 8, 9]"
            ]
          },
          "metadata": {
            "tags": []
          },
          "execution_count": 56
        }
      ]
    },
    {
      "cell_type": "markdown",
      "metadata": {
        "id": "Sv258-qlq9Jd"
      },
      "source": [
        "[ **d ]() によって辞書の分解。"
      ]
    },
    {
      "cell_type": "code",
      "metadata": {
        "colab": {
          "base_uri": "https://localhost:8080/"
        },
        "id": "M3YA-KNqpvg_",
        "outputId": "84a3403a-e706-42ad-e6e7-9d44bcda127d"
      },
      "source": [
        "def parrot(vol, state='a staff', action='voom'):\r\n",
        "  print(vol)\r\n",
        "  print(state)\r\n",
        "  print(action)\r\n",
        "\r\n",
        "d = {'vol': 'hey!', 'state': 'A_STAFF', 'action': 'VOOM'}\r\n",
        "parrot(**d)"
      ],
      "execution_count": 58,
      "outputs": [
        {
          "output_type": "stream",
          "text": [
            "hey!\n",
            "A_STAFF\n",
            "VOOM\n"
          ],
          "name": "stdout"
        }
      ]
    },
    {
      "cell_type": "markdown",
      "metadata": {
        "id": "GLuAqLmOrmCx"
      },
      "source": [
        "### lambda関数\r\n"
      ]
    },
    {
      "cell_type": "code",
      "metadata": {
        "colab": {
          "base_uri": "https://localhost:8080/"
        },
        "id": "-dqjbskmq5lY",
        "outputId": "af91fccb-390c-49a4-fdc9-77e5951b67d3"
      },
      "source": [
        "def make_increment(n):\r\n",
        "  return lambda x: x+n\r\n",
        "\r\n",
        "f=make_increment(40)\r\n",
        "f(1) # lambda引数"
      ],
      "execution_count": 60,
      "outputs": [
        {
          "output_type": "execute_result",
          "data": {
            "text/plain": [
              "41"
            ]
          },
          "metadata": {
            "tags": []
          },
          "execution_count": 60
        }
      ]
    },
    {
      "cell_type": "markdown",
      "metadata": {
        "id": "Rx0N4ZLms9gh"
      },
      "source": [
        "第二引数のStingのsort"
      ]
    },
    {
      "cell_type": "code",
      "metadata": {
        "colab": {
          "base_uri": "https://localhost:8080/"
        },
        "id": "D1zE9Vr1r5J_",
        "outputId": "8217e93a-61a9-476a-9780-346f90eb6751"
      },
      "source": [
        "pairs=[(1, 'one'), (2, 'two'), (3, 'three'), (4, 'four')]\r\n",
        "pairs.sort(key=lambda x: x[1])\r\n",
        "pairs"
      ],
      "execution_count": 71,
      "outputs": [
        {
          "output_type": "execute_result",
          "data": {
            "text/plain": [
              "[(4, 'four'), (1, 'one'), (3, 'three'), (2, 'two')]"
            ]
          },
          "metadata": {
            "tags": []
          },
          "execution_count": 71
        }
      ]
    },
    {
      "cell_type": "markdown",
      "metadata": {
        "id": "XQqGKOtHuFK3"
      },
      "source": [
        "関数のdocument  \r\n",
        "\r\n",
        "[ \\_\\_doc__ ]()で参照する。"
      ]
    },
    {
      "cell_type": "code",
      "metadata": {
        "colab": {
          "base_uri": "https://localhost:8080/"
        },
        "id": "OZAGuVC0sUDg",
        "outputId": "29b5e057-8933-4dc0-ad0c-ad713ca48443"
      },
      "source": [
        "def my_func():\r\n",
        "  '''Do nothing , but document it.\r\n",
        "\r\n",
        "  No, really, it do not anything\r\n",
        "  '''\r\n",
        "  return False\r\n",
        "\r\n",
        "print(my_func.__doc__)\r\n"
      ],
      "execution_count": 72,
      "outputs": [
        {
          "output_type": "stream",
          "text": [
            "Do nothing , but document it.\n",
            "\n",
            "  No, really, it do not anything\n",
            "  \n"
          ],
          "name": "stdout"
        }
      ]
    },
    {
      "cell_type": "markdown",
      "metadata": {
        "id": "pKRH6pHBvCvG"
      },
      "source": [
        "関数のmetadata"
      ]
    },
    {
      "cell_type": "code",
      "metadata": {
        "colab": {
          "base_uri": "https://localhost:8080/"
        },
        "id": "fzjrb2FWssO-",
        "outputId": "ae66575e-fb48-44d8-bf4e-98a8566a32b8"
      },
      "source": [
        "def f(ham: str, egg: str = 'eggs') -> str:\r\n",
        "  print(\"Annotations\", f.__annotations__)\r\n",
        "  print('Argment :', ham,egg)\r\n",
        "\r\n",
        "f('spam')"
      ],
      "execution_count": 74,
      "outputs": [
        {
          "output_type": "stream",
          "text": [
            "Annotations {'ham': <class 'str'>, 'egg': <class 'str'>, 'return': <class 'str'>}\n",
            "Argment : spam eggs\n"
          ],
          "name": "stdout"
        }
      ]
    },
    {
      "cell_type": "markdown",
      "metadata": {
        "id": "Tvc3mfiZvmx1"
      },
      "source": [
        "\r\n",
        "\r\n",
        "---\r\n",
        "\r\n",
        "\r\n",
        "### よりきれいなコードを保つために気を付けること\r\n",
        "\r\n",
        "\r\n",
        "*   indentには空白４文字を使いTabは使わないこと\r\n",
        "*   可能なら、コメントは独立した行に書くこと\r\n",
        "*   関数内にdocumentを入れること\r\n",
        "*   演算子の後とコンマの後には空白を入れ、カッコ類の内側には空白を入れないこと\r\n",
        "\r\n",
        "\r\n",
        "```\r\n",
        " a = f(1, 2) + g(3, 4)\r\n",
        "```\r\n",
        "\r\n",
        "\r\n",
        "*   クラス名に[ UpperCameCase ]()を、関数名には[ lowercase_with_underscores ]()を使う\r\n",
        "*   utf-8またはASCIIでcoding設定する。\r\n",
        "\r\n",
        "\r\n"
      ]
    },
    {
      "cell_type": "code",
      "metadata": {
        "id": "7brlG1n1u-ad"
      },
      "source": [
        ""
      ],
      "execution_count": null,
      "outputs": []
    }
  ]
}